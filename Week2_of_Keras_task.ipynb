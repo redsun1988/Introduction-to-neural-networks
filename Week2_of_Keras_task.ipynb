{
  "nbformat": 4,
  "nbformat_minor": 0,
  "metadata": {
    "colab": {
      "name": "Week2_of Keras-task.ipynb",
      "version": "0.3.2",
      "provenance": [],
      "include_colab_link": true
    },
    "language_info": {
      "codemirror_mode": {
        "name": "ipython",
        "version": 3
      },
      "file_extension": ".py",
      "mimetype": "text/x-python",
      "name": "python",
      "nbconvert_exporter": "python",
      "pygments_lexer": "ipython3",
      "version": "3.6.5"
    },
    "kernelspec": {
      "name": "python3",
      "display_name": "Python 3"
    },
    "accelerator": "GPU"
  },
  "cells": [
    {
      "cell_type": "markdown",
      "metadata": {
        "id": "view-in-github",
        "colab_type": "text"
      },
      "source": [
        "<a href=\"https://colab.research.google.com/github/redsun1988/Introduction-to-neural-networks/blob/master/Week2_of_Keras_task.ipynb\" target=\"_parent\"><img src=\"https://colab.research.google.com/assets/colab-badge.svg\" alt=\"Open In Colab\"/></a>"
      ]
    },
    {
      "cell_type": "markdown",
      "metadata": {
        "id": "fQt8M_1SOJlt",
        "colab_type": "text"
      },
      "source": [
        "# Getting deeper with Keras\n",
        "* Tensorflow is a powerful and flexible tool, but coding large neural architectures with it is tedious.\n",
        "* There are plenty of deep learning toolkits that work on top of it like Slim, TFLearn, Sonnet, Keras.\n",
        "* Choice is matter of taste and particular task\n",
        "* We'll be using Keras"
      ]
    },
    {
      "cell_type": "code",
      "metadata": {
        "id": "hCGd-fRYOwl5",
        "colab_type": "code",
        "outputId": "a0b1f8d6-5850-4d3d-c25e-6088644db2b1",
        "colab": {
          "base_uri": "https://localhost:8080/",
          "height": 319
        }
      },
      "source": [
        "! shred -u setup_google_colab.py\n",
        "! wget https://raw.githubusercontent.com/hse-aml/intro-to-dl/master/setup_google_colab.py -O setup_google_colab.py\n",
        "import setup_google_colab\n",
        "# please, uncomment the week you're working on\n",
        "\n",
        "setup_google_colab.setup_week2()"
      ],
      "execution_count": 0,
      "outputs": [
        {
          "output_type": "stream",
          "text": [
            "shred: setup_google_colab.py: failed to open for writing: No such file or directory\n",
            "--2019-07-02 19:55:27--  https://raw.githubusercontent.com/hse-aml/intro-to-dl/master/setup_google_colab.py\n",
            "Resolving raw.githubusercontent.com (raw.githubusercontent.com)... 151.101.0.133, 151.101.64.133, 151.101.128.133, ...\n",
            "Connecting to raw.githubusercontent.com (raw.githubusercontent.com)|151.101.0.133|:443... connected.\n",
            "HTTP request sent, awaiting response... 200 OK\n",
            "Length: 3792 (3.7K) [text/plain]\n",
            "Saving to: ‘setup_google_colab.py’\n",
            "\n",
            "setup_google_colab. 100%[===================>]   3.70K  --.-KB/s    in 0s      \n",
            "\n",
            "2019-07-02 19:55:28 (88.7 MB/s) - ‘setup_google_colab.py’ saved [3792/3792]\n",
            "\n",
            "**************************************************\n",
            "inception_v3_weights_tf_dim_ordering_tf_kernels_notop.h5\n",
            "****************************\n",
            "cifar-10-batches-py.tar.gz\n",
            "**************************************************\n",
            "mnist.npz\n"
          ],
          "name": "stdout"
        }
      ]
    },
    {
      "cell_type": "code",
      "metadata": {
        "id": "km1_K27mOJlv",
        "colab_type": "code",
        "colab": {}
      },
      "source": [
        "import sys\n",
        "sys.path.append(\"..\")\n",
        "import grading"
      ],
      "execution_count": 0,
      "outputs": []
    },
    {
      "cell_type": "code",
      "metadata": {
        "id": "ffclgdqnOJl0",
        "colab_type": "code",
        "colab": {}
      },
      "source": [
        "# use preloaded keras datasets and models\n",
        "! mkdir -p ~/.keras/datasets\n",
        "! mkdir -p ~/.keras/models\n",
        "! ln -s $(realpath ../readonly/keras/datasets/*) ~/.keras/datasets/\n",
        "! ln -s $(realpath ../readonly/keras/models/*) ~/.keras/models/"
      ],
      "execution_count": 0,
      "outputs": []
    },
    {
      "cell_type": "code",
      "metadata": {
        "id": "nTm5BWqhOJl3",
        "colab_type": "code",
        "outputId": "48ce352e-525e-4f88-a3ba-a1a6b4bda62f",
        "colab": {
          "base_uri": "https://localhost:8080/",
          "height": 34
        }
      },
      "source": [
        "import numpy as np\n",
        "from preprocessed_mnist import load_dataset\n",
        "import keras\n",
        "X_train, y_train, X_val, y_val, X_test, y_test = load_dataset()\n",
        "y_train,y_val,y_test = map(keras.utils.np_utils.to_categorical,[y_train,y_val,y_test])"
      ],
      "execution_count": 0,
      "outputs": [
        {
          "output_type": "stream",
          "text": [
            "Using TensorFlow backend.\n"
          ],
          "name": "stderr"
        }
      ]
    },
    {
      "cell_type": "code",
      "metadata": {
        "scrolled": true,
        "id": "svuBHezWOJl9",
        "colab_type": "code",
        "outputId": "7e8fc629-bf40-48e5-b485-a87c66386ac9",
        "colab": {
          "base_uri": "https://localhost:8080/",
          "height": 269
        }
      },
      "source": [
        "import matplotlib.pyplot as plt\n",
        "%matplotlib inline\n",
        "plt.imshow(X_train[0]);"
      ],
      "execution_count": 0,
      "outputs": [
        {
          "output_type": "display_data",
          "data": {
            "image/png": "[encoded data removed]",
            "text/plain": [
              "<Figure size 432x288 with 1 Axes>"
            ]
          },
          "metadata": {
            "tags": []
          }
        }
      ]
    },
    {
      "cell_type": "markdown",
      "metadata": {
        "id": "e8fAqwrEOJmC",
        "colab_type": "text"
      },
      "source": [
        "## The pretty keras"
      ]
    },
    {
      "cell_type": "code",
      "metadata": {
        "id": "t7yP4CPoOJmD",
        "colab_type": "code",
        "colab": {}
      },
      "source": [
        "import tensorflow as tf\n",
        "from keras_utils import reset_tf_session\n",
        "s = reset_tf_session()"
      ],
      "execution_count": 0,
      "outputs": []
    },
    {
      "cell_type": "code",
      "metadata": {
        "id": "4HV_ssrLOJmG",
        "colab_type": "code",
        "colab": {}
      },
      "source": [
        "import keras\n",
        "from keras.models import Sequential\n",
        "import keras.layers as ll\n",
        "\n",
        "model = Sequential(name=\"mlp\")\n",
        "\n",
        "model.add(ll.InputLayer([28, 28]))\n",
        "\n",
        "model.add(ll.Flatten())\n",
        "\n",
        "# network body\n",
        "model.add(ll.Dense(120))\n",
        "model.add(ll.Activation('sigmoid'))\n",
        "\n",
        "model.add(ll.Dense(25))\n",
        "model.add(ll.Activation('sigmoid'))\n",
        "\n",
        "# output layer: 10 neurons for each class with softmax\n",
        "model.add(ll.Dense(10, activation='softmax'))\n",
        "\n",
        "# categorical_crossentropy is your good old crossentropy\n",
        "# but applied for one-hot-encoded vectors\n",
        "model.compile(\"adam\", \"categorical_crossentropy\", metrics=[\"accuracy\"])"
      ],
      "execution_count": 0,
      "outputs": []
    },
    {
      "cell_type": "code",
      "metadata": {
        "id": "xt0tiKbCOJmJ",
        "colab_type": "code",
        "outputId": "255082ef-981c-4c89-b513-417c9cb82b3d",
        "colab": {
          "base_uri": "https://localhost:8080/",
          "height": 370
        }
      },
      "source": [
        "model.summary()"
      ],
      "execution_count": 0,
      "outputs": [
        {
          "output_type": "stream",
          "text": [
            "_________________________________________________________________\n",
            "Layer (type)                 Output Shape              Param #   \n",
            "=================================================================\n",
            "input_1 (InputLayer)         (None, 28, 28)            0         \n",
            "_________________________________________________________________\n",
            "flatten_1 (Flatten)          (None, 784)               0         \n",
            "_________________________________________________________________\n",
            "dense_1 (Dense)              (None, 120)               94200     \n",
            "_________________________________________________________________\n",
            "activation_1 (Activation)    (None, 120)               0         \n",
            "_________________________________________________________________\n",
            "dense_2 (Dense)              (None, 25)                3025      \n",
            "_________________________________________________________________\n",
            "activation_2 (Activation)    (None, 25)                0         \n",
            "_________________________________________________________________\n",
            "dense_3 (Dense)              (None, 10)                260       \n",
            "=================================================================\n",
            "Total params: 97,485\n",
            "Trainable params: 97,485\n",
            "Non-trainable params: 0\n",
            "_________________________________________________________________\n"
          ],
          "name": "stdout"
        }
      ]
    },
    {
      "cell_type": "markdown",
      "metadata": {
        "id": "Sm6-N-NaOJmN",
        "colab_type": "text"
      },
      "source": [
        "### Model interface\n",
        "\n",
        "Keras models follow __Scikit-learn__'s interface of fit/predict with some notable extensions. Let's take a tour."
      ]
    },
    {
      "cell_type": "code",
      "metadata": {
        "id": "609jkvtiOJmO",
        "colab_type": "code",
        "outputId": "1a1b9046-11f8-4575-cf67-c36cf5d54d69",
        "colab": {
          "base_uri": "https://localhost:8080/",
          "height": 538
        }
      },
      "source": [
        "# fit(X,y) ships with a neat automatic logging.\n",
        "#          Highly customizable under the hood.\n",
        "model.fit(X_train, y_train,\n",
        "          validation_data=(X_val, y_val), epochs=15);"
      ],
      "execution_count": 0,
      "outputs": [
        {
          "output_type": "stream",
          "text": [
            "Train on 50000 samples, validate on 10000 samples\n",
            "Epoch 1/15\n",
            "50000/50000 [==============================] - 6s - loss: 0.0729 - acc: 0.9795 - val_loss: 0.0895 - val_acc: 0.9737\n",
            "Epoch 2/15\n",
            "50000/50000 [==============================] - 6s - loss: 0.0598 - acc: 0.9831 - val_loss: 0.0899 - val_acc: 0.9732\n",
            "Epoch 3/15\n",
            "50000/50000 [==============================] - 6s - loss: 0.0490 - acc: 0.9867 - val_loss: 0.0799 - val_acc: 0.9768\n",
            "Epoch 4/15\n",
            "50000/50000 [==============================] - 6s - loss: 0.0406 - acc: 0.9891 - val_loss: 0.0807 - val_acc: 0.9759\n",
            "Epoch 5/15\n",
            "50000/50000 [==============================] - 6s - loss: 0.0330 - acc: 0.9913 - val_loss: 0.0834 - val_acc: 0.9762\n",
            "Epoch 6/15\n",
            "50000/50000 [==============================] - 6s - loss: 0.0269 - acc: 0.9934 - val_loss: 0.0801 - val_acc: 0.9765\n",
            "Epoch 7/15\n",
            "50000/50000 [==============================] - 6s - loss: 0.0221 - acc: 0.9950 - val_loss: 0.0811 - val_acc: 0.9761\n",
            "Epoch 8/15\n",
            "50000/50000 [==============================] - 6s - loss: 0.0179 - acc: 0.9960 - val_loss: 0.0792 - val_acc: 0.9774\n",
            "Epoch 9/15\n",
            "50000/50000 [==============================] - 6s - loss: 0.0145 - acc: 0.9969 - val_loss: 0.0854 - val_acc: 0.9767\n",
            "Epoch 10/15\n",
            "50000/50000 [==============================] - 6s - loss: 0.0121 - acc: 0.9974 - val_loss: 0.0842 - val_acc: 0.9760\n",
            "Epoch 11/15\n",
            "50000/50000 [==============================] - 6s - loss: 0.0096 - acc: 0.9982 - val_loss: 0.0841 - val_acc: 0.9767\n",
            "Epoch 12/15\n",
            "50000/50000 [==============================] - 6s - loss: 0.0075 - acc: 0.9987 - val_loss: 0.0853 - val_acc: 0.9772\n",
            "Epoch 13/15\n",
            "50000/50000 [==============================] - 6s - loss: 0.0060 - acc: 0.9992 - val_loss: 0.0873 - val_acc: 0.9784\n",
            "Epoch 14/15\n",
            "50000/50000 [==============================] - 6s - loss: 0.0053 - acc: 0.9990 - val_loss: 0.0879 - val_acc: 0.9775\n",
            "Epoch 15/15\n",
            "50000/50000 [==============================] - 6s - loss: 0.0042 - acc: 0.9995 - val_loss: 0.0880 - val_acc: 0.9788\n"
          ],
          "name": "stdout"
        }
      ]
    },
    {
      "cell_type": "code",
      "metadata": {
        "id": "dXrXIXr0OJmR",
        "colab_type": "code",
        "outputId": "29c7195f-9006-4efe-936d-27014226030c",
        "colab": {
          "base_uri": "https://localhost:8080/",
          "height": 134
        }
      },
      "source": [
        "# estimate probabilities P(y|x)\n",
        "model.predict_proba(X_val[:2])"
      ],
      "execution_count": 0,
      "outputs": [
        {
          "output_type": "stream",
          "text": [
            "\r2/2 [==============================] - 0s\n"
          ],
          "name": "stdout"
        },
        {
          "output_type": "execute_result",
          "data": {
            "text/plain": [
              "array([[8.8316288e-10, 1.3421995e-07, 5.3452152e-07, 9.9999595e-01,\n",
              "        1.4349193e-11, 1.4071168e-06, 4.1545348e-10, 1.0613577e-08,\n",
              "        1.4596675e-06, 5.4320731e-07],\n",
              "       [1.7915908e-09, 1.2223562e-08, 3.1934755e-07, 1.3002623e-06,\n",
              "        1.9571020e-07, 1.0692682e-07, 4.1946127e-08, 1.3782478e-09,\n",
              "        9.9999774e-01, 2.6328979e-07]], dtype=float32)"
            ]
          },
          "metadata": {
            "tags": []
          },
          "execution_count": 47
        }
      ]
    },
    {
      "cell_type": "code",
      "metadata": {
        "id": "1bZzTY3jOJmW",
        "colab_type": "code",
        "colab": {}
      },
      "source": [
        "# Save trained weights\n",
        "model.save(\"weights.h5\")"
      ],
      "execution_count": 0,
      "outputs": []
    },
    {
      "cell_type": "code",
      "metadata": {
        "id": "jR2UZQQSOJmY",
        "colab_type": "code",
        "outputId": "60c2b07b-0233-487d-bd0d-6f64fae5d8cc",
        "colab": {
          "base_uri": "https://localhost:8080/",
          "height": 50
        }
      },
      "source": [
        "print(\"\\nLoss, Accuracy = \", model.evaluate(X_test, y_test))"
      ],
      "execution_count": 0,
      "outputs": [
        {
          "output_type": "stream",
          "text": [
            " 9984/10000 [============================>.] - ETA: 0s\n",
            "Loss, Accuracy =  [0.08629054103391827, 0.9773]\n"
          ],
          "name": "stdout"
        }
      ]
    },
    {
      "cell_type": "markdown",
      "metadata": {
        "id": "QKWHy0K8OJmc",
        "colab_type": "text"
      },
      "source": [
        "### Whoops!\n",
        "So far, our model is staggeringly inefficient. There is something wrong with it. Guess, what?"
      ]
    },
    {
      "cell_type": "code",
      "metadata": {
        "id": "pcov1y22OJmd",
        "colab_type": "code",
        "outputId": "d3e62245-9b9d-48b6-d6bf-12f5488573ca",
        "colab": {
          "base_uri": "https://localhost:8080/",
          "height": 67
        }
      },
      "source": [
        "# Test score...\n",
        "test_predictions = model.predict_proba(X_test).argmax(axis=-1)\n",
        "test_answers = y_test.argmax(axis=-1)\n",
        "\n",
        "test_accuracy = np.mean(test_predictions==test_answers)\n",
        "\n",
        "print(\"\\nTest accuracy: {} %\".format(test_accuracy*100))\n",
        "\n",
        "assert test_accuracy>=0.92,\"Logistic regression can do better!\"\n",
        "assert test_accuracy>=0.975,\"Your network can do better!\"\n",
        "print(\"Great job!\")"
      ],
      "execution_count": 0,
      "outputs": [
        {
          "output_type": "stream",
          "text": [
            " 9248/10000 [==========================>...] - ETA: 0s\n",
            "Test accuracy: 97.72999999999999 %\n",
            "Great job!\n"
          ],
          "name": "stdout"
        }
      ]
    },
    {
      "cell_type": "code",
      "metadata": {
        "id": "lOL-4iukOJmn",
        "colab_type": "code",
        "colab": {}
      },
      "source": [
        "answer_submitter = grading.Grader(\"0ybD9ZxxEeea8A6GzH-6CA\")\n",
        "answer_submitter.set_answer(\"N56DR\", test_accuracy)"
      ],
      "execution_count": 0,
      "outputs": []
    },
    {
      "cell_type": "code",
      "metadata": {
        "id": "5v-clxOiOJmq",
        "colab_type": "code",
        "outputId": "aeb7b64a-ba1c-400e-d3c0-d049d00f535c",
        "colab": {
          "base_uri": "https://localhost:8080/",
          "height": 34
        }
      },
      "source": [
        "answer_submitter.submit(\"redsun1988@rambler.ru\", \"Ypr1kAQ4mQXzlsEa\")"
      ],
      "execution_count": 0,
      "outputs": [
        {
          "output_type": "stream",
          "text": [
            "You used a token for \"MNIST digits classification with TF\" in \"Introduction to Deep Learning\". Please use a token for the assignment you are submitting.\n"
          ],
          "name": "stdout"
        }
      ]
    },
    {
      "cell_type": "markdown",
      "metadata": {
        "id": "IB8hX2J0OJmt",
        "colab_type": "text"
      },
      "source": [
        "## Keras + tensorboard\n",
        "\n",
        "Remember the interactive graphs from Tensorboard one notebook ago? \n",
        "\n",
        "Thing is, Keras can use tensorboard to show you a lot of useful information about the learning progress. Just take a look!"
      ]
    },
    {
      "cell_type": "code",
      "metadata": {
        "id": "Sny4Mv0ZOJmu",
        "colab_type": "code",
        "outputId": "74049c83-28b8-417c-bf2a-a8219a3c8ed0",
        "colab": {
          "base_uri": "https://localhost:8080/",
          "height": 34
        }
      },
      "source": [
        "! rm -r /tmp/tboard/**"
      ],
      "execution_count": 0,
      "outputs": [
        {
          "output_type": "stream",
          "text": [
            "rm: cannot remove '/tmp/tboard/**': No such file or directory\n"
          ],
          "name": "stdout"
        }
      ]
    },
    {
      "cell_type": "code",
      "metadata": {
        "id": "xyuXNuWSOJm5",
        "colab_type": "code",
        "outputId": "d57c76a4-15b9-4907-e099-e5c232d09af4",
        "colab": {
          "base_uri": "https://localhost:8080/",
          "height": 474
        }
      },
      "source": [
        "from keras.callbacks import TensorBoard\n",
        "model.fit(X_train, y_train, validation_data=(X_val, y_val), \n",
        "          epochs=10,\n",
        "          callbacks=[TensorBoard(\"/tmp/tboard\")])"
      ],
      "execution_count": 0,
      "outputs": [
        {
          "output_type": "stream",
          "text": [
            "W0702 20:18:37.185787 139989977253760 deprecation_wrapper.py:119] From /usr/local/lib/python3.6/dist-packages/keras/callbacks.py:699: The name tf.summary.merge_all is deprecated. Please use tf.compat.v1.summary.merge_all instead.\n",
            "\n",
            "W0702 20:18:37.188994 139989977253760 deprecation_wrapper.py:119] From /usr/local/lib/python3.6/dist-packages/keras/callbacks.py:702: The name tf.summary.FileWriter is deprecated. Please use tf.compat.v1.summary.FileWriter instead.\n",
            "\n"
          ],
          "name": "stderr"
        },
        {
          "output_type": "stream",
          "text": [
            "Train on 50000 samples, validate on 10000 samples\n",
            "Epoch 1/10\n",
            "50000/50000 [==============================] - 6s - loss: 0.0028 - acc: 0.9997 - val_loss: 0.0894 - val_acc: 0.9795\n",
            "Epoch 2/10\n",
            "50000/50000 [==============================] - 6s - loss: 0.0038 - acc: 0.9992 - val_loss: 0.0964 - val_acc: 0.9782\n",
            "Epoch 3/10\n",
            "50000/50000 [==============================] - 6s - loss: 0.0021 - acc: 0.9998 - val_loss: 0.0894 - val_acc: 0.9801\n",
            "Epoch 4/10\n",
            "50000/50000 [==============================] - 6s - loss: 0.0034 - acc: 0.9990 - val_loss: 0.1037 - val_acc: 0.9768\n",
            "Epoch 5/10\n",
            "50000/50000 [==============================] - 6s - loss: 0.0014 - acc: 0.9999 - val_loss: 0.0953 - val_acc: 0.9779\n",
            "Epoch 6/10\n",
            "50000/50000 [==============================] - 6s - loss: 6.1752e-04 - acc: 1.0000 - val_loss: 0.0967 - val_acc: 0.9787\n",
            "Epoch 7/10\n",
            "50000/50000 [==============================] - 6s - loss: 0.0049 - acc: 0.9985 - val_loss: 0.1022 - val_acc: 0.9767\n",
            "Epoch 8/10\n",
            "50000/50000 [==============================] - 6s - loss: 8.3124e-04 - acc: 1.0000 - val_loss: 0.0984 - val_acc: 0.9796\n",
            "Epoch 9/10\n",
            "50000/50000 [==============================] - 6s - loss: 4.2769e-04 - acc: 1.0000 - val_loss: 0.0971 - val_acc: 0.9800\n",
            "Epoch 10/10\n",
            "50000/50000 [==============================] - 6s - loss: 0.0040 - acc: 0.9988 - val_loss: 0.0994 - val_acc: 0.9808\n"
          ],
          "name": "stdout"
        },
        {
          "output_type": "execute_result",
          "data": {
            "text/plain": [
              "<keras.callbacks.History at 0x7f518a533e10>"
            ]
          },
          "metadata": {
            "tags": []
          },
          "execution_count": 56
        }
      ]
    },
    {
      "cell_type": "markdown",
      "metadata": {
        "id": "ypve0R-9OJm9",
        "colab_type": "text"
      },
      "source": [
        "# Tips & tricks\n",
        "\n",
        "Here are some tips on what you could do. Don't worry, to reach the passing threshold you don't need to try all the ideas listed here, feel free to stop once you reach the 0.975 accuracy mark.\n",
        "\n",
        " * __Network size__\n",
        "   * More neurons, \n",
        "   * More layers, ([docs](https://keras.io/))\n",
        "\n",
        "   * Nonlinearities in the hidden layers\n",
        "     * tanh, relu, leaky relu, etc\n",
        "   * Larger networks may take more epochs to train, so don't discard your net just because it could didn't beat the baseline in 5 epochs.\n",
        "\n",
        "\n",
        " * __Early Stopping__\n",
        "   * Training for 100 epochs regardless of anything is probably a bad idea.\n",
        "   * Some networks converge over 5 epochs, others - over 500.\n",
        "   * Way to go: stop when validation score is 10 iterations past maximum\n",
        "     \n",
        "\n",
        " * __Faster optimization__\n",
        "   * rmsprop, nesterov_momentum, adam, adagrad and so on.\n",
        "     * Converge faster and sometimes reach better optima\n",
        "     * It might make sense to tweak learning rate/momentum, other learning parameters, batch size and number of epochs\n",
        "\n",
        "\n",
        " * __Regularize__ to prevent overfitting\n",
        "   * Add some L2 weight norm to the loss function, theano will do the rest\n",
        "     * Can be done manually or via - https://keras.io/regularizers/\n",
        "   \n",
        "   \n",
        " * __Data augmemntation__ - getting 5x as large dataset for free is a great deal\n",
        "   * https://keras.io/preprocessing/image/\n",
        "   * Zoom-in+slice = move\n",
        "   * Rotate+zoom(to remove black stripes)\n",
        "   * any other perturbations\n",
        "   * Simple way to do that (if you have PIL/Image): \n",
        "     * ```from scipy.misc import imrotate,imresize```\n",
        "     * and a few slicing\n",
        "   * Stay realistic. There's usually no point in flipping dogs upside down as that is not the way you usually see them."
      ]
    }
  ]
}