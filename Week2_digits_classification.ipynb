{
  "nbformat": 4,
  "nbformat_minor": 0,
  "metadata": {
    "colab": {
      "name": "Week2_digits_classification.ipynb",
      "version": "0.3.2",
      "provenance": [],
      "collapsed_sections": [],
      "include_colab_link": true
    },
    "language_info": {
      "codemirror_mode": {
        "name": "ipython",
        "version": 3
      },
      "file_extension": ".py",
      "mimetype": "text/x-python",
      "name": "python",
      "nbconvert_exporter": "python",
      "pygments_lexer": "ipython3",
      "version": "3.6.5"
    },
    "kernelspec": {
      "name": "python3",
      "display_name": "Python 3"
    },
    "accelerator": "GPU"
  },
  "cells": [
    {
      "cell_type": "markdown",
      "metadata": {
        "id": "view-in-github",
        "colab_type": "text"
      },
      "source": [
        "<a href=\"https://colab.research.google.com/github/redsun1988/Introduction-to-neural-networks/blob/master/Week2_digits_classification.ipynb\" target=\"_parent\"><img src=\"https://colab.research.google.com/assets/colab-badge.svg\" alt=\"Open In Colab\"/></a>"
      ]
    },
    {
      "cell_type": "markdown",
      "metadata": {
        "id": "RmpHMENzyoRv",
        "colab_type": "text"
      },
      "source": [
        "# MNIST digits classification with TensorFlow"
      ]
    },
    {
      "cell_type": "code",
      "metadata": {
        "id": "NjmA4rEsyy9S",
        "colab_type": "code",
        "outputId": "724c5420-05db-4fc0-871f-0b1e668be180",
        "colab": {
          "base_uri": "https://localhost:8080/",
          "height": 319
        }
      },
      "source": [
        "! shred -u setup_google_colab.py\n",
        "! wget https://raw.githubusercontent.com/hse-aml/intro-to-dl/master/setup_google_colab.py -O setup_google_colab.py\n",
        "import setup_google_colab\n",
        "# please, uncomment the week you're working on\n",
        "setup_google_colab.setup_week2()"
      ],
      "execution_count": 0,
      "outputs": [
        {
          "output_type": "stream",
          "text": [
            "shred: setup_google_colab.py: failed to open for writing: No such file or directory\n",
            "--2019-07-02 04:03:33--  https://raw.githubusercontent.com/hse-aml/intro-to-dl/master/setup_google_colab.py\n",
            "Resolving raw.githubusercontent.com (raw.githubusercontent.com)... 151.101.0.133, 151.101.64.133, 151.101.128.133, ...\n",
            "Connecting to raw.githubusercontent.com (raw.githubusercontent.com)|151.101.0.133|:443... connected.\n",
            "HTTP request sent, awaiting response... 200 OK\n",
            "Length: 3792 (3.7K) [text/plain]\n",
            "Saving to: ‘setup_google_colab.py’\n",
            "\n",
            "setup_google_colab. 100%[===================>]   3.70K  --.-KB/s    in 0s      \n",
            "\n",
            "2019-07-02 04:03:34 (44.4 MB/s) - ‘setup_google_colab.py’ saved [3792/3792]\n",
            "\n",
            "**************************************************\n",
            "inception_v3_weights_tf_dim_ordering_tf_kernels_notop.h5\n",
            "**************************************************\n",
            "cifar-10-batches-py.tar.gz\n",
            "**************************************************\n",
            "mnist.npz\n"
          ],
          "name": "stdout"
        }
      ]
    },
    {
      "cell_type": "markdown",
      "metadata": {
        "id": "Pz3goBDHyoRy",
        "colab_type": "text"
      },
      "source": [
        "<img src=\"https://github.com/hse-aml/intro-to-dl/blob/master/week2/v2/images/mnist_sample.png?raw=1\" style=\"width:30%\">"
      ]
    },
    {
      "cell_type": "code",
      "metadata": {
        "id": "1vl9ljawyoRz",
        "colab_type": "code",
        "outputId": "d06c27e5-15c5-4b81-eb3f-cc31fbd785b1",
        "colab": {
          "base_uri": "https://localhost:8080/",
          "height": 50
        }
      },
      "source": [
        "import numpy as np\n",
        "from sklearn.metrics import accuracy_score\n",
        "from matplotlib import pyplot as plt\n",
        "%matplotlib inline\n",
        "import tensorflow as tf\n",
        "print(\"We're using TF\", tf.__version__)\n",
        "\n",
        "import sys\n",
        "sys.path.append(\"../..\")\n",
        "import grading\n",
        "\n",
        "import matplotlib_utils\n",
        "from importlib import reload\n",
        "reload(matplotlib_utils)\n",
        "\n",
        "import grading_utils\n",
        "reload(grading_utils)\n",
        "\n",
        "import keras_utils\n",
        "from keras_utils import reset_tf_session"
      ],
      "execution_count": 0,
      "outputs": [
        {
          "output_type": "stream",
          "text": [
            "We're using TF 1.14.0\n"
          ],
          "name": "stdout"
        },
        {
          "output_type": "stream",
          "text": [
            "Using TensorFlow backend.\n"
          ],
          "name": "stderr"
        }
      ]
    },
    {
      "cell_type": "markdown",
      "metadata": {
        "id": "xixRTSBpyoR2",
        "colab_type": "text"
      },
      "source": [
        "# Fill in your Coursera token and email\n",
        "To successfully submit your answers to our grader, please fill in your Coursera submission token and email"
      ]
    },
    {
      "cell_type": "code",
      "metadata": {
        "id": "qocgOQozyoR3",
        "colab_type": "code",
        "colab": {}
      },
      "source": [
        "grader = grading.Grader(assignment_key=\"XtD7ho3TEeiHQBLWejjYAA\", \n",
        "                        all_parts=[\"9XaAS\", \"vmogZ\", \"RMv95\", \"i8bgs\", \"rE763\"])"
      ],
      "execution_count": 0,
      "outputs": []
    },
    {
      "cell_type": "code",
      "metadata": {
        "id": "hkBl3VSJyoR6",
        "colab_type": "code",
        "colab": {}
      },
      "source": [
        "# token expires every 30 min\n",
        "COURSERA_TOKEN = \"EIjjggnMSQvZVeAM\"\n",
        "COURSERA_EMAIL = \"redsun1988@rambler.ru\""
      ],
      "execution_count": 0,
      "outputs": []
    },
    {
      "cell_type": "markdown",
      "metadata": {
        "id": "PhwsDFYjyoR9",
        "colab_type": "text"
      },
      "source": [
        "# Look at the data\n",
        "\n",
        "In this task we have 50000 28x28 images of digits from 0 to 9.\n",
        "We will train a classifier on this data."
      ]
    },
    {
      "cell_type": "code",
      "metadata": {
        "id": "YXR3EZ3xyoR-",
        "colab_type": "code",
        "outputId": "00b67922-3ea0-410c-8e2e-1e6f34074141",
        "colab": {
          "base_uri": "https://localhost:8080/",
          "height": 50
        }
      },
      "source": [
        "import preprocessed_mnist\n",
        "X_train, y_train, X_val, y_val, X_test, y_test = preprocessed_mnist.load_dataset()"
      ],
      "execution_count": 0,
      "outputs": [
        {
          "output_type": "stream",
          "text": [
            "Downloading data from https://s3.amazonaws.com/img-datasets/mnist.npz\n",
            "10747904/11490434 [===========================>..] - ETA: 0s"
          ],
          "name": "stdout"
        }
      ]
    },
    {
      "cell_type": "code",
      "metadata": {
        "id": "0mD5u0-SyoSB",
        "colab_type": "code",
        "outputId": "c391da7d-b2cd-49fb-9aab-582b893362a6",
        "colab": {
          "base_uri": "https://localhost:8080/",
          "height": 689
        }
      },
      "source": [
        "# X contains rgb values divided by 255\n",
        "print(\"X_train [shape %s] sample patch:\\n\" % (str(X_train.shape)), X_train[1, 15:20, 5:10])\n",
        "print(\"A closeup of a sample patch:\")\n",
        "plt.imshow(X_train[1, 15:20, 5:10], cmap=\"Greys\")\n",
        "plt.show()\n",
        "print(\"And the whole sample:\")\n",
        "plt.imshow(X_train[1], cmap=\"Greys\")\n",
        "plt.show()\n",
        "print(\"y_train [shape %s] 10 samples:\\n\" % (str(y_train.shape)), y_train[:10])"
      ],
      "execution_count": 0,
      "outputs": [
        {
          "output_type": "stream",
          "text": [
            "X_train [shape (50000, 28, 28)] sample patch:\n",
            " [[0.         0.29803922 0.96470588 0.98823529 0.43921569]\n",
            " [0.         0.33333333 0.98823529 0.90196078 0.09803922]\n",
            " [0.         0.33333333 0.98823529 0.8745098  0.        ]\n",
            " [0.         0.33333333 0.98823529 0.56862745 0.        ]\n",
            " [0.         0.3372549  0.99215686 0.88235294 0.        ]]\n",
            "A closeup of a sample patch:\n"
          ],
          "name": "stdout"
        },
        {
          "output_type": "display_data",
          "data": {
            "image/png": "[encoded data removed]",
            "text/plain": [
              "<Figure size 432x288 with 1 Axes>"
            ]
          },
          "metadata": {
            "tags": []
          }
        },
        {
          "output_type": "stream",
          "text": [
            "And the whole sample:\n"
          ],
          "name": "stdout"
        },
        {
          "output_type": "display_data",
          "data": {
            "image/png": "[encoded data removed]",
            "text/plain": [
              "<Figure size 432x288 with 1 Axes>"
            ]
          },
          "metadata": {
            "tags": []
          }
        },
        {
          "output_type": "stream",
          "text": [
            "y_train [shape (50000,)] 10 samples:\n",
            " [5 0 4 1 9 2 1 3 1 4]\n"
          ],
          "name": "stdout"
        }
      ]
    },
    {
      "cell_type": "markdown",
      "metadata": {
        "id": "7L66Ts2PyoSD",
        "colab_type": "text"
      },
      "source": [
        "# Linear model\n",
        "\n",
        "Your task is to train a linear classifier $\\vec{x} \\rightarrow y$ with SGD using TensorFlow.\n",
        "\n",
        "You will need to calculate a logit (a linear transformation) $z_k$ for each class: \n",
        "$$z_k = \\vec{x} \\cdot \\vec{w_k} + b_k \\quad k = 0..9$$\n",
        "\n",
        "And transform logits $z_k$ to valid probabilities $p_k$ with softmax: \n",
        "$$p_k = \\frac{e^{z_k}}{\\sum_{i=0}^{9}{e^{z_i}}} \\quad k = 0..9$$\n",
        "\n",
        "We will use a cross-entropy loss to train our multi-class classifier:\n",
        "$$\\text{cross-entropy}(y, p) = -\\sum_{k=0}^{9}{\\log(p_k)[y = k]}$$ \n",
        "\n",
        "where \n",
        "$$\n",
        "[x]=\\begin{cases}\n",
        "       1, \\quad \\text{if $x$ is true} \\\\\n",
        "       0, \\quad \\text{otherwise}\n",
        "    \\end{cases}\n",
        "$$\n",
        "\n",
        "Cross-entropy minimization pushes $p_k$ close to 1 when $y = k$, which is what we want.\n",
        "\n",
        "Here's the plan:\n",
        "* Flatten the images (28x28 -> 784) with `X_train.reshape((X_train.shape[0], -1))` to simplify our linear model implementation\n",
        "* Use a matrix placeholder for flattened `X_train`\n",
        "* Convert `y_train` to one-hot encoded vectors that are needed for cross-entropy\n",
        "* Use a shared variable `W` for all weights (a column $\\vec{w_k}$ per class) and `b` for all biases.\n",
        "* Aim for ~0.93 validation accuracy"
      ]
    },
    {
      "cell_type": "code",
      "metadata": {
        "id": "IuejmGQ4yoSE",
        "colab_type": "code",
        "outputId": "13078d3d-689c-403e-b3b7-6a84d489189e",
        "colab": {
          "base_uri": "https://localhost:8080/",
          "height": 50
        }
      },
      "source": [
        "X_train_flat = X_train.reshape((X_train.shape[0], -1))\n",
        "print(X_train_flat.shape)\n",
        "\n",
        "X_val_flat = X_val.reshape((X_val.shape[0], -1))\n",
        "print(X_val_flat.shape)"
      ],
      "execution_count": 0,
      "outputs": [
        {
          "output_type": "stream",
          "text": [
            "(50000, 784)\n",
            "(10000, 784)\n"
          ],
          "name": "stdout"
        }
      ]
    },
    {
      "cell_type": "code",
      "metadata": {
        "id": "3KTMSI_MyoSH",
        "colab_type": "code",
        "outputId": "1d9abdd7-ce95-4fa8-a446-5e252dd718bc",
        "colab": {
          "base_uri": "https://localhost:8080/",
          "height": 84
        }
      },
      "source": [
        "import keras\n",
        "\n",
        "y_train_oh = keras.utils.to_categorical(y_train, 10)\n",
        "y_val_oh = keras.utils.to_categorical(y_val, 10)\n",
        "\n",
        "print(y_train_oh.shape)\n",
        "print(y_train_oh[:3], y_train[:3])"
      ],
      "execution_count": 0,
      "outputs": [
        {
          "output_type": "stream",
          "text": [
            "(50000, 10)\n",
            "[[0. 0. 0. 0. 0. 1. 0. 0. 0. 0.]\n",
            " [1. 0. 0. 0. 0. 0. 0. 0. 0. 0.]\n",
            " [0. 0. 0. 0. 1. 0. 0. 0. 0. 0.]] [5 0 4]\n"
          ],
          "name": "stdout"
        }
      ]
    },
    {
      "cell_type": "code",
      "metadata": {
        "id": "EMYy-8fQyoSK",
        "colab_type": "code",
        "colab": {}
      },
      "source": [
        "# run this again if you remake your graph\n",
        "s = reset_tf_session()"
      ],
      "execution_count": 0,
      "outputs": []
    },
    {
      "cell_type": "code",
      "metadata": {
        "id": "sI92baaFwgwv",
        "colab_type": "code",
        "outputId": "32dc239e-08c9-4046-ab08-2f5a93d31c5b",
        "colab": {
          "base_uri": "https://localhost:8080/",
          "height": 34
        }
      },
      "source": [
        "print(X_train_flat.shape[1])"
      ],
      "execution_count": 0,
      "outputs": [
        {
          "output_type": "stream",
          "text": [
            "784\n"
          ],
          "name": "stdout"
        }
      ]
    },
    {
      "cell_type": "code",
      "metadata": {
        "id": "0C5UcIHqyoSS",
        "colab_type": "code",
        "outputId": "f1a02a3c-8c2a-447b-8518-52e73125bc4a",
        "colab": {
          "base_uri": "https://localhost:8080/",
          "height": 87
        }
      },
      "source": [
        "# Model parameters: W and b\n",
        "W = tf.get_variable(\"models_params\",shape=(X_train_flat.shape[1], 10), dtype = \"float32\") ### tf.get_variable(...) with shape[0] = 784\n",
        "b = tf.get_variable(\"bieses\", shape=(10), dtype = \"float32\") ### tf.get_variable(...)"
      ],
      "execution_count": 0,
      "outputs": [
        {
          "output_type": "stream",
          "text": [
            "W0702 04:03:54.935740 140401625421696 deprecation.py:506] From /usr/local/lib/python3.6/dist-packages/tensorflow/python/ops/init_ops.py:1251: calling VarianceScaling.__init__ (from tensorflow.python.ops.init_ops) with dtype is deprecated and will be removed in a future version.\n",
            "Instructions for updating:\n",
            "Call initializer instance with the dtype argument instead of passing it to the constructor\n"
          ],
          "name": "stderr"
        }
      ]
    },
    {
      "cell_type": "code",
      "metadata": {
        "id": "34haoxiUyoSW",
        "colab_type": "code",
        "colab": {}
      },
      "source": [
        "# Placeholders for the input data\n",
        "input_X = tf.placeholder(\"float32\", shape=(None, X_train_flat.shape[1])) ### tf.placeholder(...) for flat X with shape[0] = None for any batch size\n",
        "input_y = tf.placeholder(\"float32\", shape=(None,10)) ### tf.placeholder(...) for one-hot encoded true labels"
      ],
      "execution_count": 0,
      "outputs": []
    },
    {
      "cell_type": "code",
      "metadata": {
        "id": "rulIPcj0yoSZ",
        "colab_type": "code",
        "outputId": "49a97ec5-087e-404b-bed7-2ce29bd41fd0",
        "colab": {
          "base_uri": "https://localhost:8080/",
          "height": 171
        }
      },
      "source": [
        "# Compute predictions\n",
        "logits = tf.add(tf.matmul(input_X, W), b) ### logits for input_X, resulting shape should be [input_X.shape[0], 10]\n",
        "probas = tf.nn.softmax(logits) ### apply tf.nn.softmax to logits\n",
        "classes = tf.argmax(probas, axis=1) ### apply tf.argmax to find a class index with highest probability\n",
        "\n",
        "# Loss should be a scalar number: average loss over all the objects with tf.reduce_mean().\n",
        "# Use tf.nn.softmax_cross_entropy_with_logits on top of one-hot encoded input_y and logits.\n",
        "# It is identical to calculating cross-entropy on top of probas, but is more numerically friendly (read the docs).\n",
        "loss = tf.reduce_mean(tf.nn.softmax_cross_entropy_with_logits(labels=input_y, logits=logits)) ### cross-entropy loss\n",
        "\n",
        "# Use a default tf.train.AdamOptimizer to get an SGD step\n",
        "step = tf.train.AdamOptimizer().minimize(loss) ### optimizer step that minimizes the loss"
      ],
      "execution_count": 0,
      "outputs": [
        {
          "output_type": "stream",
          "text": [
            "W0702 04:03:55.004442 140401625421696 deprecation.py:323] From <ipython-input-13-4ab0bee23c00>:8: softmax_cross_entropy_with_logits (from tensorflow.python.ops.nn_ops) is deprecated and will be removed in a future version.\n",
            "Instructions for updating:\n",
            "\n",
            "Future major versions of TensorFlow will allow gradients to flow\n",
            "into the labels input on backprop by default.\n",
            "\n",
            "See `tf.nn.softmax_cross_entropy_with_logits_v2`.\n",
            "\n"
          ],
          "name": "stderr"
        }
      ]
    },
    {
      "cell_type": "code",
      "metadata": {
        "id": "BH_a13D5CckE",
        "colab_type": "code",
        "outputId": "89ed12e3-8229-42d9-f53d-bf36ccd7df00",
        "colab": {
          "base_uri": "https://localhost:8080/",
          "height": 54
        }
      },
      "source": [
        "#Just for testing\n",
        "'''\n",
        "s.run(tf.global_variables_initializer())\n",
        "\n",
        "BATCH_SIZE = 124\n",
        "EPOCHS = 40\n",
        "\n",
        "print(np.array(s.run([tf.argmax(probas, axis=1)], {input_X: X_train_flat, \n",
        "                                             input_y: y_train_oh})).shape)\n",
        "'''\n"
      ],
      "execution_count": 0,
      "outputs": [
        {
          "output_type": "execute_result",
          "data": {
            "text/plain": [
              "'\\ns.run(tf.global_variables_initializer())\\n\\nBATCH_SIZE = 124\\nEPOCHS = 40\\n\\nprint(np.array(s.run([tf.argmax(probas, axis=1)], {input_X: X_train_flat, \\n                                             input_y: y_train_oh})).shape)\\n'"
            ]
          },
          "metadata": {
            "tags": []
          },
          "execution_count": 14
        }
      ]
    },
    {
      "cell_type": "code",
      "metadata": {
        "scrolled": false,
        "id": "LynWNRdyyoSc",
        "colab_type": "code",
        "outputId": "08911cec-622d-4d4b-e5d4-a8fedfec9bab",
        "colab": {
          "base_uri": "https://localhost:8080/",
          "height": 309
        }
      },
      "source": [
        "s.run(tf.global_variables_initializer())\n",
        "\n",
        "BATCH_SIZE = 124\n",
        "EPOCHS = 40\n",
        "\n",
        "# for logging the progress right here in Jupyter (for those who don't have TensorBoard)\n",
        "simpleTrainingCurves = matplotlib_utils.SimpleTrainingCurves(\"cross-entropy\", \"accuracy\")\n",
        "\n",
        "for epoch in range(EPOCHS):  # we finish an epoch when we've looked at all training samples\n",
        "    \n",
        "    batch_losses = []\n",
        "    for batch_start in range(0, X_train_flat.shape[0], BATCH_SIZE):  # data is already shuffled\n",
        "        _, batch_loss = s.run([step, loss], {input_X: X_train_flat[batch_start:batch_start+BATCH_SIZE], \n",
        "                                             input_y: y_train_oh[batch_start:batch_start+BATCH_SIZE]})\n",
        "        # collect batch losses, this is almost free as we need a forward pass for backprop anyway\n",
        "        batch_losses.append(batch_loss)\n",
        "\n",
        "    train_loss = np.mean(batch_losses)\n",
        "    val_loss = s.run(loss, {input_X: X_val_flat, input_y: y_val_oh})  # this part is usually small\n",
        "    train_accuracy = accuracy_score(y_train, s.run(classes, {input_X: X_train_flat}))  # this is slow and usually skipped\n",
        "    valid_accuracy = accuracy_score(y_val, s.run(classes, {input_X: X_val_flat}))  \n",
        "    simpleTrainingCurves.add(train_loss, val_loss, train_accuracy, valid_accuracy)"
      ],
      "execution_count": 0,
      "outputs": [
        {
          "output_type": "display_data",
          "data": {
            "text/html": [
              "<img src=\"data:image/jpeg;base64,/9j/4AAQSkZJRgABAQEASABIAAD/2wBDAAIBAQEBAQIBAQECAgICAgQDAgICAgUEBAMEBgUGBgYFBgYGBwkIBgcJBwYGCAsICQoKCgoKBggLDAsKDAkKCgr/2wBDAQICAgICAgUDAwUKBwYHCgoKCgoKCgoKCgoKCgoKCgoKCgoKCgoKCgoKCgoKCgoKCgoKCgoKCgoKCgoKCgoKCgr/wAARCAEgA2ADASIAAhEBAxEB/8QAHwAAAQUBAQEBAQEAAAAAAAAAAAECAwQFBgcICQoL/8QAtRAAAgEDAwIEAwUFBAQAAAF9AQIDAAQRBRIhMUEGE1FhByJxFDKBkaEII0KxwRVS0fAkM2JyggkKFhcYGRolJicoKSo0NTY3ODk6Q0RFRkdISUpTVFVWV1hZWmNkZWZnaGlqc3R1dnd4eXqDhIWGh4iJipKTlJWWl5iZmqKjpKWmp6ipqrKztLW2t7i5usLDxMXGx8jJytLT1NXW19jZ2uHi4%2BTl5ufo6erx8vP09fb3%2BPn6/8QAHwEAAwEBAQEBAQEBAQAAAAAAAAECAwQFBgcICQoL/8QAtREAAgECBAQDBAcFBAQAAQJ3AAECAxEEBSExBhJBUQdhcRMiMoEIFEKRobHBCSMzUvAVYnLRChYkNOEl8RcYGRomJygpKjU2Nzg5OkNERUZHSElKU1RVVldYWVpjZGVmZ2hpanN0dXZ3eHl6goOEhYaHiImKkpOUlZaXmJmaoqOkpaanqKmqsrO0tba3uLm6wsPExcbHyMnK0tPU1dbX2Nna4uPk5ebn6Onq8vP09fb3%2BPn6/9oADAMBAAIRAxEAPwD9/KKKKACiiigAooooAKKKKACiiigAooooAKKKKACiiigAooooAKKKKACiiigAooooAKKKKACiiigAooooAKKKKACiiigAooooAKKKKACiiigAooooAKKKKACiiigAooooAKKKKACiiigAooooAKKKKACiiigAooooAKKKKACiiigAooooAKKKKACiiigAooooAKKKKACiiigAooooAKKKKACiiigAooooAKKKKACiiigAooooAKKKKACiiigAooooAKKKKACiiigAooooAKKKKACiiigAooooAKKKKACiiigAooooAKKKKACiiigAooooAKKKKACiiigAooooAKKKKACiiigAooooAKKKKACvPfjt%2B1J8FP2b5NGsfil4g1Maj4ilnTQNB8OeF9R1zVNR8lVed4bHTbee5kjiVkMkixlI96biu5c%2BhV4N%2B0P8D/j5/wANJ%2BDv2tv2bLLwfrWueH/B2seFNX8KeOdcutLtLywv7mwuxcQXtraXj288U2noCpt3WVJSCUKK1ABpf/BTL9izWLvxPb2nxXv0h8FWsk/jLUrvwXrEFjoIS0iu9l5dy2iwWsrQzRskMjrJIWKorMrKL2n/APBQ/wDZK1HwBrXxFTx/q9vB4f1ay0vVdE1DwNrNrrkV5ebfscC6PNaLqEr3AYGER27eaAxTcFYjy2b9gH4y%2BMf2a/jn8NfGHinwppHin4o/FS38daHc6U1xeWFpeW0OiywQ3IkihkkiN3pRRwoyYHGDuJVaPi79i/8AaV%2BLmr/Ef45fG34S/CjWvFnjWx8KaPp/gKy%2BI2s2Wm6fY6Hcaldw3qa7b6al5DqDXOqTOksVoPJSKNFZiWcgHsviH9vv9mzwv4a8OeI9XvvG3meK0v5NE8P2vwm8SXGuSRWUscV3NJpMWntf28MLzQq8s0CIpmiy37xM%2Bmaz8RPBHhv4e3XxX8T%2BJbbSvDljo76rf6vqrfZYbSySIzPPMZdvlKsYLNvxtAOcYNfGHin9hH9s/WPgX4X8Nay3hfxV470a58RHRfGV/wDHbxNpGr%2BCLW%2BuUktLO11q1sJLzXIYkjhEy3qw/aTbReYCFGPUfjR/wTotfj1%2Bzb4n%2BHHxD%2BOfjW78d%2BMPhfH4Z17xS3jbWho818tpDE2oJoS3y2FuzzQLK3kRRSEPIBIrSM5AOkg/4KUfsZf8K58V/FbWPite6Jo3giysr7xQ/ifwdq%2Bk3NlZXkxhtb37LeWsVxJaSyK6pcxxtC3luQ%2BEYjj/AI3f8FZP2d/hn8ENU%2BMfgPRfFXiqbQfiD4X8L674Y/4QXXbHU7A6zqVrax3T2cmnNdeV5Fw88DeT5d48aW8MhknjB8r1T/gmJ8ZPHfwq8faR4i8DeG9G8Y%2BI9D0fR7DxDqv7RfjPxut3aWusW%2BoTRyf27AfsEZ8likUSzHe%2BGkxknv8A9qH9gz40/GD4g/F/4g%2BBfEPheOTxfB8LbzwlZ6tfXMSvf%2BE/EdzrUsN40dvJ5ENwGt4VljEzrl2MfyKrgHqFh/wUE/Zb1H4m2XwZh8T%2BJo/Fd5oun6xLoF38N9egudO0%2B9adILu/SSyU6dDut5VeS68pYiFEhQum6j4a/wCCmH7FPi3wZ4s%2BIWkfGC4TR/Bfgi68Zaxe6h4S1W0Fx4et0Z5tWsVntUbVLNVQ4nsxPGxZArEugbB0P9kP4ofEP4mfG74g/G9fD2gxfGj4O%2BHfCF1Y%2BE9duNRl0u4tE11Ltlnns7XzYwNViMT7FZikm6OPA3fN37Y37Kn7UOj/ALDHxS%2BJv7TF34AtIfhD%2BxT8QfBHhePwFqF5cNrzXukWxn1G6W5toBYqE0i3CWcbXAVppCZ22oKAPrPw9/wUl/Yy8TaHrHiPT/i1dQWehppU1/JqnhLVbJmtNSu1s7HUIUuLVGubCWdgovoQ9qoDO0qorMPT9E%2BLvw88R/FLX/gvofiH7T4k8LaXp%2Boa/YR2k22zgvmuBa7pinlF3%2ByzHy1cyKoRmVVkjLfJOofsz%2BIPFegeKfjb/wAFIvF/wz8J%2BBbf9nu5%2BHUlx4f8QTLay6beyQyXmq3k17BbpYOTBbCG2QzCAmT/AEiQsuOw/wCCPngP4u2f7I9r8f8A9pDUDf8AxJ%2BL15H4n8V6g9nJbtJCLSCy01fKl%2BeH/iX2lpI0TYKSzTZAYtkA%2BqqKKKACiiigAooooAKKKKACiiigAooooAKKKKACiiigAooooAKKKKACiiigAooooAKKKKACiiigAooooAKKKKACiiigAooooAK8R0j/AIKMfse6ld69Z6n8Urzw83hzw5c%2BINQk8a%2BEdV0GObSbd0jnv7WTUrWBb63R5IlaW2MqAyxjOXXPtN7FczWcsNndCCZ4mWKYx7/LYjhtp64POO9fmJq//BHL9uX4v6t4X1z43fHHQ31vw14P1Cz1DxRqHxW8TeJx4h1v7ZpV9a6idLvoobLSbaS50xfPsLIBRHJtWWQKgUA%2B2X/b/wD2YbX4aN8WNY8QeKtK0ttcg0axs9c%2BGWv2GqanfzIZIYLLTbixS9v2kQM6/Z4ZAyo7AkIxHReA/wBqz4H/ABH1%2By8J%2BHPEOqQ6vf8AhSfxJDpGteFdS0y7TTYbv7JLLLDeW8UkDrP8hhkVZe%2BzbzXk3xO%2BDn7bvxib4e/G3XPBvwq0P4h/Cjx1NrHh/wAM2vjjUr/Rdcs7jSbvTLmO4vn0qGaxmKXskkbpa3AjMQU%2BYJGxV%2BJPwG/bg1/4y%2BHf2mvA%2BjfCu08WX3ww1XwX4x0LUvFepSWGkLcX8N1a39lcJpwk1AxCN1kt5YrQSlxiWLHIB3Gk/wDBRv8AZA8R694F8LeFfiNqus6n8SfBuleLfBunaJ4H1m9nvND1F9lrqMiQWjNa2%2B7HmSTiNbcMpm8oMCdj4a/tufs3fFf4jXPwn8M%2BL9Ws9ft9LudThsvE/gzVtEW/sbeRI57uyl1G1gjv4I3liDy2zSIvmISQGUnyj9hT9hL4sfsw6/8ADjWfHniDw1dnwd%2Byl4R%2BGN%2B%2BkXM8rNq2lvM1zNF5kEe61bemxmKu235o0wK8a%2BGn/BKv9sbxP8UfC/ib9qb4w2eqRaf4A8V%2BF/GniaD4v%2BJNavPEUur2KW39p2umX0Men6EcqWNpaKUXKgTOI1WgD6l8J/8ABRf9kfxrosfirQfHeuf2Hcarpen6f4lvfh/rdrpWoy6lex2VlJaX09mlteQS3M0UYuIJHhBlQs4VgT6X4W%2BLvw88a/EDxT8LvC/iH7XrnguSzj8T2iWkwWxkuoPtEEZlZBG7tCVkKIzMiyRlgokTd8w%2BOPAnxF8K/wDBPbxp8CP%2BChnif4VeCPAWg/DSLQLb4meHfFt2GadI0trXUntLqzgTTZlmFvJDBHcXTGcoiOTtDdr/AMEr/h98WPDf7ImlfFX9oqwS3%2BJ3xYvpfHXxEhW3aL7Pf36xmG02N8yfZbGOys9pyQLXBoA%2BjaKKKACiiigAooooAKKKKACiiigAooooAKKKKACiiigAooooAKKKKACiiigAooooAKKKKACiiigAooooAKKKKACiiigAooooAKK%2Bef2BtM1Xwr4j%2BPHw3uvH3ivxBp/hj41my0Sbxh4qvNYura3k8NaDdtCs95LJIsfn3M8gjBCIZWCqo4ryfXPgd8QPH/xx/aR8J/svfG/4gaM/h/4NXHg7RrnX/i/4hvbCDxtrFq9%2BLlVurudbJ7K3bSHjlt0V4xqMwUcAEA%2B3q8X%2BPXj/APaL/wCGi/AvwI%2BAvjPwV4fTX/BXiXXtX1Pxf4Lu9aJOnXeh28MMMdvqVj5Yb%2B1JWZmZ8%2BWgAXknK/YT8SyWUHjv4FeIfC2r6X4l8B%2BJLeHxEt/8WNW8aW8z3Wn21zFJbajquLlUMTJutmjiEb7mCESiSTH1v4meINV/4KpfD7wLrfwl1/QrS1%2BDXj5dM17VbnT3ttbI1XweS1qttdyzIqDO77TFA3zLtDfNtTaW5cISqO0ezf3as6//AIQf/goX/wBHQfBn/wAMPq3/AM1FH/CD/wDBQv8A6Og%2BDP8A4YfVv/mor2aimQeM/wDCD/8ABQv/AKOg%2BDP/AIYfVv8A5qKP%2BEH/AOChf/R0HwZ/8MPq3/zUV7NRQB4z/wAIP/wUL/6Og%2BDP/hh9W/8Amoo/4Qf/AIKF/wDR0HwZ/wDDD6t/81FezUUAeM/8IP8A8FC/%2BjoPgz/4YfVv/moo/wCEH/4KF/8AR0HwZ/8ADD6t/wDNRXs1FAHjP/CD/wDBQv8A6Og%2BDP8A4YfVv/moo/4Qf/goX/0dB8Gf/DD6t/8ANRXs1FAHjP8Awg//AAUL/wCjoPgz/wCGH1b/AOaij/hB/wDgoX/0dB8Gf/DD6t/81FezUUAeM/8ACD/8FC/%2BjoPgz/4YfVv/AJqKP%2BEH/wCChf8A0dB8Gf8Aww%2Brf/NRXs1FAHjP/CD/APBQv/o6D4M/%2BGH1b/5qKP8AhB/%2BChf/AEdB8Gf/AAw%2Brf8AzUV6p4xnmtfCOq3VtKySR6bO0bqcFWEbEEe%2Ba858b/tAfsNfC3xPc%2BA/iX8cPhT4f1uwEYvdI1/xPptreQb41kTzI5pA6lkdXBYcqwPIINZ1a1GjHmqSUV5tL82jswWXZjmdV0sHRnVkldqEJzaW17QhN2u1ra2q11KP/CD/APBQv/o6D4M/%2BGH1b/5qKP8AhB/%2BChf/AEdB8Gf/AAw%2Brf8AzUVX/wCGv/8AgnB/0dF8Ef8AwttH/wDjtH/DX/8AwTg/6Oi%2BCP8A4W2j/wDx2sPr%2BA/5/Q/8Dh/8kep/qlxZ/wBC7Ef%2BE9f/AOUFj/hB/wDgoX/0dB8Gf/DD6t/81FH/AAg//BQv/o6D4M/%2BGH1b/wCaivQvFekfD7wh4W1LxZqHge0mt9L0%2Ba7nistE%2B0TOkaF2WOKKNnkchSAiKzMcAAkgV4V8DP2%2BP2Ovjd4X%2BGF9a%2BBde0rX/ir4ct9Z8P8AhW8%2BFOrtdLbv9jWWdythtFpFJfW6NfEi1IfeJdmWHWfPnZ/8IP8A8FC/%2BjoPgz/4YfVv/moo/wCEH/4KF/8AR0HwZ/8ADD6t/wDNRWVP%2B1f%2Byxe6HqGoaBosNre6Tr3hzTtR0vxp4F1bQLiNdZ1WLTbOdYbrTvPkjlmeRIpViMDyxMjzQqsksdj4eftb/sQ/FLxve/D/AMIa3Ym%2BsG1pZbnU/Bd7YWEr6Rdm01NIb26tY7a4a2mUrKsUrlAN5Gz5qALv/CD/APBQv/o6D4M/%2BGH1b/5qKP8AhB/%2BChf/AEdB8Gf/AAw%2Brf8AzUVsfHTWYPAfwH1n4vfBn4PeE/Gd9p%2Bkf2lp2nXurR6dZ31uFEjv9sjtbkqvlbnUrE%2B7AA%2B9kaHwm1j4efEr4I%2BGfjVqXgPRtHt9f8K2Wt3FvPHC6WKT2yTsrSlFDBAxBchQQucDpQBy/wDwg/8AwUL/AOjoPgz/AOGH1b/5qKP%2BEH/4KF/9HQfBn/ww%2Brf/ADUV4xpP/BSP4Uaj8IfiB8WdS/Z50PRIPDvxO0/wj4MXxHrdvY2%2BvQ3%2BmadqVnqt3PJbgaVbNa3/ANpkDrNJFBAzFWlPkCD9oj/gop4S/Z2%2BGHgjxz4g%2BD/wcvJvGHhrW9ah1CD4rRr4fvV0%2BSARadpWqHSj/ampXcdwr29p5EPmeTcAP%2B7ywB7d/wAIP/wUL/6Og%2BDP/hh9W/8Amoo/4Qf/AIKF/wDR0HwZ/wDDD6t/81FcVpf7XPw%2B8X/tTr%2BzT4O%2BGXw6tLjTnsYPElt408a2%2Bk68l3cafDqL22n6StpO2oPBaXVrJMzSwIpm2qzlHxT%2BDn7afgDx14gtNS%2BJ3wJ8N%2BDvA/ibwbr3i3wJ4wm1qO5%2B26NpF1bw3NxfwNaRLp7NFd291Gqy3AaEyF2jeMoQD0H/AIQf/goX/wBHQfBn/wAMPq3/AM1FH/CD/wDBQv8A6Og%2BDP8A4YfVv/morxW2/wCCj3w/X4Gz/FLxb%2Bzf4a8G6te/Fi58E%2BG9H8e%2BJ7fSbT93YNqa3mqXslqRpYFhHLLLF5c7RyoIVMrstN/aN/4KJeFf2crfwjDrfwG%2BGepXviTwYPEEMVp8RY1g8QMblIU0zwzKdN/4n9%2B%2B9HSAra7hNb/MPNyoB7Z/wg//AAUL/wCjoPgz/wCGH1b/AOaij/hB/wDgoX/0dB8Gf/DD6t/81Fct4o/aS0XwR%2B2PoH7KniH4OfDu9/4SgXUmlR%2BGvGC33iKztYbC4u/7Q1DR2sI/sli8ls1qtwtzKDPPbJjMp2cN%2ByN%2B3XL%2B2hpfiO1%2BEH7NPw0udd0rwzpWs2lhH8RPPtbCS8nmjfSNbnh0lpNI1eBIHaSyWG52sNpkUfPQB7F/wg//AAUL/wCjoPgz/wCGH1b/AOaij/hB/wDgoX/0dB8Gf/DD6t/81FeIJ/wUR0LSvgvpHjz4g/AP4V%2BGNb8R/ETX/Dfh8a98TUtPDktno881vdatNq9xpcbw27TwNFEq2kjStNblfkkZ4%2Bp%2BJf7Ydr8OfEDwJ%2BzL4T1bRPCvhrw1rHxW1/TvFCNHoses3MkEY01fsGNVWAQyXEru1pmAxtGJJHMSgHo3/CD/APBQv/o6D4M/%2BGH1b/5qKP8AhB/%2BChf/AEdB8Gf/AAw%2Brf8AzUVyMf7SCR/td3n7IsvwU%2BF9/rMuh6lqWkReHvHv26/sYoFia2k1uy/sxG0iG5EyBJVe5%2BY7VV%2Btcde/tyXnw80b4sXvx4/Zd%2BHeiS/DfxN4e8M2N1oXxA%2B2abqWtarHBL9muLu80qyFjFbQ3lhPPOUlCRTyNtJi2OAev/8ACD/8FC/%2BjoPgz/4YfVv/AJqKoeB/HH7Vng79qzw58Efjd8R/h74m0bxN8PfEOuQzeFfh5faLdWl1pt9oluis9xq98ksbpqkpKhEYNEhDYyDufCjxFpXxS/Z8T4tv4e%2BH8N5dWF1cWV98OPFK67pjCNpBHLbaiLW1M33AT%2B6Xa25fm27jS8cf8pC/hf8A9kZ8ef8Ap28IUAezUUUUAFFFFABRRRQAV84/CbxV%2B3f8ddH17x34X%2BN/wk0DS7f4heKtD0vSr/4P6pf3EVrpevX%2BmQtLcJ4igWWR47NXZlijXc5AUACvo6vGf2D/APkiGuf9lm%2BI/wD6mut0AH/CD/8ABQv/AKOg%2BDP/AIYfVv8A5qKP%2BEH/AOChf/R0HwZ/8MPq3/zUV7NRQB4z/wAIP/wUL/6Og%2BDP/hh9W/8Amoo/4Qf/AIKF/wDR0HwZ/wDDD6t/81FezUUAeM/8IP8A8FC/%2BjoPgz/4YfVv/moo/wCEH/4KF/8AR0HwZ/8ADD6t/wDNRXs1FAHjP/CD/wDBQv8A6Og%2BDP8A4YfVv/moo/4Qf/goX/0dB8Gf/DD6t/8ANRXs1FAHjP8Awg//AAUL/wCjoPgz/wCGH1b/AOaij/hB/wDgoX/0dB8Gf/DD6t/81FezUUAeM/8ACD/8FC/%2BjoPgz/4YfVv/AJqKP%2BEH/wCChf8A0dB8Gf8Aww%2Brf/NRXs1FAHjP/CD/APBQv/o6D4M/%2BGH1b/5qKP8AhB/%2BChf/AEdB8Gf/AAw%2Brf8AzUV7NRQB4z/wg/8AwUL/AOjoPgz/AOGH1b/5qKP%2BEH/4KF/9HQfBn/ww%2Brf/ADUV7NRQB4z/AMIP/wAFC/8Ao6D4M/8Ahh9W/wDmoo/4Qf8A4KF/9HQfBn/ww%2Brf/NRXs1FAHjP/AAg//BQv/o6D4M/%2BGH1b/wCaij/hB/8AgoX/ANHQfBn/AMMPq3/zUV7NRQB4z/wg/wDwUL/6Og%2BDP/hh9W/%2Baij/AIQf/goX/wBHQfBn/wAMPq3/AM1FezUUAeM/8IP/AMFC/wDo6D4M/wDhh9W/%2Baij/hB/%2BChf/R0HwZ/8MPq3/wA1FezUUAeM/wDCD/8ABQv/AKOg%2BDP/AIYfVv8A5qKP%2BEH/AOChf/R0HwZ/8MPq3/zUV7NRQB4z/wAIP/wUL/6Og%2BDP/hh9W/8Amoo/4Qf/AIKF/wDR0HwZ/wDDD6t/81FezVW1XWtH0O2N5rerW1nCOst1Osa/mxApNpK7KjGU5KMVdvtr%2BR5F/wAIP/wUL/6Og%2BDP/hh9W/8Amoo/4Qf/AIKF/wDR0HwZ/wDDD6t/81FdXq/7Uv7Mnh%2BVode/aM8CWTp95LvxfZREfUNKK5vXP%2BCgn7Cnh2Myar%2B2N8Mlx1SHxvYyv/3zHKW/SueeNwVP4qsV6yj/APJHtYfhjibF29hgK87/AMtCs/ypP8yD/hB/%2BChf/R0HwZ/8MPq3/wA1FH/CD/8ABQv/AKOg%2BDP/AIYfVv8A5qK5DW/%2BCwn/AATV8Psy3/7WWgyFev2GzvLn8vJhbP4Vgt/wW7/4J0XjFPC3xZ1zXWBxt0jwHqzkn0G%2B2WuSWd5NB2eJh/4HH9Gz3qPhf4lYiPNDJcVbv9XqpffKMV%2BJ6b/wg/8AwUL/AOjoPgz/AOGH1b/5qKP%2BEH/4KF/9HQfBn/ww%2Brf/ADUV5j/w%2BI%2BA%2Bof8if8As9/HLxDn7v8AYvwsun3fTeyUv/D1TV7v5tH/AOCaf7UcyH7r3HwuWEN7/NcdKn%2B3Mpe1VP0U3%2BUGbf8AEK/EGPx4CUP8dTDw/CeKg/wPTf8AhB/%2BChf/AEdB8Gf/AAw%2Brf8AzUUf8IP/AMFC/wDo6D4M/wDhh9W/%2BaivMf8Ah5T8dNU%2BXwt/wS1%2BOszHoNW0u2sR%2BbyHFL/w3N%2B31fc6J/wSQ8WSA/d%2B3/EnSrU/iGU4o/tvL3s5P0p1H/7YH/EMeL4/xI0Yf48Xg4/nimem/wDCD/8ABQv/AKOg%2BDP/AIYfVv8A5qKt/srfEb40%2BMNY%2BKHgT46a/wCF9W1TwD8QotDs9V8J%2BGrnSbe6tZdB0fU1Z7e4vbxlkWTUZULCXaVjQ7VOc%2BTD9qb/AIKteIPk0P8A4JbaRooPCz698adOmH1KQR7hXQ/8E69X%2BMuva38edW/aB8IaRoHi6b4zQHVtI0LUGurW3x4R8NiIJKwBcmERs3ozMOgrow2Po4ubjCM1pe8oSivvklr8jx874SzHIMLGvia2Hld8vLSxNCtPZu7jSlO0dNW3ZNpdT6ToooruPlwooooAKKKKACiiigAooooAKKKKACiiigAooooAKKKKACiiigDzX4efsZfsffCPXLnxN8KP2Ufhr4Y1K9vIru81Dw94F0%2BynnuI2LRzPJDCrNIpZirEkgkkEZrqrv4T/Cy/8P6/4Tvvhp4fm0rxXNNL4p0yXRoGt9YkmjWKZ7qMptuGeNFRjIGLKoByABXQUUAc78L/AIQfCb4IeFx4H%2BC/wv8ADvhDRRcPONH8L6JBp9qJXxvk8qBFTc2BlsZOBmvn/wDaF1r%2By/8AgrR%2BzNY78f2l8MfiZbY9cSeGJsf%2BQv0r6ir4x/bO1dtI/wCCxn7Fu5sR3fh/4nW0hz/esNHKj/vpVrlxk/Z0Obzj%2BMor9T3eHMN9bzT2XenWf/gNCtL/ANtPs6iiiuo8IKKKKACiiigAooooAKKKKACiiigAooooAy/HP/Ik6x/2Crj/ANFtXIeOf2Rf2UPih4puvHPxL/Zh%2BHniLW77Z9t1jXfBVhd3VxsRY03yyxM77URUGScKoA4Arr/HP/Ik6x/2Crj/ANFtXhnxz/4KtfsDfs1/FPVPgp8a/j1/YvibRfI/tPTP%2BEW1W58nzoI54/3kFq8bZiljb5WON2DgggceNq5fRpKWMcFG/wBvltf/ALeTV9/MqOf1OHX9Zhi3hm/d5lUlSbvry80Zwbva9r20vbTTrv8Ahgf9hX/oyz4S/wDhudM/%2BMUf8MD/ALCv/Rlnwl/8Nzpn/wAYryT/AIfm/wDBLL/o6L/yydc/%2BQqP%2BH5v/BLL/o6L/wAsnXP/AJCry/r3Cv8Az8of%2BU/8i/8AiKWJ/wCh7P8A8LKv/wA0H1ffWcOo2M2n3OfLniaOTacHawwf5186fs3/ALCPjP4KjwMvi/48WutN4A%2BDdz8ONFudC8Jvpc7aez6d9nund725H2qNdPG5lCo7yhlSIJsb6E8QarNoWg32t2%2BjXmpSWdnLOmnaeqG4uiiFhFEHZVLtjau5lGSMkDmvCr//AIKQfAkeArn4k%2BGtJ1fV9KtPhtoHje5vBf6Vp0EOnazPLFYxyXOp31tbwzsIJ5GSSVVVYvvFnjR/oDI8c%2BDf/BGp/hal/JcfGjwolxfW/gGC5m8K/CpdJN%2B3hnxEmtfbb5vt80l7f3uwwzXLuMEiQIcGNvY/h/8AsO6h8Ob/AME6xo3xXglu/BPirx1rlqbjw6THcyeIr%2B9vFjdVuQQtu12FJDZmEef3W75fO/FP/BVjwprXg/SPjN8I2tpfA198EPiR4w1G7l06LVL601HwxquiaeYI1ttQS1uoxJfXwYR3PlzmKForlYzvfrfHf/BQO7X9oPwP8HPhh8JdcudE1r4w3HgfXfHmp2EB0mW5ttI1C8urW0Md2LlZ4prRIzLLbi3JjnjV2cDAB7H8avAfxN%2BI/wACdb%2BG/gvx7oWi%2BJNZ0Y2B8Qap4Xmv7GIyAJcP9ijvYJG3RmUIv2kbGZGYyBSr8b4A/Za8UH9lTR/2Sf2gvHfh/wAYeHU8Dz%2BFfFZ0Tw3faG2sWJgS2hETJqc0loRbh1lKyOZGcMhgA2H0TV9Y8VeMvhlNrXwhvLbTtX1DTzJoc/i7w/dpFbysPla5s2a3uMDqYi0T9sr1rjf2L/jX4v8Ajt%2ByT4I%2BOPxVOj22ta54eS81t9HtpLaxSUFg7RRzSyvFH8uQHkcgdWPWgDyG0/4JQ%2BB/Cw8dar4E%2BLWvPq3iH4peHvHXhO68davq/ieDQr7SLGxtYEmj1HUne9Dm1nLyrJBN5VxFErqLSBlrah/wTK%2BIdv4fJ8IftIaHba7rek%2BMtO8aT6x8NjfaXdxeJNRjv71rCwGoR/YHSSMKnmS3KshPnLO3z1hX3/BSj453ujfHDx74b%2BH3h1fDnhbwv4S174VyXNldSXl7per6lqVg2oXcKzK13vSw%2B221nbiKeaKaKDPnygJl2/8AwVA%2BLEvgbRPDV3eaFa%2BLNe%2BJut%2BHrHxCfhF4imb%2Bz9MsIrya4k8KR3B1eG7Zpo4hZyzIwhzelhCVjYA9Il/4JoWWm/ECO88HfFa2svCV94p8HeJPFGm3/hj7Vreo6p4aisYrB4tV%2B0oIInj02ySaNraVnUXAV4/tD4h8Kf8ABLvw3dLb%2BBfjh8Tn8WfD/wAN%2BGNV8OeAPC%2Bl2N3ol5pem3%2Bo2d86XWoWt95t1LF/Z9nBDLCtrtiRw6yNIzV0F7%2B0j8Yx8Uf2dbvwj8QPh74n%2BHvxcWSw1fUtK8O3iXF7dL4f1PVl1CwmN80dvaubGJRBJHPJtlbMoKgme9%2BKv7Vej/t4%2BHv2f08dfD3WfCWr%2BGdb8S6xZWvgK%2BtNT0TToJILawje9OrSxTSzXNz1%2Byxh0srkhUIGADkdA/4JYaF8OrWfWfhf8YtSfxLYfGh/iL4Q1T4gTar4ottNun0qbSzbzw32pmW5/wBGu7r98k8EhkaFySYEBxte/wCCUHiOf4a3/wALvCv7SNnZ2Hi/4e6j4Q%2BIZ1LwELvz7W/1S/1K5n0dVvI00iXzdSuUQOLuNEiswUc2ylr8/wC2d%2B054H/ZO%2BKPxE8fW3grVfGngH4s2/hGO88O%2BF79bBrWa90yBrtdON7LdXs0MV/LItpBMJbt4EhhCyTKtcd4%2B/4KgfHHw1%2Bwb4w%2BLng/w14X1v4p6MfGEuhWl94d1DSrN9N8PxyT3eqajpNxcG/0xVjWKE2k0olM93aAtGtwGQA99%2BIX7LvxY%2BL/AMYvDnir4j/HTSR4Q8G67eat4Y0Tw54PmsdYjmn0y704Jcao%2BoTLLGsV9O2IraBmdItzEK6ycx%2Bz5%2Bwn8U/ghaT6hdftE6Pfa7pPwitvh94C1XSvh9/Z8em2dtva3u76E30o1G5WQxsdjW0XEoSOPzmI6nxn8Zfjn4V/bB%2BGPw2S78JyeA/Hug6q1xaHRbr%2B14L6ztkn8xbr7V5IhYOq%2BUbdm4J8wdK88/Z6/bp8ZftJ/FvxR4Z8K/Ebwdo8H9peKdG8DeFtY%2BHmsie9u9HvZbBro601zHZXo82BppbG2iM8MMqB5FZHoA6rVv2CrTw58Nfgx4a%2BBXjXSNE8Q/A3TzY%2BE9b8VeFn1m2uLeXTW0%2B6%2B0W6XVtI8kqkSmVZ0fzFyxdWdH4vTv8AglfL4V8KaR8KvA3x8Np4MuvBnhjw38RNK1DwqLi61620S5lnia0njuYo9NM6zSW8ymGdfIEaxLCyeYdfRv2h/wBrfVvAfxy8NaT4v%2BGereKPhVNbx6Z46tPBeoRaFdXH2Nbu8sJdP/tN5TcW6YVil7tzcxBgjJIlJ%2B0J%2B1n8evh/%2Bwx4T/a98HaroFndXPgWDWtd0V/hXrXiJL67m09LtII30%2B8jOk225Zle9uhLBCHjaRlCneAegJ%2Bzr8X/ABR%2B0noPxv8Aix8adA1HSPBdzq8ng3QfDvgeXTbuNL6Mw%2BXf3sl/cC8SOHA2xQ2yvKkcrDMaKOcv/wBgOw1P9nG8%2BEep/EK1vfFN18Uj8RB4wv8Aw4JYW19NcGr2zS2RnBkt4vLhtPKEyt9niVVkRgrr5x46/wCClPjjwB%2B0fZ%2BBfGN74H0PTJvHXg/wzZ%2BAbm3nufEGvxa9Fp8Y1yxvY7lYDYW19qP2VyLaVWawn/fRtJElaH7KH/BRHxf8Yv2ltN%2BB3xD1rwY974l0vxLd/wDCHeH9MuotY8Cz6VqFvAlhrEktzKsstxBcNKrCG1wbdtiTRuJFAPYvgz8BNS%2BAPwX8ZaZ4k8Z22va54n1nWfEniDUNO0Y6dZG8vMu621oZpjBEAq/K0srs292dmcmq3jj/AJSF/C//ALIz48/9O3hCvUvHP/Ik6x/2Crj/ANFtXlvjj/lIX8L/APsjPjz/ANO3hCgD2aiiigAooooAKKKKACvGf2D/APkiGuf9lm%2BI/wD6mut17NXjP7B//JENc/7LN8R//U11ugD2aiiigAooooAKKKKACiiigAooooAKKKKACiiigAopHdI0MkjhVUZZmOAB614r8Zv%2BCjP7DvwCSZPiZ%2B014Vgu4MiTS9N1EX96D/dNva%2BZKCTxyorCvicNhYc9aaiu7aX5tHp5Vkmc57iVh8tw1SvU/lpwnN/dCMrersvM9ror5Ej/AOCi/wC0h8bW2fsZf8E8/G/iCwf/AFfiv4h3cXhrTnXtLCs26S5T/d2nrxxUg8Ff8FoPimfM8QfGz4NfCq1k/wBXH4W8OXOt3kQ/2/thELMP9niuD%2B2KFT/d6c6nnGDt/wCBS5F91z69%2BHGaYP8A5G%2BMwuCfWNbEQdRetKgsRUT8pcr8lsfW9V9U1bStDsJNV1vU7eztYV3TXN1MscaD1LMQAPrXyj/w7d/aF8cfN8df%2BCpXxm1Qt/ro/BMlr4aif1Gy3STCn09KsaZ/wRf/AGF5r%2BPV/iZ4b8V%2BPr2Jty3XjfxxqF4S3qVWVEb6FSPaj63m1T4MMo/46kV%2BEFJ/iL%2BwPD7Cf71ncqr7YfCVZfdPEVKEfnyfLodx8TP%2BCnP/AAT/APhFJJb%2BNf2svBwmiz5ttpGpf2lKhHZo7MSsD7EZrz8/8Fi/gF4p%2BX4DfAr4zfE0v/qJfBfw1unhf0Je4MW1ffHA7V7r8Mv2T/2YfgwiL8KP2fPBvh948YuNL8OW0UzEd2lCb2PuSTXoNHsc7q/FWhD/AAwcn985Jf8Akof2j4YYLSjl%2BKxLXWtiYUYv/tzDUZSX/g3/ADPkn/htD/got48P/FpP%2BCWOqWVq/wBzUvHvxFsNNKem61CtJ%2BR4pRcf8Ft/GZ82HT/2dvBds3/LK4l1fUbtPxTERr61oo/syvP%2BLiqj9HGC/wDJYfqL/XjLMPpgsjwUPOcK2Il99bEJX/7cXofJR/Zr/wCCsvi/5PFX/BSHwv4Yib/WReEvhNa3LEf3Ve6cFfr1oH/BMj4r%2BKP3nxW/4KffH/UHb/Wp4Z8RwaLE/tsiifA9s19a0Uf2LgZfxOef%2BKpUf4c0V%2BAf8RN4ppf7osPQ/wCvWEwkH/4E6FWX3yZ8lj/gjP8Assal83jr4h/FnxQ5%2B/Lr/wATL2Rn%2BvllKtaX/wAETv8Agmfp1z9uuf2cf7RuO82q%2BLNVuC31V7or%2BlfVVFNZFkyd3h4P1jf87ky8VfEuUXFZxiIrtCq6a%2B6mqa/A8H0j/gl9/wAE9NEiWKz/AGPfAjhehu9DS4P4mXcTXR6J%2Bwr%2BxP4blE%2BhfshfDK1lHSaLwJp4f/vryc/rXqtFdMMuy6Hw0YL/ALcj/wDIni4jjPjHFX9tmeJlfviK7/8Ac36GBofwp%2BF3hlVTw38NtA08L90WOjwRAfTaoreVVRQiKAAMAAcClorqjCEFaKS9NDwa2IxGIlzVpuT7ybb%2B9tsKKKKoxCiiigArxn9l/wD5Lf8AtHf9lmsf/UK8L17NXjP7L/8AyW/9o7/ss1j/AOoV4XoA9mooooAKKKKACiiigAooooAKKKKACiiigAooooAKKKKACiiigAooooAKK8n/AGUv2g/iB8d18f6P8UvhPpvg/XfAHj1vDd7p%2Bk%2BKW1eC4B0zT9RjnE7WtsVYx6giNHsIVo2w7gg15r44/b4%2BL3wV%2BJfj/wAJfG/9njw1FpPgL4TXPji81LwV8RbjVbp1N29vp1g9tc6VZpFNem3vdhEzqrWjA5B3AA%2Boq%2BDP%2BCl2qf2F/wAFVv2INV3YzqnjG1z/ANd/7Dix/wCPV9Qfs5fH3xv8VNf8YfDT4v8Awx07wj4z8E3tmmraXoviV9XsZ7W8tVuLa5guntbV3B/fRMrQoVkt5Mb0KO3x9/wWOvJdI/4KC/sTa%2BnCWfjzUTcNn7sT6p4bjY/%2BP15mcS5MtnLtyv8A8npn3HhvQWJ40wtF/bVeP34XF/5I/RSiiivTPhwooooAKKKKACiiigAooooAKKKKACiiigDL8c/8iTrH/YKuP/RbVqU2eCG5he3uIleORSrowyGBGCCPSsxfBmjIoSO41NVAwqprd0AB6ACTigDVorL/AOEP0n/n71X/AMHl3/8AHaP%2BEP0n/n71X/weXf8A8doA1K%2BbtC/4Je/Arwl4E8S%2BCvBnjvxnpU/iD4oQ%2BOrHXYb2ymu9AvreWOS1tLJbi0ktxZW%2Bxlit5oZgolkOSxDD33/hD9J/5%2B9V/wDB5d//AB2j/hD9J/5%2B9V/8Hl3/APHaAPngf8Eq/gTP8O734d6x8S/H2opqXhPx9oGo6tfarZveXMXi/VbTVNVuGYWgTz1uLOPySECIjurJJ8pXopv%2BCfvw7b436V8Yrb4teO7aw0X4h3PjjTvAcF/ZDRYtdubG5s7m6wbQ3TCVbu4kaI3BiEsjSKiknPsv/CH6T/z96r/4PLv/AOO0f8IfpP8Az96r/wCDy7/%2BO0AVL3wf4huvhzL4Ig%2BKuv22pyac1snjCG3086jFKVwLpUe1a080H5gGtzFkcxkcVwP7Of7I1n%2Bzp8E9F%2BAFv8cvGXi/w9ot1MFi8YWeiyPeafJayQf2ZP8AZdOgR7YPJ54IVZzIoVpmhLQt6T/wh%2Bk/8/eq/wDg8u//AI7R/wAIfpP/AD96r/4PLv8A%2BO0AfPsv/BJP9h/Ste8X%2BJ/hd8INK%2BH9/wCLtK8P2n2r4f6BpulNpE2jao2q2V5Z%2BVa4Sf7aLaaQSCSKU2FqHjIjIbYh/wCCffhCzsRrWm/Hj4gW3jxvGlx4oufilG%2BkNrVxfz6bFpcoeN9Paw8k2FvbW/lLaBQLaJwBIgkr2r/hD9J/5%2B9V/wDB5d//AB2j/hD9J/5%2B9V/8Hl3/APHaAPEdT/4J7eF42%2BEFn8Pf2hviL4P0r4KhH8K6Joh0W4hupxZ3NlJcXkmoabczyyS213cRuVlRf3m9VWQBx6h4W%2BCHhTwr8a/Fvx8g1DUbvXvGGl6Xpl4b2WNorOx0/wC0tb21uqorInm3l1M25nJedjkAKo3v%2BEP0n/n71X/weXf/AMdo/wCEP0n/AJ%2B9V/8AB5d//HaAPA/Df/BN/RNK8E%2BMPBnij9qv4p%2BJW8XeNbDxgmrasPD8F3ouvWlxBcRX9mbLSbePd5lrbbop0mgYRbfLw8gdnjr/AIJSfsgfF/4LeKPhN8d/BUPj/VfFq6xJqPxF8Y6HpV54htrvUrdLea9tJvsYgspkjhthH5EKRp9lhOwleff/APhD9J/5%2B9V/8Hl3/wDHaP8AhD9J/wCfvVf/AAeXf/x2gDyXxR%2BxDoGqfFn4a/ErwL8bfGHgjTPhVp4sfDHgPwhpmgQ6J9mKrHNC8c%2BlyzqksCJAVhmiCIgMQifLmpb/ALAHgPTvGV54s0H4x%2BPNNhS68Q6h4T0Wyu9OW08J6trfnm/1SwzZGVrlpLq6kQXUlxDG1zIEiCkKPZf%2BEP0n/n71X/weXf8A8do/4Q/Sf%2BfvVf8AweXf/wAdoA8X%2BGn7BqfCn9lzVv2UPC37VXxK/sbUdPFnZa3PZeGzqemRM7PdNG66OsU8t0XkM891FcSu0ryB1kYyVKP2INZi%2BAXh79nOz/bM%2BLNtoeh%2BH5tCvLu2Tw6l5rOnOixJBcSDR9sZihXykltVgl2sWZ3fDj2P/hD9J/5%2B9V/8Hl3/APHaP%2BEP0n/n71X/AMHl3/8AHaAPN9T/AGPvCmr%2BKfCs198TPFbeDfBcumz%2BHfher2C6Hb3Wnoq2VwzC0%2B3StCyRyqkl00Qlijk8vcikaPgv9miz8O/Gq4%2BPHjL4u%2BLfGetRWF7p/huHxKdPS28OWN3cQz3FtaJZWduWDtbWymW4M82y3RfM5ff2/wDwh%2Bk/8/eq/wDg8u//AI7R/wAIfpP/AD96r/4PLv8A%2BO0AJ45/5EnWP%2BwXcf8Aotq8u8cf8pC/hf8A9kZ8ef8Ap28IV6ifBmhvhZ2vpkyCYrjVrmRG9mVpCrD2IIry7xx/ykL%2BF/8A2Rnx5/6dvCFAHs1FFFABXiH7f3iTxFoXwT0bSNE8V6loFp4k%2BJfhXw/r%2BuaPqElndWenX2tWltcCK5iZXtnmWT7MJkZXj%2B0bkZHCsPb6zfGPgzwf8RPC1/4H%2BIHhTTdd0TVLZrfU9H1ixjurW8hYYaOWKQFJEI6qwINAHyn4Qi/aB8cfsa/Ff4X/AAX8f69quo%2BF/ivqWgeEtZvfFUn9q6jotrqlu13YR6pcOZPtYiN/psV3LJ5iSRRs8u9Gkrw62%2BIv7SXxEnP7O/hCDxfYR237R2p6P4X8GeMfjfqWm32o6PbeDLbULi0vfFOlzXt2r2%2BpXNxIEhkuixiFq7bIJXj%2B%2Brf9mv8AZztPBb/De1%2BAPgqLw7Jof9iyaBH4Vs1sm03zGk%2BxGAR%2BWbfe7v5WNm52OMkmoNX/AGV/2Ydf%2BFdj8Ctd/Zx8B3vgjS5hNpvg278IWUmlWkgLkPFaNEYY2BdzlVBy7epoA4f9i34reMPEH/BPv4d/FO8h8SfEPX28CWT3qo1lFqWs3aRiOUq9xcx2zMzqxEjzhXAD723ZJ/wTp1a/179m6%2B1vVfDF9olzefFv4hzXGj6nJA9zYu3jPWiYZWt5ZYS6E7SY5HTIO1mGCfa9G0bSPDukWvh/w/pVtYWFhbJb2NjZwLFDbwooVI0RQFRFUABQAAAAK8i/YP8A%2BSIa5/2Wb4j/APqa63QB7NRRRQAUUUUAFFFFABRRRQAUUUUAFFfM/wAcf%2BCnnwj8GeNZPgh%2Bzl4T1X4zfEnlR4T8C4lgsmBxuvb3BhtUB4Y5ZkP3lXrXIJ%2Bxt%2B2h%2B2Uw1b9vr49t4T8KTncvwf8AhReNbQyJ/wA87/UOZLjjho0JTIyjLXlVM1hObpYSLqzWjtpFP%2B9N%2B6vRc0vJH32E4BxWHwsMdxBXjgKElzR9onKvUi9nSw0bVZJ9J1PYUuvPJHofx4/4Ke/sk/AvxF/wryDxjeeOPGbuY7fwP8OrBtY1OWQdYykJ2RP/ALMjq3sa4VfiP/wVm/agYH4Z/CXwr8AfDU33Na8dSjWdekTs8dlHiGFvWOfkY6%2Bv0B8Bv2W/2ef2YPD3/CMfAP4Q6J4YtmQLPJp1oPtFyB0M07ZlmPu7Ma76p%2Bp5jitcTW5V/LT9375u838lE2fEnB2Re7kmWqtNf8vsbaq/WOGpuOHh5e0lXa63PkaP/gkr4b%2BKEgv/ANtL9qn4nfGCVjmfSNR199K0UnuUsbMr5efaT0r2r4OfsV/slfs/GKf4Ofs7eEdCuoMeXqVrosTXnHTNy4aU/ixr0%2Bit6GVZdhp88KS5v5n70v8AwKXNL8UeVmvH3Gec4f6ticdU9j/z6g1SpLyVKiqNO3rCXm2FFFMuLm3tIjNdXCRIOryOFA/E16B8hsPorndb%2BMHwl8NRNceI/ij4d0%2BNBl3vdbgiC/Us4xXnfiT/AIKK/sGeE7g2mt/thfDlZQcNHb%2BLrWdlPoRE7bT9a56mLwlH%2BJUjH1lFfm0ctbHYHD/xasY%2Bsor85I9mor58n/4Ktf8ABOi3bZJ%2B174OJ/2L5mH5hTUF1/wVr/4JwWcJuJv2ufCpVeoikmkb8ljJP5VzvNsqW%2BIh/wCBx/8AkjleeZIt8VT/APBkP/kj6Kor5P1P/gtj/wAE7/P/ALL8D/FnV/GGqt/qdG8KeC9Tubib/d3QIh/7671An/BRj9p/x3/pPwH/AOCVvxX1W0b/AFNx43v7Pw0ZPQhbgyHafX0rJ53lTdoVVN/3E5/%2BkRl%2BZg%2BI8kbtTrKo%2B1NSqf8ApEZfmj63or5KH7Qv/BXnX/3uk/8ABO/wRoCt0i134tQXTL9TbIAfwoPif/gtx4k/0fTPhf8As7%2BG93W41jWtXvCo9lgAyfrxR/a9J/DSqv8A7hy/VxD%2B3aL%2BChWl6UZr/wBKcT61or5KHwb/AOCyOrf6ZqP7Znwo0iRutnpXw8kuIV%2BjzMHP40H4Pf8ABZPSP9K039sf4TaxIP8Al11b4ey28Z/4FAxaj%2B063/QLV%2B6P5e0uH9sV9/qda3%2BGH5e1ufWtFfJDeFf%2BC3niQ/2Hq/xV/Z18NWw4OueH9E1e8u2z38m6/dZH5UqfsKft664Pt3jj/grR4va8kOZV8P8AgDTbCBf9lUUt09epo/tLET/h4Wo/Xkh/6VNh/a%2BKn/CwVV/4uSH/AKVUbf3H1tRXyUf%2BCZ/xo8Q/uPiF/wAFR/j1dW/dPD2t2%2Bkuf%2BBxRMaT/h0d4U0v/T/BP7cX7R2ian1l1K2%2BKTyNcN6yq8JVx7DFH1zNHqsLp51IJ/k/zD6/nL1jgtPOrTT%2BSSa%2B9n1tRXySP2IP%2BChHhD/kl3/BWPxEYU%2B5aeMfhxpuqlx6NMzK4%2BoGaUfBn/gseo%2By/wDDaHwqZE4W6b4dSCWQerKH2g%2Bw4o/tHEx%2BPC1PlyS/FTX5B/a2MjpPBVU/L2cl96qL8kfWtFfJX/Cif%2BCwbcn9vD4cqfRfhepA/wDH6X/hRH/BYL/o/P4df%2BGuX/4uj%2B0q/wD0C1fuh/8ALA/tfE/9AVb7qf8A8tPrSvGf2X/%2BS3/tHf8AZZrH/wBQrwvXmH/DOX/BXPUvlvf%2BCj/g/TR/e074QWsx/wDIsldF/wAE6/CPxV8Ca38efCvxt%2BLy%2BPPFFr8ZoP7T8VpoEOli%2B3eEfDbx4toCUj2RNHFwfm8vceWNdGGxdbETcZUJwXeXLb00lJ/hY6sJjq%2BKqOM8POmrby5Lenuzk7/K3mfSdFFFdp6IUUUUAFFFFABRRRQAUUUUAFFFFABRRRQAUUUUAFFFFABRRRQB4P8As4fs4ftNfBf4gfELxh42/aD8CeILX4heOofEl7Y6V8Lb3TpLRl0%2By0%2BSBJZNauAQ0FhblWKfLIZGIZWVEl8UfsQ6F4/0H47aV478e3V1d/G7bbPqllYrDNoGnw6bFZ2dtBudxIYJVnuw7ABpruXKBflr3OigDyz9nL4BeOPhX4g8YfEz4wfE/TvF3jPxte2T6rqmi%2BGn0ixgtbO1W3traC1e6unQD99KzNM5aS4kxsQIi/C//BaL4R/Cj4bftNfCL42eCfhj4e0bXJ11HVvEuuaVosFvd6o8PiLwjHG9zNGgecr57gFyxG846mv07r86f%2BC%2BdrO/hzT9WtFzPpXwj8RXsHsyeLfAmT/3yWrys9/5E2IfaDf3Wf6H3/hU1/xEvJ4vaeIpw/8ABjlT/wDch%2Bi1FR2d3Df2cV9btmOaNZIz6qRkVJXq7nwLTTswooooEFFFFABRRRQAUUUUAFFFFABRRRQAUUUUAFFFFABRRRQAUUUUAFFFFABRRRQAUUUUAFFFFABRRRQAUUUUAFFFFABXjPjj/lIX8L/%2ByM%2BPP/Tt4Qr2avGfHH/KQv4X/wDZGfHn/p28IUAezUUUUAFFFFABRRRQAV4z%2Bwf/AMkQ1z/ss3xH/wDU11uvZq8Z/YP/AOSIa5/2Wb4j/wDqa63QB7NRRRQAUUUUAFFFFABRXjP7U/7eX7PX7JKW2i%2BPNfudW8V6nhdB8BeGLU32s6nI33FjtkOVDHgO5VTggEnivF/%2BFL/t7f8ABQEfbv2mvFNz8Dvhdc8p8N/B%2BoB/EGrQH%2BHUL8DFurA8xRjkEq6ggNXmYjM6cKroUIupUX2Y7L/HJ%2B7H53l2iz7fKOB8ZisBHNM1rRwWCltVqp81S26w9Ffva76Xgo0k/jrR1R23x3/4KZfDrwf47k%2BAv7MngfUvjN8TslG8LeDpVNrpzZwWv74gw2qA8NksynAYLnNckf2M/wBtv9r4G9/bv/aUPhXwvc8v8KPhBK1rBLGf%2BWV7qL5lnBHDxrlCclWWtOP9qv8A4Jdf8E4vDcXwO%2BF2v6BaXqyCNPCHgC0fVtVvbgDAE/kb3aYj%2BK4cNjjPSq4/br/bj%2BMhEf7L/wDwTU8T2dlL/q/EPxe1qDQUjXsxs8tNIp/2WzivIqVsNiJuONre0f8Az6pczivKXJeUvPnlFf3bGFfxQ4V4XqvDcJ0Eqsd8RUgsRi2%2B8IxjUoYXyUFKrHrWurr6I%2BB37PPwS/Zq8FRfD34FfDTSvDOkx4L2%2Bm2%2B152AxvmkOXmfH8cjM3vXZdOtfI5%2BH3/BaT4lAr4l/aE%2BCvw1hl4U%2BDvCt3rFzCp9ft5EbMPbimj/AIJK6H8TD9q/bB/a6%2BLPxXaT/j40e98StpWjv67bKz27M%2B0nTFejTxeIUFTwuEkktublpxXyvJ/dE/PMZxBnmb4qeJlh6tSpN3lOtNRcm%2BsnKVWo38r/AJL2j4sftu/sgfA1Jh8Vv2lPBmjTwAmSwn1%2BF7vjri3jZpW/BTXi5/4K1%2BHfidKbT9jn9k34q/FtWJ8rW9N8Otpejt9by827SewMdep/Cj/gnZ%2Bwz8Emim%2BG/wCyx4MtLiAgw393o6Xt1GR3E9z5koP/AAKvZkRI0EcaBVUYVVGAB6Vfss5r/HUhTX9yLk/vnZfdE5vYcQYj%2BJWhSX9yLnL/AMCqNR%2B6DPkhvjH/AMFj/iYpi8F/sefC74apNwlz498fPq7xKf4imnKMnHOD360ifsKfty/FlhfftJf8FOPF9ij8jRfhFo9voEdt/srdYeWUe7rmvrmij%2ByKdT%2BPVqVPJzaX3Q5F%2BIf2FSq/7zWq1fJzcV/4DTVNfiz5KH/BHb4G6rz8Q/2jvjv4uY/fbxJ8VLmUv9fKWOn2/wDwRC/4JrtKLrX/AIFX%2Bszj/lvq3jfV5W/IXQH6V9ZUU/7Dybrh4v1XN/6U5D/1byDrhYP/ABLm/wDSnI%2BbNG/4JAf8E1tBlWax/ZL8PSFDkC9uLq5H4iaZgfxr0Tw1%2BxL%2Bxt4Og%2Bz%2BF/2UfhxYrjloPBViGb6t5WW/E16fRXRTy3LaP8OhBekI/wDyJ1UcoynD/wALD04%2BkIf/ACJxsP7Ov7Ptsuy3%2BBXg2MeieGLQfyjqxa/An4IWMwubL4N%2BFIZF%2B7JF4etlYfiErqqK6Fh8OtoL7l/kdSwuFW1OP/gMf/kSDT9L0zSYBa6Xp0FtEOkdvCqL%2BQFT0UVqklsbJJKyCiiigYUUUUAFFFFABRRRQAUUUUAFFFFABXjP7L//ACW/9o7/ALLNY/8AqFeF69mrxn9l/wD5Lf8AtHf9lmsf/UK8L0AezUUUUAFFFFABRRRQAUUUUAFFFFABRRRQAUUUUAFFFFABRRRQAUUUUAFFcz8LPjT8HPjnol34m%2BCfxZ8M%2BMdNsNSk06%2B1Dwtr1vqEFveRhWkt5JIHdUlUOhaMkMA6kjkVm3H7Tn7Nln4o8S%2BCLv8AaF8Dxa14M0mbVfGGkSeLLNbrQrCJVeW7vIjJvtYUV0ZpJAqqHUkgEUAdxXwh/wAFotF/t7TLyx2Z8v8AZv8AH1zj/rjrngubP/jlfZHwo%2BNnwZ%2BPPhybxh8Dfi54Y8Z6Rb3rWdxqnhPX7fUbaK4VEdoWlt3dVkCSRsVJyA6nGCK%2BY/8Agpvo3/CQeI9S0oJuaT9kv4stGvq6z%2BFnX/x5RXDmcPaZZXj3hP8A9JkfU8DYn6nxvldf%2BXE4d/8Alel/mfTPwJ1r/hI/gh4N8Q7932/wrp1zu9d9tG2f1rqq8o/YP1n/AISH9iL4P6yz7nn%2BGOhGU5/jGnwhv/Hga9XrbCT9phKc%2B8Yv74xf6nm8QYb6lxBjMP8AyVq0f/AatWP/ALaFFFFdB5AUUUUAFFFFABRRRQAUUUUAFFFFABRRRQAUUUUAFFFFABRRRQAUUUUAFFFFABRRRQAUUUUAFFFFABRRRQAUUUUAFeM%2BOP8AlIX8L/8AsjPjz/07eEK9mrxnxx/ykL%2BF/wD2Rnx5/wCnbwhQB7NRRRQAVx3x4%2BNnhr9n74dS/ETxNpGp6pu1Kx0zTNF0SGOS91TUL26itLS0gWWSOPzJJ5o13SOkaAl3dEVmHY15f%2B1v8G/Gfxn%2BGFhY/DW80yLxN4a8YaL4l0CPW55IrK6uNPv4bk2s8kUcjxJNGkkPmrHIYjIJAkmzYwBmw/tsfDJf2d9V/aF1bwn4l09dE19vD%2Bq%2BD7qzt21iDW/7QTTo9M2RTvA00t1LDHG6zGBxPHIJfLbfWf8A8N4eCT4X8xPg/wCNn8af8Jw3hA/CxI9MbXF1gaeNUNuXF99gVf7OZL3zjdiLyXX597CM8/4O/Zg%2BK6/An4i%2BB/i58M/AXifU/iNrmoeJtV0UeM7%2B309NRnuE8ixS6TT/AD4o4Le3tCuoJGJvtCNItvFhceRp/wAEotdj8J2fjPXPh74G8V%2BJZPjJd%2BOdc%2BHXjLxrqmp6Dfwz%2BHk0EWU%2Bq3tpcXd66R29reG4ubV988br5camN4wD7d8Ja3f%2BJfC%2Bn%2BINV8KajoNze2cc1xourtA11YuygmGU28ssJdT8pMcjoSPlZhgnyr9g/wD5Ihrn/ZZviP8A%2BprrdX/2fv2dtZ8BfskeHf2cfit4zv8AUbux0IWWpaj4f8QX9jJEN5dYLW8ilju0jhUrDHIHWQxxKTgkisL/AIJ0%2BHrDwl%2BzdfeFtKuL6W2074t/EO2t5dT1Se9uXRPGetKDLcXDvNO5A5kkdnY5LMSSaAPdKKKKACiiodR1HT9H0%2BfVtWv4bW0tYWmurq5lCRwxqCzOzNgKoAJJPAAobSQE1fGH7Tn7cnjj41%2BL9c/Zp/Yi8b6Votr4fBX4q/HXVpkXRvBkGcPDBK5Ec96RkAbtqHuCGeHxX9s//goT%2B0F%2B3f40vv2Ov%2BCX3g3W9f0OOX7L42%2BIeiyC2hnQnD28F7IPLtoSNwM5O6XBEYKcyel/sw/8EZdJsPCmh2n7ZvjC28S6fojCfRfhT4X8208LaZMeskqEiXUpyfvTznc2Srb1Ar5LFZni83rPDZbFumtJVL8sX3jGfb%2BaUE5dI21kvpsszvh/hvCLG0KcMwzB/wAOk9cLh%2B1XFTs41qi3p4Sl7RJpSxM0kqL4P9nTxT4N8O69qPh7/gkz%2Bzve/FbxrezNF4u/aR%2BKs0w07zzxK5u5AJro5HzQ24QH5W/e9T7X/wAO0vjL8fT9t/b4/bb8YeNLWbmfwN4JI8P6DtP/ACykSD97dKOzsUf%2Bv1noHh/QfCmi2vhvwtolnpunWUKw2VhYWywwwRjgIiIAqqOwAAq5XoYbIqEaShiHzL%2BVXjTX/bqd5ebnKTfU%2BOzZZvxVj5Y/iPFzxdae/NJqmktoqCaXLFaJP3UkkoRWh558Cf2Tf2a/2ZNLGlfAb4KeH/DKmPZLdafYL9qnX0luGzLL/wADc16HRRXs0qVKhBQpxUYrokkvuSRtRoUMNTVOjFRitkkkl8kkgooorQ1CiiigAooooAKKKKACiiigAooooAKKKKACiiigAooooAKKKKACiiigAooooAKKKKACvGf2X/8Akt/7R3/ZZrH/ANQrwvXs1eM/sv8A/Jb/ANo7/ss1j/6hXhegD2aiiigAooooAKKKKACiiigAooooAKKKKACiiigAooooAKKKKACiiigD5V/YW%2BKXhqH4s/HbTofhf8RdCtPEHxlt77w2%2Bt/B7xDpNrdWTeHdEsVmjkurCKMRi4sblCcgIIwzYR0ZvDfgZ8Mvjrb/AAz8Z/sh/He7%2BJt/4Q13wH8Q7L4wNB8K3iTS7i8v2W2vNCvIrAyaxcXsF1d3Lor37M4VituwFu/6OUUAeD/sNeMfjJ4psvGtj481jxlrfhXS/EEFv4A8UfETwT/wj2t6lamyga4E9l9ksyEiuTLHHMbWAyKCNrhBLJwH7SnhP4r6x%2B1zLpXjbxl4e1LQtX/Zu%2BJdv4a0zSvC89nd2KPd%2BFlkW5uJL2ZLstuTBSG3C4OQ24bfrevEvibp8Orft7/DfS7gfu7n4JeP4pP91tV8Ig/zqKsPaUpQ7pr701%2Bp1YHEPCY6liF9icZf%2BAyjL/20yP8AglHrX9vf8E5/hDfb93l%2BEIbbP/XF3hx/45X0JXyl/wAESNQmvP8AgmX8N7W7/wBfYNq9nOufumPVrxQP%2B%2BdtfVtcGTT9pk%2BHl3pw/wDSV/kfWeJeHWE8Rs5oraOKxC/8rVH/AO3BRRRXpHxIUUUUAFFFFABRRRQAUUUUAFFFFABRRRQAUUUUAFFFFABRRRQAUUUUAFFFFABRRRQAUUUUAFFFFABRRRQAUUUUAFeM%2BOP%2BUhfwv/7Iz48/9O3hCvZq8Z8cf8pC/hf/ANkZ8ef%2BnbwhQB7NRRRQAUUUUAFFFFABXjP7B/8AyRDXP%2ByzfEf/ANTXW69mrxn9g/8A5Ihrn/ZZviP/AOprrdAHs1FFFAGf4t8WeGvAfhfUfG3jLW7bTNJ0mylu9S1C8kCRW0Ealnkdj0AUEn6V%2BaGt/HL4z/8ABcr433fwB%2BCNzq3g79nLw1do3jjxKiGG88SANuS3GR8gkxlITnav72UE%2BXED/gpP8ffib/wUb/adsv8Agld%2ByFq3/Emsb4TfFPxPDl7ePyXUyROV4MNu23cuf3lxsjGCnzfoF%2BzR%2Bzf8Lv2T/gzo/wAD/hFootNK0mDDzOAZr24IHmXMzADfK7ck9BwoAVVA%2BVq1KvEGOlhqbthabtNr/l5LrBP%2BVfba3%2BG%2B50UMBhMRlzx2O1pzbjRp7Kq4txnWqdXQhJOnTgrLEVY1HJuhRkq238KfhN8Nvgd4C074X/CTwZYaBoOlQCKx03ToAiIAOWPd3Y8s7Es7EsxJJNdFRRX1EIQpwUYqyWiS0SOZJJWSt/XyCiiiqGFFFFABRRRQAUUUUAFFFFABRRRQAUUUUAFFFFABRRRQAUUUUAFFFFABRRRQAUUUUAFFFFABRRRQAV4z%2By//AMlv/aO/7LNY/wDqFeF69mrxn9l//kt/7R3/AGWax/8AUK8L0AezUUUUAFFFFABRRRQAUUUUAFFFFABRRRQAUUUUAFFFFABRRRQAUUUUAFFFFABXjPjj/lIX8L/%2ByM%2BPP/Tt4Qr2avFvHVzAn/BRP4WWjSqJJPgt4%2BdEJ5Krq/g8E/huH50Aeaf8EZf9A/ZP1vwh0/4R74qeJdO2/wB3bfM%2BP/IlfWlfJf8AwSd/4ltp%2B0L4Qbj%2Byf2nfFSQp6QubZ0P45avrSvJyLTKKK7Jr7pTX6H6B4qe94iZjU/nnGf/AIMo4ep/7kYUUUV6x%2BfhRRRQAUUUUAFFFFABRRRQAUUUUAFFFFABRRRQAUUUUAFFFFABRRRQAUUUUAFFFFABRRRQAUUUUAFFFFABRRRQAV4z44/5SF/C/wD7Iz48/wDTt4Qr2avGfHH/ACkL%2BF//AGRnx5/6dvCFAHs1FFFABRRXiH7f3iTxFoXwT0bSNE8V6loFp4k%2BJfhXw/r%2BuaPqElndWenX2tWltcCK5iZXtnmWT7MJkZXj%2B0bkZHCsAD2%2BivkHwhF%2B0D44/Y1%2BK/wv%2BC/j/XtV1Hwv8V9S0DwlrN74qk/tXUdFtdUt2u7CPVLhzJ9rERv9Niu5ZPMSSKNnl3o0leIeJf2pfj14a/Z0%2BLvwftPDHxm8OaTF8U9U0HRvE9rHq3jLXPCmhW/hvTNQu4ptS0s6hILt9Qubq0juGuHFp5smJ99iEIB%2BlteM/sH/APJENc/7LN8R/wD1NdbqT9ln4ta74n/YV%2BHnxesvDHivxbql18OtKupdOmg%2Byatqlx9liEhI1WS2HmO%2B598zoHB3hiGBOb/wTp1a/wBe/Zuvtb1XwxfaJc3nxb%2BIc1xo%2BpyQPc2Lt4z1omGVreWWEuhO0mOR0yDtZhgkA90r5q/4Kt/td3v7In7JOq6z4Lmlbxt4smXw/wCB7W1UtOb64BUzIq5JMUe914IMgjU/fFfStfAvwt09P%2BClH/BT/Vf2gL9Re/Cf9na4fRfBOfnt9W8SEhri7Q4KuImVWDK3SKzccM1eRnNetHDrDYd2q1XyxfZW96f/AG7G79XFHFjH7Tkwyk06rs2t4wSvUkuzULqL6TnB9D17/gll%2BwFoH7Cn7PltYazaJcePvFEUV9451ZyHc3BXctoj94odzKDn5nLv/EAPpyiiu7B4TD4DCww9FWjFWX%2Bb83u31bPWxWJni63PJJJJRjFaRjCKUYQiukYRUYxXZXd25ORRRRXScwUUUUAFFFFABRRRQAUUUUAFFFFABRRRQAUUUUAFFFFABRRRQAUUUUAFFFFABRRRQAUUUUAFFFFABRRRQAV4z%2By//wAlv/aO/wCyzWP/AKhXhevZq8Z/Zf8A%2BS3/ALR3/ZZrH/1CvC9AHs1FFFABRRRQAUUUUAFFFFABRRRQAUUUUAFFFFABRRRQAUUUUAFFFFAHhH7D/ij4vajq3xl%2BH3xg%2BMWpeOJ/A/xcOjaNrWraVYWc62T6Bot%2BISljbwRFUmvp9rFS%2B0qGdyM18y%2BHP%2BCjXxmT4L%2BOv2g/EfiHx1put654H8V6r8MPDXiXw1osfhRP7Pv0tkkge3U6o8tqrwGcXssaXIe4kgTy1UxfXHwj/Yn%2BA/wN8Ua54x%2BHUvjuG/8AEuuRaxrz6r8W/EepR3t7HGkSzPFeX8sZPlRRRMNu1o4Y0YFY1AbY/sLfsr2Wv%2BIvEMnwt%2B2t4p0zVtO1XT9W1y%2BvdPS01SQS6lBbWVxO9tZJdSAPOttHEJmAL7jQBk/sqeLfirpvxa%2BKH7PHxS%2BK%2Bo%2BO28E3Wj3Wk%2BK9Z02xtb2W3v7LzGtp1sLe3t2aOaGZlZIkPlTxK25lMj%2BJ/tGftI%2BH7H/gs3%2BzN4B02z8Q2rSeFfiLoOs3Oq%2BFNRsLSZpo9BuIRbXNzBHBfKZbNAWtnlVCV3Fdy5%2BqPgh%2Bz18Kf2dtE1DQ/hbpGowjV9RF9q9/rfiK%2B1e%2BvrgQxQK815fzTXEu2GGGJA8hCJGqqAoAr4e/4LVane%2BB/wBrz9ln4328xjt/AGp6xrOquP8AnzOs%2BFrWVSewIuQM%2B9cGaVpYfAzqr7Nn8lKN/wALnl5ziJYTLaldfY5ZfJThf/yW57F/wTq/4lH7Tn7VfhDp5Hxfj1Hb/wBfdkj5/HZX1pXyX%2Bx5/wASb/gpx%2B1t4bPypPN4K1G3H97zNJlEh/76Ar60rDJdMDy9p1F91Sf%2BZ%2BqeJvvcVKt/z8w%2BCn/4FgsN/wDIhRRRXrH5%2BFFFFABRRRQAUUUUAFFFFABRRRQAUUUUAFFFFABRRRQAUUUUAFFFFABRRRQAUUUUAFFFFABRRRQAUUUUAFFFFABXjPjj/lIX8L/%2ByM%2BPP/Tt4Qr2avGfHH/KQv4X/wDZGfHn/p28IUAezUUUUAFZvjHwZ4P%2BInha/wDA/wAQPCmm67omqWzW%2Bp6PrFjHdWt5Cww0csUgKSIR1VgQa0qKAOKt/wBmv9nO08Fv8N7X4A%2BCovDsmh/2LJoEfhWzWybTfMaT7EYBH5Zt97u/lY2bnY4ySa1/CXws%2BGPgHwFD8KvAnw50HRfC9vbSW0HhvSdIhtrCOFyxeNbeNRGEYs2VC4O456mt6igCtoui6P4b0e08O%2BHdJtrDT7C2jtrGxsoFihtoUUKkcaKAqIqgAKAAAABXkX7B/wDyRDXP%2ByzfEf8A9TXW69mrxn9g/wD5Ihrn/ZZviP8A%2BprrdAHGf8FZv2tL39k79kHWL7wXdS/8Jr4xkHhzwRb2hP2j7bcgq08YX5g0Ue91IGPMESn7wrvP2Ev2YtI/Y%2B/ZS8HfAewtoVvdL0tJdfuIsH7Vqc37y6k3AAsPNZlUnJEaIucKK%2BHrTxc3/BTX/gtpp1pYSG8%2BGn7PkM11akcwXWoQSqpnU9CXvRGFIyHiscjqa/T6vnsrqrM8xr437EP3UPRO85L/ABSsvSJMMDKFGnj6u9dN012oqTjGX/cacKk13p06b2krlFFFfQlBRRRQAUUUUAFFFFABRRRQAUUUUAFFFFABRRRQAUUUUAFFFFABRRRQAUUUUAFFFFABRRRQAUUUUAFFFFABRRRQAV4z%2By//AMlv/aO/7LNY/wDqFeF69mrxn9l//kt/7R3/AGWax/8AUK8L0AezUUUUAFFFFABRRRQAUUUUAFFFFABRRRQAUUUUAFFFFABRRRQAUUUUAFFFFABXwx/wWM%2BHB%2BKkN34WSAySQfs1/ELVIUAyS9jrHg29XHvm3GK%2B568I%2BNHhnTfGv7b3gPwbrCbrPVvgR8Q7K6XGcxy6l4RRh%2BTGubGUFisJUov7UZL701%2BpyY/DLG4Grh39uMo/fFr9UeGfsBfEgfEf/goD4s%2BInn72%2BIH7PfgrxHKc8s/kiNs%2B4ZyD6EV91V%2BS/wCw94t1j9mxP2e/2n/EFwV02SbVfgj8Uyx%2BSxlj1O4l0uc5%2B4A2xXc4CooH8VfrRXi8MYh1sDJS%2BLm5n6TUZJ/N83zTR97xNXlm%2BRZDncdYYjAYeDfarhovD1oPtKMowdv5ZxezCiiivoz40KKKKACiiigAooooAKKKKACiiigAooooAKKKKACiiigAooooAKKKKACiiigAooooAKKKKACiiigAooooAKKKKACvGfHH/KQv4X/9kZ8ef%2BnbwhXs1eM%2BOP8AlIX8L/8AsjPjz/07eEKAPZqKKKACiiuO%2BPHxs8Nfs/fDqX4ieJtI1PVN2pWOmaZouiQxyXuqahe3UVpaWkCyyRx%2BZJPNGu6R0jQEu7oiswAOxorx2H9tj4ZL%2Bzvqv7QureE/Eunromvt4f1XwfdWdu2sQa3/AGgmnR6ZsineBppbqWGON1mMDieOQS%2BW2%2BoNM/bHvPEfhLUNW8F/ss/ErW/EOg%2BJpNC8WeBLBtDXVNBu1tIb0faZJtUjsmV7a6tJkMNzKXW6jwM7goB7TXzf8BPHS/C79iL4nfExpQg8O%2BPPivqZc/w/Z/Fmvy5/8cr2z4OfFjwZ8ePhL4Z%2BNnw6vZrjQPFug2mr6NNcW7RSPbXESyxl42%2BZG2sMqeQcg9K%2BLP2ivHf/AArv/gjb8ddcWbY118Q/iLpa4PLfbfHuq2hH5Tn8M1yY%2Bv8AVcBVrfyxk/ui3%2BdjhzPE/U8tr1/5ISf3Rk1%2BNiL/AIN3f2erL4bfsXXHx1vYkbVviTrU05mA%2BZbGzkktYYz7%2Bat1JnuJRX35XgP/AASy8K/8Ib/wTu%2BD%2BkeXs87wTa32Mf8AP0Dc5/Hzc/jXv1cmQ4aGEyXD0oq1oRfzaUn97Z9JncK%2BHzKWErO7w6hQXksPThQUV5R9lJff1bCiiivWPJCiiigAooooAKKKKACiiigAooooAKKKKACiiigAooooAKKKKACiiigAooooAKKKKACiiigAooooAKKKKACiiigArxn9l/8A5Lf%2B0d/2Wax/9QrwvXs1eM/sv/8AJb/2jv8Ass1j/wCoV4XoA9mooooAKKKKACiiigAooooAKKKKACiiigAooooAKKKKACiiigAooooA82/Zs/aV0r9pKx8WSWvwv8V%2BD9Q8F%2BLn8Pa3ovjCGzS6W4FlZ3yyL9jubiMxvBfQMMuHBLKyKVxXF6H%2B3/4b1X4HfET9pTU/2eviHpPgf4d6P4h1GfXtQOisNaTRprqK7jsoYNSknDlrObZ9pjgVgFyy5xVX9lb4c/tg/DX4mfFXxL8V/hj8NbXTfiF8SYfEdm/h74lahfT2lv8A2Tp2myRvHNoturSAacsq4fDGcoSvl735Dwj%2BxN470v4u%2BMPiXb/sx/BPwro2t/D/AF/Q9X8CeGdeuZNP%2BIl7qF1bTLd66TpMKRFEhuYy3k3shGqXGXKrtlAPo34Q/ETxN8TfCz%2BJPFPwV8T%2BBJhdGOHSPFl1pc1zNFsRhOp0y9u4hGS5UBpFfMbZQDazcF44/wCUhfwv/wCyM%2BPP/Tt4Qqh%2BxD%2BzZ4w/Z6h8b3Wv%2BDvBvgvTfFPiKG/0T4b/AA7v5rnRPD0cdnDBIYHltbQB7iSNppFjtoYwzDh3LyPm3/wx8N%2BDv%2BCm3gvxnpOpeIZrzxD8HvHEl/Dqvi7Ub60iKat4SwLa1uZ5ILIHccrbpGGwNwO1cAHgPwk/Z00b44ad%2B2n/AME/dYaOFpfiS3iTRHl6WNxq1ql7Zyr3CJNbo2B23DvX0f8A8E3/ANovWf2lf2T9B8S%2BN1ki8YeHpJfDnjq0n/10Gr2JEM/mDszgJNjt5oHavJPjx4puv2C/%2BChc37XXjzSHPwp%2BLPh7TfDfi3xHbEkeHdXtnZbW5u1xxbvGRH5mflJbOMKHq/EHxHef8E2f2vdc/aTvLAXfwI%2BNt7ZSeLdV07Mi%2BE9e2%2BWmoOq5BtbncC8g/jP%2ByiyfH4apHLcRzy0VOUoVPKEpynSm/wC6nJrm2Sbvazt9X4bx/wBZOFMdwZvi6FWWIwsHpKTbkqlKF93Xw7U6aT9%2BrhnCPvtRf23RUVhf2Oq2MOqaXexXNtcxLLb3EEgdJY2AKurDhlIIII4INS19hufKtOLaas0FFFFAgooooAKKKKACiiigAooooAKKKKACiiigAooooAKKKKACiiigAooooAKKKKACiiigAooooAKKKKACiiigArxnxx/ykL%2BF/wD2Rnx5/wCnbwhXs1eM%2BOP%2BUhfwv/7Iz48/9O3hCgD2aiiigAry/wDa3%2BDfjP4z/DCwsfhreaZF4m8NeMNF8S6BHrc8kVldXGn38NybWeSKOR4kmjSSHzVjkMRkEgSTZsb1CigD5t8HfswfFdfgT8RfA/xc%2BGfgLxPqfxG1zUPE2q6KPGd/b6emoz3CeRYpdJp/nxRwW9vaFdQSMTfaEaRbeLC482tv2G/2wPhn8AvFPgf4FT%2BEbDW/i18Tzr/xQhvPirrZmstI/sy009rHT9cn0%2B6vJ7uaLT7cSX08KSJ9ouGiEbCFo/tuigDi/C/wt024%2BAulfB7XfCUHhKzg8PW2mvoXgLxReW0OkxRRqi29lfW62lwkcaoESRFhbao%2BVelfmP8A8FHNXsfhb/wR1Pwr0O9vpYtU/aW8aaXEdS1Se9uZLe38XeIrjfLcXDvNO2bePdJI7OzNlmJJNfrZX4qf8FRr678bfDf4UfAfTJSTqvx/%2BKt1eRq3ID%2BOr60hP4meUV87xZVdLh7EW3klFf8AbzSOrLsBTzfOsBl1T4cRicNSf%2BGeIoqfy5I1L%2BVz9d/2bvCv/CC/s7eAfBPl7P7G8F6VY7MY2%2BVaRR4/8drtKbFFHDGsMKBURQqqBwAOgp1e/SgqVKMFskl9yS/QMdip47G1cTP4qk5TfrKUpP8AGTCiiirOUKKKKACiiigAooooAKKKKACiiigAooooAKKKKACiiigAooooAKKKKACiiigAooooAKKKKACiiigAooooAKKKKACvGf2X/wDkt/7R3/ZZrH/1CvC9ezV4z%2By//wAlv/aO/wCyzWP/AKhXhegD2aiiigAooooAKKKKACiiigAooooAKKKKACiiigAooooAKKKKACiiigAooooAK8Z8cf8AKQv4X/8AZGfHn/p28IV7NXjPjj/lIX8L/wDsjPjz/wBO3hCgD074geAPBnxV8E6p8OPiJ4ctdX0PWrJ7TVNNvI90c8LjBUjt6gjBBAIIIBr4d07xFqf/AATctb/9kT9s7Q77xj%2Bzb4hZtP8ABPxCv7Y3iaDaz5X%2Bx9WVQWWJc7YpsYAxjCgrB99VR8TeGPDnjTw/eeE/F%2Bg2eqaXqNu1vf6dqFss0FzEwwyOjgqykcEEYrzsdgPrLVWk%2BWpFNJ2umnvGS%2B1F9t09Vrv52LwdeWIp4zB1HSxFLWE1funyys03G6TVmpRklKDUlr8OfDb4qeMf%2BCVc1t4M%2BIV7feNv2Y9ZuI5fh/8AEvTZjfy%2BD4ZyClne%2BXuMtnlh5U65ABAGdwRPuPwz4m8OeNPD1l4s8Ia9Z6ppeo2yXFhqOn3KzQXMTDKujqSrKRyCDivjXxJ%2Bxb%2B01%2BxamrXn7CM%2BmePPhhqZlfXP2fPHlzugWOTPnJpd3LuEQcE/uZcxnLE%2BYSAPCvgJ8YtR%2BDnjjULL/gn14xPhrUvt7S%2BKv2QPjRMdNuIbpuZBot1MQEZySyxhipB3MMbYx4GHzCvk9RYevBqHSO7j/wBe5aKpDtC6qwWnLNLT9IhxFw/4iVVTzmcMuzqWjnUfLhMbLbm9pbko4iW8pNRpVW3KpGjUcpz/AFNor5//AGZv%2BCj3wA/aH15vhdrU174A%2BJFo4h1T4ceOIvsWpRTY5WEPhblT1UxksVwxVc19AV9RhsVhsZS9pRmpLy/JrdPumk12Pn86yHOeHMc8HmdCVGpa9pLdPaUZK8Zwe8ZwlOElqpMKKKK6DyAooooAKKKKACiiigAooooAKKKKACiiigAooooAKKKKACiiigAooooAKKKKACiiigAooooAKKKKACvGfHH/ACkL%2BF//AGRnx5/6dvCFezV4z44/5SF/C/8A7Iz48/8ATt4QoA9mooooAKKKKACiiigAr8PviPNe/FX/AIKefC7wDaSCSw0L4567aalARn5pviV4ivZPpmG3j/Kv3Br8R/2LfD2oeMf%2BC2OpzXLGWyf9pT4iMgPIg/sufVJh%2Bcl6PxNfLcVp1MLh6K%2B3Wpr7nc%2Bj4Lpupxtl8%2BlJ4iu/TD4LG1V/5M4W80j9uKKKK%2BpPnAooooAKKKKACiiigAooooAKKKKACiiigAooooAKKKKACiiigAooooAKKKKACiiigAooooAKKKKACiiigAooooAKKKKACvGf2X/%2BS3/tHf8AZZrH/wBQrwvXs1eM/sv/APJb/wBo7/ss1j/6hXhegD2aiiigAooooAKKKKACiiigAooooAKKKKACiiigAooooAKKKKACiiigAor4v/4Jh/Fn9iXwz4%2B/aB%2BE37PHxY%2BGdvpifHeN9F0Dwr4jsCjC48OaFHviihkO4y3cV2pYAl5o5hkur48F06w8K/B/wN8efgv%2Byjr3wr%2BI2r678LvHHiTW/iL8GPDC2vifQ5X1ZZjpGp3Vtc3L3V5LFqF19lINvMG0t9sBI3IAfqVXjPjj/lIX8L/%2ByM%2BPP/Tt4Qrz7/gnKfggfH/xg/4ZAPh7/hTP9taN/wAIp/whflf2J/af9mR/2l9h8j9ztx9j83yvl%2B0efu/e%2BbXQX%2BpfFe7/AOCm3guz8beC/D2n6Fb/AAe8cDw1qOleJ57y7v0OreEvMa5tpLKFLQjCYCTXAbccldo3AH0PRRRQAV5v%2B0R%2ByH%2BzZ%2B1foH/CPfH/AOEGkeIkSMpbXtxB5d5ag/8APG5jKyxc8/KwB75r0iis6tGjiKbp1YqUXumk19zMq9ChiqTpVoKUXumk0/k00fnl%2B0V/wRk%2BLmu%2BHF8P/CP9oPT/ABvoVip/sXwl8bNPe8m00ZyEtNatdt9bRqfuxJhOBu3YryDwx8cf%2BC1f/BO6VdH8X/AbxR8QfBVk4UWWqP8A8JCsFuBy8Wp2Q%2B0QrxhUuI2VFwMV%2BtlFfPV%2BGMN7X22Eqzoz7xd16NSvdeTbXax6uVZ5xDkeX/2dg8U5YTVrD14xxOHTe7hTrNyot98PXovyZ8R/s4/8F7P2JPjJLF4c%2BK2oal8L/EW/yrjT/FcBNosvdVu4xtVR/emWHp0r7H8GeOfBPxH8PweLfh74x0rXtKuc/ZtT0bUI7q3lx12yRMyt%2BBrB%2BKX7OfwA%2BN8Bt/jF8E/CnigFdofXtAt7p04xlXkQsp9CCCK%2BYfiH/wAEKv2NtS1I%2BKfgHrHjT4Sa6qsYtR8DeKJ1QuTnLJO0hCj%2B7G0Yroh/rFhI2l7Oul2vTl%2BPNB/geXiK%2BPxFe8KFGCf8s6yj8lONVx9OeSXfRH2jRX5peMv2Gf8AguN%2Bz%2BJL39m3/goJL8QbKAH7PZ%2BKLlRfP6DZqKXEJ9OZl/w4W/8A%2BCjn/BZP9m%2BVbX9o34a6ZZQwL/p2ueNPhjenTFx123miSSIx75CY71y1OJo4V2xmFq0/PlUo/wDgUXb8j3cHwtxfmMObA4L6z5Yevh60/wDwV7WhXfoqUm9km9D9Z6K/Or4Pf8Fj/wBpb4iCKLw5%2Bz78JviBLJjEHg/422el3jD%2B8tjqiLcN/u7c16%2BP%2BCnXxX8MD/i6n/BMH4/aft/1knhrw7BrUSe%2B%2BGVMr74rso8Q5VXhzxk7d%2BSdvvUZL8T5zM8TVyPEvD5rhq%2BFqL7NbD16T/8AJqWvqm15n1tRXyXF/wAFqf2JNHlWD4ry%2BPPAEhO0x%2BMvh5qMBU%2Bh8mOUD8673wd/wU%2B/4J7eO9n9hftgeBIi/wB1dW1xNPY%2B2Lryzn2rpp5xlNV2jXhftzJP7nyv8DjpZ/kdaXLDE079nNJ/dJxf4Hu9Fcr4b%2BOnwS8ZBT4Q%2BMfhXVd/3P7N8Q20%2B76bHOa6lHSRQ6MGUjIIOQRXfCpCorxafo0/ybPThUp1VeEk15NP8mxaKKKssKKKKACiiigAooooAKKKKACiiigAooooAKKKKACiiigAooooAK8Z8cf8pC/hf/2Rnx5/6dvCFezV4z44/wCUhfwv/wCyM%2BPP/Tt4QoA9mooooAK8Q/b%2B8SeItC%2BCejaRonivUtAtPEnxL8K%2BH9f1zR9Qks7qz06%2B1q0trgRXMTK9s8yyfZhMjK8f2jcjI4Vh7fWb4x8GeD/iJ4Wv/A/xA8KabruiapbNb6no%2BsWMd1a3kLDDRyxSApIhHVWBBoA%2BU/CEX7QPjj9jX4r/AAv%2BC/j/AF7VdR8L/FfUtA8Jaze%2BKpP7V1HRbXVLdruwj1S4cyfaxEb/AE2K7lk8xJIo2eXejSV5V8KPHfxS%2BKnxGtf2YviHrfxJ8F/D4/tB61oenJefFK7k1%2BS1tfBlpqiaTPrtlfSzyMuoTajMwivJGUWP2ZpGSGVD9vW/7Nf7Odp4Lf4b2vwB8FReHZND/sWTQI/Ctmtk2m%2BY0n2IwCPyzb73d/Kxs3Oxxkk1Hqf7MH7NOtfCW2%2BAWsfs8eBrvwJZur2fgq58JWcmkwMrl1KWbRGFSHZmBC8Ek9TQBwv7GXxe%2BI3iv9gbwH8XvEWkaz4616fwhBOg06S0jvvESL8kN2rXM0Fv5lxEEnLNJGh8wkEAgV%2BfX/BLTSJrn/gp74o8W%2BJ/Dt7ocjeJ/iz4yuNM1RoXuLBrrxhPpJgkNvJLE0itatGfKkkQsDsZwQT%2BuWnadp%2BkafBpOk2MNra2sKw21tbxBI4Y1AVUVVwFUAAADgAV%2Ba3/AATe/wCKt/4KGfHrxBjd/wAIl4i1jQ939z7V8RdYvdv44zXi5xSjVq4VP/n7H8FNv8j7rgWjGLzXHPehgcTb1reww6/CpJfM/Rr/AITDSf8An01T/wAEd3/8apf%2BEw0n/n01X/wR3f8A8ar528ff8Fkf%2BCb3wv8AHetfDTxz%2B0b9h1vw7q1zpmsWX/CIaxL9nureVopY98doyPtdGG5SVOMgkc1k/wDD8v8A4Jaf9HQ/%2BWTrf/yFW0s8yWEnGWJppr%2B/H/Mqj4W%2BJmIoxq0skxcoySaaw9VpppNNNQs0000%2BqafU%2Bn/%2BEw0n/n01X/wR3f8A8ao/4TDSf%2BfTVf8AwR3f/wAar528A/8ABZH/AIJvfFDx3ovw08DftG/btb8RatbaZo9l/wAIhrEX2i6uJViij3yWiom53UbmIUZySBzXfft/fGD4mfs%2B/sTfFP44/Bu002bxP4S8D6hqujrq8zJbrLBC0m99scm7aoZgm3DsoQsgYuvXhcbg8bFyw9SM0t%2BVp29bHz%2BecM8ScMVoUs4wVXDSmm4qrTnTcknZtKaTaT0bXXQ9L/4TDSf%2BfTVf/BHd/wDxqj/hMNJ/59NV/wDBHd//ABqvnvU/23Pjb4V%2BIfjnwX8QvgV4E0LT/hl8PLTxN458T3fxUujY273cWqNb21tjRxLOofT4xLK6RFEuC0cczoIpOZ%2BG3/BSrV/irqnhnQ9W%2BE%2Br%2BF9bi%2BNEvg7xDpCy3ltDIh8H6hr8M%2B3WNHtL14XSGJNv2e0kEqBllkhUrcdJ4Z9Vf8JhpP8Az6ar/wCCO7/%2BNUf8JhpP/Ppqv/gju/8A41Xzz%2ByV%2B3z8Sf2h9P0S48c/swf8I/d%2BLPhNovxB8J6X4e8aw6rPdadfMEeCc3EFlFb3EJeJioeRHR8hwymOup/ar8WfFXUvi18L/wBnj4W/FfUPAjeNrrWLrVvFejabY3V7Fb2FkJFtoFv7e4t1aSaaFmZ4nPlQSqu1mEiAHrv/AAmGk/8APpqv/gju/wD41R/wmGk/8%2Bmq/wDgju//AI1XzlB%2B0J%2B0j8T/APgmR4Q%2BP/w%2BtLn/AITnXdI8OzeIbvwroa3txb2kt/aRaxqGnWUiyCeVLM3lzbwFZdzLGuyc4jfyXw1%2B1X%2B1P8RfDj%2BH7Dxt8XbHwx4W%2BKOu%2BG9d%2BIuh/CS3u/Fl5HHpljfaSbnSTpkiW0crX0sUsgsYiptYRILYyyFQD7n/AOEw0n/n01X/AMEd3/8AGqP%2BEw0n/n01X/wR3f8A8ar4u179qj9qPxJ%2Byv8As/ftqaD4h8XaOvjfRfCFz450qzsPD7%2BEdJW8urIXtzqJnjfVwk0V3KkLWEkiRtFE8vlx%2BZI/prfGT4vfB39qP4%2B2Pi/4mar4x8MeFfg1ofjnw54XutMsLcaXNNdeJI57S3ltrdJpUePS7YZuHmYMGKkBitAH0H/wmGk/8%2Bmqf%2BCO7/8AjVX7C/tNTtEvrGcSRSDKsAR3wRg8gg5BB5BFfMn/AATm/aA8e/FiyuNO%2BNnjr4g3Xi/VfBmieKho3jPw5omn2EVjei4xc6SNMQzC0eVHj8m/lkvIhDF5gUyZf6M8H/8AIJm/7Cl9/wClctAGrRRRQAUUUUAFFFFABRRRQAUUUUAFFFFABRRRQAUUUUAFFFFABRRRQAUUUUAFeM/sv/8AJb/2jv8Ass1j/wCoV4Xr2avGf2X/APkt/wC0d/2Wax/9QrwvQB7NRRRQAUUUUAFFFFABRRRQAUUUUAFFFFABRRRQAUUUUAFFFFABRRRQAUUUUAFeM%2BOP%2BUhfwv8A%2ByM%2BPP8A07eEK9mrxnxx/wApC/hf/wBkZ8ef%2BnbwhQB7NRRRQAUUUUAFFFFABRRRQAUUUUAeS/GD9g/9jX49mWf4s/s0%2BENWup8%2BbqP9jRwXjZ6/6TCEl/8AHq8hP/BIvwF8Pz5/7K37Uvxh%2BFRj/wCPfS9C8aS3elr6B7W63%2BYB2BevriivPrZTluInzzpR5u6XLL/wKPK/xPscs8QeNsowyw2GzCr7H/n3OXtaX/gqsq1P7oLysfI0nwc/4LDfC%2BJofBf7V/ws%2BKdoox9l%2BIvgiXSZZI/7m/TmIZscbm4J5NcH4x1D9olA6ftO/wDBDrwL43t/%2BW%2BteDdU0fUmc9ylrcw%2BfnuDuzX3rRXLUyWMlaFaaXaTjUX3VIy/M66vGuAzKPLnGSYHE92qLoS%2B/D1IRv8A9wreTPy%2B8R6z/wAEbiWX9or/AIJh/EL4YEf8fE%2BvfDO/sIE9Sr2ErZX0IA%2BlWvA3we/4N2PHTLJ8MPjVp/hd5TlC3xJ1nR2BPtfzJg1%2Bm9cb47/Zz/Z8%2BKW8/Ez4F%2BDvEJk%2B%2B2t%2BGbW6LfjLG1cE%2BH5p3UaM/wDFRUX99OS/I8yeB8E8wd8RkVWhLvRr0qiXpHEYeMv/ACp/mfLfg7/gmp%2Bx342RZPgp%2B3F8WArDMTeD/jcZwB7Y8yuhH/BKrXNP58O/8FL/ANqG3x91bz4mrcqPwa3HFdD4x/4I/wD/AATa8cO0uq/spaFaOTlX0S7u9OKn1AtZowPyxXPf8OdPgFoX/JJ/j58bvAe3/VDwl8ULqIR%2BmPOElT/ZVWnvg6b/AMFWcfwlZfiZ/wCpHgtif4GOxFB9qmFckvnhsar/ACgg/wCHcn7Senf8i5/wVV%2BMsWPu/wBprZ3n57kGaP8AhiP/AIKKaX/yLH/BXjX4sfdGq/CTSb3897jNH/DvH9q3wv8A8kt/4Kt/Fa02/wCr/wCEs0yx1zH%2B95ypupf%2BFAf8Fe/Cv/IB/wCCgfgPxVt%2B6PE/wpisd/1%2BxucfhR9WhD4sJWX%2BGq3%2BVZP8A/4hbwTW/wB04goek5ZhQf8A5NCrFf8AgQn/AAy9/wAFZLH/AI9f%2BCpWh32On234I6dFn/v3JQfgd/wWHsf%2BPX9uf4a32On234ZeVn6%2BW9L9r/4LfeGv9fpP7NfiaFen2afW7O4f678xj8KP%2BGif%2BCufhz/kNf8ABOjwZ4k29f8AhHvi5bWe76faozj8aLYOPxRxMf8Awa/ylMP%2BIOzqf7rm2Gqf4czUf/TypfixP%2BEV/wCC3ejf8gz4q/s5a1jp/bGh6xbbvr5BOKP7c/4Liaf/AMffgX9mXUMdfsGp67Fn/v6KX/hvb9tzQ/8Akef%2BCTHjy32/f/sDxrpuqY%2Bnlhc0f8PTfE2k8eMP%2BCaP7TFpj70mnfDtL2Nfcsk4496PbZbH/mKrx9fafrRYf8QU4zf%2B71JVP%2BveOwdT/wBzif8AC0f%2BCzth/wAfX7LPwXv8dfsPje7iz9PMWj/hoj/grtp//H5/wTo8F6hj/nw%2BLtvFn/v7HS/8PifgHYf8jb8APjhoGPvf2x8LbpNv12M1H/D7j/gnnZ/8jN8SfEWiY%2B9/avgHVk2/XZbtR9byxf8AMxkvWUf/AG6kg/4gl4pf8usLjZf4FTq/%2BkKpcT/hrH/gqxbcT/8ABJSyufe2%2BPOkJ/6HFR/w17/wVPHJ/wCCPin6ftA6J/8AGq1NL/4LQ/8ABMfV8fZP2q9NTPT7VoWpQf8Aoy2Wuj0v/gqf/wAE7dXx9k/a%2B8FJnp9q1PyP/RgWtI18HP4czv8A9vUP/kTir%2BEfihhf4uFx8fXDP/5mZxB/bN/4KZwc3v8AwR%2BvlA6%2BR8cdGl/lHzS/8N3/ALdtpxq3/BJLxoh7/Y/iBplx/wCggV6tpv8AwUC/YU1YD7F%2B2V8LiT0WTx5p6MfwaYGtuw/a5/ZR1TH9mftO/Dy5z08jxpYvn8pa6Ix5vhzBv50H%2Bh5NbgPjjD/xFi4/4sM/1w0Tw3/h4X%2B1pDxe/wDBKH4pqf8AphrFhJ/I0f8ADxr9pWP/AF//AASq%2BMg/65vZt/J6%2BjLD44/BTVMf2Z8YPC1znp5HiC2fP5PWzY%2BLPC2p4/s3xLp9xnp5F4j/AMjW0cNi5fDjW/8At2kzzKvD/EWH/iYirH/FRgvzhE%2BWv%2BHk3x8Tib/glj8cQf8AYsbVv/alH/Dyz44Ly/8AwS0%2BPGO%2B3SLY/wDtWvrUEEZByKK0%2BpZj/wBBb/8ABdM5f7Ozb/oOl/4KpHyV/wAPNvi2Plf/AIJdftB7vQeGoCPz86j/AIeWfHB/mh/4JafHgr6vpFsp/Lza%2BtaKPqWZf9Bb/wDBdMP7Ozf/AKDpf%2BCqR8lf8PLPjePv/wDBLT48fhpFsf8A2rVT4KftL%2BNv2if%2BChfgz/hMf2WvHvw0/sf4M%2BMvs3/Cb2UcP9o%2Bbq3hXd5Oxmz5flLuzjHmp619gV4z44/5SF/C/wD7Iz48/wDTt4QrWhhcbTqqVTEOS7ckFf5rU3w2CzGlWU6uKc4r7LhTV/nHXz0PZqKKK9A9QKKKKACiiigAr86P%2BCQnh7Hx1/bD8dmP/j%2B/advdOD/9eviLUGI/8mP1r9F6%2BJv%2BCUPhdtG8BftCa/NH8%2Btfto%2BOJkcjrHH4kEIH0DRv%2BZrgxdP2mKw7/llJ/wDkkl%2Bp9bkGNWDyDOI31q0aVP78VSm//TaPtmivmLx//wAFNf8AhAvHet%2BBf%2BHfP7T2tf2Lq9zYf2xoHwn%2B02F/5MrR%2BfbS/aR5sL7d6PgblZTgZrI/4ew/9Y1P2tP/AAzf/wB1VlLOssjJxdTVf3Z//Kz85lxDk0JOMquq0%2BGp00/59H1pWL8R/h54M%2BLnw%2B1z4VfEbQYtV8P%2BJdIudL1zTJ2ZUurS4iaKaIlCGAZGYZUgjOQQea%2BfPAP/AAU1/wCE98d6L4F/4d8/tPaL/bWr21h/bGv/AAn%2BzWFh50qx%2Bfcy/aT5UKbt7vg7VVjg4r2b9pPxh8Tvh58AvF/xB%2BDPhy01nxPoOgXOpaPot7C7pqUkCGU2oCOhDyqjRo27Cu6sQwBU9eGxmGxkXKjK6W%2Bkl/6VGP6nbg8fg8wi5YeXMlo9JLz%2B1GP4XMaD9jX9nhfCvinwdqfhDUtXs/Gvhu30HxVL4i8V6nqd1qVhB9p8mOS5u7mSfen2ufEocSjcvz/Im3O8D/sFfstfD3Ul1zw/4C1KbUh4uHiiXVta8Y6tqV5cauNIm0YXc1xeXUss7DT55bfEjMu0qcbkRl8N8R/8FH/ib8SPC1z4x/ZcbQ9VsPEfjubSPhRLF4SXVG8QadYaQt1qt7I1zrelW0McV358Adrhdos3ASVpB5fE%2BDf26viN8XPEeifHiy%2B02unePPhl%2BzvqsfhRtfvfsOlT%2BIvF2u21/JB9mni3OYvJRmOUnW1hWZJYl8o9J2H2H4Y/ZO%2BBHgmx0Sw8HeE73Sl8OeBrTwdok2neI9QhmtNFtXjeC1WVJw52mKPMhYyMAQzsGYHR%2BN/7PXwp/aJ0TT9D%2BKWj6jMNI1E32kX%2BieIr7SL6xuDDLAzw3lhNDcRboZponCSAOkjKwKkivk34J/tU/tQfG79qT4QeMNT8VeEf7E8d/C3x/rfhz4e6VdXuntayWd/o0FtBq0pmuEupY/NKNcJbRG2ke4RYpM5Pt37b%2BreJJ9M%2BFHw3l8Var4d0jx38V7DQ/GepeG9duNPuobM6ff3SQQ3tu0U9v597a2dr5kbRyMtwVUqXFAHoUn7O/wALE8Bj4YaNY6xougReHLDQrLTPDPivUdKj0%2BxsyTbpafY7iI2bqDtMsBSV0REZ2WNFXAv/ANir9n2%2B%2BFVn8FotJ8TWPh%2B0v7m9li0f4h63Y3WoT3LO1y99d294lzqBmaR2k%2B1SSiRmy%2B4gEeWfCLUf2hfin/wTb8b6H8J/iTdz%2BNLPUvHfhzwD4s1jVS1xcW%2Bn69qmn6ZcSXkoctKbW2gH2tw5dsTtv3HPmvw78f2ul/C79o%2BL4/6N8XPD3w9%2BD93Z65pem6j8atTn8R2k66Gt1d6dJqumapLNLuYxzJam8nH%2BnRcLmOKIA%2BovFn7Gn7PPjbW9F1bxD4V1V7Tw/Fp8el%2BGbXxfqltoKLYyLJaB9IhuVsJvKdI2QyQMQYo/%2BeaYdo/7H3wO0P8AaC1b9qCyt/Fb%2BMNd05NP1aa8%2BI%2BuXGn3NonnmO3Omy3jWIija5uGjjEAWN55HQKzkn4s%2BIZ/ac%2BBfgX4V/An4rX/AIz8U23hD9nvW/HvxHnPx41fw7e6hqdtcWb3yrq8LyXt2bQXUkdvbSzJblZ0M8y%2BVCa9o%2BOer%2BKdF/aY%2BCX7QPw/8Ra7pfhPxz4t02w167n%2BJ%2BsTNM91pt0sOmf8IxKTp0cb7baSS8jcXETq7mEjzJQAe6fAr9k/4Efs23V9f/CHwleWU%2BoWFrYST6l4iv8AU3gsbUyG2sbdr2eU2tpCZpTHaw7IY/MbagzXZeD/APkEzf8AYVvv/SuWtSsvwf8A8gmb/sK33/pXLQBqUUUUAFFFFABRRRQAUUUUAFFFFABRRRQAUUUUAFFFFABRRRQAUUUUAFFFFABXjP7L/wDyW/8AaO/7LNY/%2BoV4Xr2avGf2X/8Akt/7R3/ZZrH/ANQrwvQB7NRRRQAUUUUAFFFFABRRRQAUUUUAFFFFABRRRQAUUUUAFFFFABRRRQAUUUUAFeM%2BOP8AlIX8L/8AsjPjz/07eEK9mr5w/aP1f416P%2B3h8J5/gd8P/C3iLUm%2BEfjtbu08V%2BMLnRYI4P7U8JEuktvp96zvu2jYY1GCTvyApAPo%2BivGf%2BE4/wCChf8A0a/8Gf8Aw/Grf/MvR/wnH/BQv/o1/wCDP/h%2BNW/%2BZegD2aivGf8AhOP%2BChf/AEa/8Gf/AA/Grf8AzL0f8Jx/wUL/AOjX/gz/AOH41b/5l6APZqK%2BcdJ/aO/bt1j4z6/8Drf9lD4SLqnh3wvpGu3ly/x11TyJINRudSt4UQjwxuLq2lzlgVAAePBYlgvUf8Jx/wAFC/8Ao1/4M/8Ah%2BNW/wDmXoA9morxn/hOP%2BChf/Rr/wAGf/D8at/8y9H/AAnH/BQv/o1/4M/%2BH41b/wCZegD2aivGf%2BE4/wCChf8A0a/8Gf8Aw/Grf/MvXL%2BAf2jv27fiJ4r8b%2BENH/ZQ%2BEkNx4D8URaFqslz8ddUCTzyaVp%2Bph4tvhgkp5OowqSwU70cYwAzAH0dRXjP/Ccf8FC/%2BjX/AIM/%2BH41b/5l6P8AhOP%2BChf/AEa/8Gf/AA/Grf8AzL0AezUV4z/wnH/BQv8A6Nf%2BDP8A4fjVv/mXo/4Tj/goX/0a/wDBn/w/Grf/ADL0AezUV84/CL9o79u34y%2BFLvxf4c/ZQ%2BEltb2fijW9CkjvfjrqiuZ9L1W60ydxt8MMNjTWkjIc5KMpIU5UdR/wnH/BQv8A6Nf%2BDP8A4fjVv/mXoA9morxn/hOP%2BChf/Rr/AMGf/D8at/8AMvR/wnH/AAUL/wCjX/gz/wCH41b/AOZegD2aivGf%2BE4/4KF/9Gv/AAZ/8Pxq3/zL1y/wR/aO/bt%2BPHwY8IfHHwr%2Byh8JLXS/GfhfT9d0221D466os8MF3bR3EaSBPDDKHCyAMFZhkHBI5oA%2BjqK8Z/4Tj/goX/0a/wDBn/w/Grf/ADL0f8Jx/wAFC/8Ao1/4M/8Ah%2BNW/wDmXoA9morxn/hOP%2BChf/Rr/wAGf/D8at/8y9cv8bv2jv27fgP8GPF/xx8VfsofCS60vwZ4X1DXdSttP%2BOuqNPNBaW0lxIkYfwwqlysZChmUZIyQOaAPo6ivGf%2BE4/4KF/9Gv8AwZ/8Pxq3/wAy9H/Ccf8ABQv/AKNf%2BDP/AIfjVv8A5l6APVNU8G%2BENbz/AG14U0283dftVjHJn/voGuc1T9mz9nTXM/218AvBV5nr9q8K2kmf%2B%2BozXHf8Jx/wUL/6Nf8Agz/4fjVv/mXo/wCE4/4KF/8ARr/wZ/8AD8at/wDMvWcqNGfxRT9Un%2BaZ20MyzHC/wK84f4Zzj/6TOJoal%2Bwl%2BxFq5J1P9jz4XTMerv4A04t%2Bfk5rEvv%2BCaH/AAT81HP2j9jn4ern/nh4Zgi/9AUVhfF39o79u34NeFLTxf4j/ZQ%2BElzb3nijRNCjjsvjrqjOJ9U1W10yBzu8MKNizXcbOc5CKxAY4U9R/wAJx/wUL/6Nf%2BDP/h%2BNW/8AmXrnll2Xz%2BKjB/8Abkf/AJE9ajxjxhh/4WZYmPpiK/8A8uOav/8Agkn/AME4NRz9o/ZI8Lrn/ngs0X/oEgrGvv8Agix/wTF1HP2j9lWwXP8Azw8Q6nF/6BdCu%2B/4Tj/goX/0a/8ABn/w/Grf/MvR/wAJx/wUL/6Nf%2BDP/h%2BNW/8AmXrGWTZPLfDU/wDwCP8AkenS8SvEah/DznFr0xNb/wCWM8yP/BD3/gmnAd2kfAnUdPPY2XjrWVx%2Bd2aP%2BHLP7E1v/wAgePx9p/p9i%2BIupLj/AL6lNem/8Jx/wUL/AOjX/gz/AOH41b/5l65fx9%2B0d%2B3b8O/FfgjwhrH7KHwkmuPHniiXQtKktvjrqhSCePStQ1MvLu8MAhPJ06ZQVDHe6DGCWXP%2Bwsl6YaC9IpflY6v%2BIr%2BJr%2BLOcTL/ABVpS/8ASlI5r/hzl%2BzrB/yCfjX8abADoLP4oXYx/wB9Zo/4dD/DaH/kHfti/tGWfp9m%2BLMwx%2BcRr03/AITj/goX/wBGv/Bn/wAPxq3/AMy9H/Ccf8FC/wDo1/4M/wDh%2BNW/%2BZej%2Bwso6UV/5Mvymg/4ip4i9cyqP1VKX/pWHkeZf8Om7GH/AJB//BRX9qq1HZYPjAcfrbGqXwV/ZVvP2ZP%2BChfgtbn9pj4p/EVda%2BDPjLYPiZ4qGpnT/J1bwrn7ORGnl%2BZ5o39d3lR9NvPrX/Ccf8FC/wDo1/4M/wDh%2BNW/%2BZeqHgfwP%2B1Z4x/as8OfG743fDj4e%2BGdG8M/D3xDocMPhX4h32tXV3dalfaJcIzJcaRYpFGiaXKCwd2LSoAuMkbUMqy/DVVUpQtJec/yc2vwPPzTj7i/O8DPB47Fc9Odrr2eHV7NNe9DDU5rVLaa7O6un7rRRRXoHx4Vx3x4%2BNnhr9n74dS/ETxNpGp6pu1Kx0zTNF0SGOS91TUL26itLS0gWWSOPzJJ5o13SOkaAl3dEVmHY15f%2B1v8G/Gfxn%2BGFhY/DW80yLxN4a8YaL4l0CPW55IrK6uNPv4bk2s8kUcjxJNGkkPmrHIYjIJAkmzYwBmf8NufC61/Zs179pXXvC/iPS7bwxqdxpOv%2BFb21t/7WstVhvBZmwZY52tzI07RqkgnMDLKkvm%2BW2%2Bub/4eMeC5bSHRrH4A/EO48ayeOLzwpJ8OUGjLqcN/a6YmqzFrh9SXTmjWylhl3JdsT5gQDzFdE5rUf2QP2jPE/wCy/wDEr4Va9L4KtvEXxN8Sz%2BJtbig1y7n0yWSXUIWk0GQtZpI1lLptrFZy3gUSMbid1tkwqnzuT/gmV8Tf%2BEIg0a9%2BAnwN1bwqPidqPiRP2c9R1O4HgvTba40a3sI0t5/7JfMiXUV1f7P7PSEy6lPhVkRZ2APsr4LfFrwf8fPhB4W%2BOHw%2BluX0Lxh4fs9Z0d7y2MMptrmFZo96HlW2uMjse5614x%2BxD4Z07wv%2Bzx4svLHzCL39obx/qd87DOD/AMJ5qm9uB0VIx%2BC13vwN/Z%2B1jwV%2ByR4U/Zu%2BK/j3VNavtI8IWekazr2ja7fafczyRRKrNDdwzJdRgFcLJ5olKgbmJLE%2BGfsSXf7X/gH4Na14K%2BDnwL%2BH2u%2BGdK%2BLvxBttH1bxj8cNYj1S5iTxjrA3XIfQ712k3BgXe5md8B2bcxATSbT7FxqTjCUE9JWv52d19z1Pq7/AITnwT/0OGl/%2BDCP/wCKpf8AhOfBP/Q4aV/4MI//AIqvLf8AhOP%2BChf/AEa/8Gf/AA/Grf8AzL0f8Jx/wUL/AOjX/gz/AOH41b/5l6ZB6l/wnPgn/ocNK/8ABhH/APFUf8Jz4J/6HDSv/BhH/wDFV5b/AMJx/wAFC/8Ao1/4M/8Ah%2BNW/wDmXo/4Tj/goX/0a/8ABn/w/Grf/MvQBqX3wM/Yo1T4caT8HdT%2BDvwtuPCOgXv2zQvCs/h7TX03TbndI3nQWxTyoZN0sp3ooOZHOfmOdDT/AIcfso6Ta2tlpXgP4e20NlaaTaWUNvpdii28GlzyXGmRIAoCJaTyyy26jAgkkd4wrMSfM/gj%2B0d%2B3b8ePgx4Q%2BOPhX9lD4SWul%2BM/C%2Bn67pttqHx11RZ4YLu2juI0kCeGGUOFkAYKzDIOCRzXUf8Jx/wUL/6Nf8Agz/4fjVv/mXoA1bH4H/sVaX4p1vxzpnwg%2BF1vrfiWC6h8R6xB4f01LrVY7rH2lLmUJvnWXavmByQ%2BBuziug8b6V8APiZ4Iufhl8SNN8HeIPDd5CkV34e1yG0u7GeNGVkR4JQ0bKrKpAK4BUEdBXFf8Jx/wAFC/8Ao1/4M/8Ah%2BNW/wDmXo/4Tj/goX/0a/8ABn/w/Grf/MvQB1Q8E/swjw9b%2BER4R8BjSbTw3P4etdL%2BwWX2eHSJxGs2nJHt2rayCGIPAB5bCJAVO0Yr%2BHvhr%2Byd4R%2BG4%2BDfhTwB8O9M8ILOJ18KafpVhDpolEwmD/ZkURbhKqyZ253qG6jNea/G79o79u34D/Bjxf8AHHxV%2Byh8JLrS/BnhfUNd1K20/wCOuqNPNBaW0lxIkYfwwqlysZChmUZIyQOa6j/hOP8AgoX/ANGv/Bn/AMPxq3/zL0AdT8T/AAN%2By98boNOtfjR4P8BeL4tIvBd6TH4o0%2By1BbK4AwJoROrCN8fxLg%2B9Vrf4W/sj2nxbl%2BP1p8OvhzF47nTZP41j0iwXV5F8oQ4a8C%2BcR5SiPBf7oC9Biuf/AOE4/wCChf8A0a/8Gf8Aw/Grf/MvR/wnH/BQv/o1/wCDP/h%2BNW/%2BZegD1H/hOfBP/Q4aX/4MI/8A4qjwYd%2BhmdQdk19dyxEjG5HuZGVvoVII9jXl3/Ccf8FC/wDo1/4M/wDh%2BNW/%2BZeuX%2BLv7R37dvwa8KWni/xH%2Byh8JLm3vPFGiaFHHZfHXVGcT6pqtrpkDnd4YUbFmu42c5yEViAxwpAPo6ivGf8AhOP%2BChf/AEa/8Gf/AA/Grf8AzL0f8Jx/wUL/AOjX/gz/AOH41b/5l6APZqK8Z/4Tj/goX/0a/wDBn/w/Grf/ADL0f8Jx/wAFC/8Ao1/4M/8Ah%2BNW/wDmXoA9mor5x8fftHft2/DvxX4I8Iax%2Byh8JJrjx54ol0LSpLb466oUgnj0rUNTLy7vDAITydOmUFQx3ugxgll6j/hOP%2BChf/Rr/wAGf/D8at/8y9AHs1FeM/8ACcf8FC/%2BjX/gz/4fjVv/AJl6P%2BE4/wCChf8A0a/8Gf8Aw/Grf/MvQB7NRXjP/Ccf8FC/%2BjX/AIM/%2BH41b/5l65fVv2jv27dH%2BM%2BgfA64/ZQ%2BEjap4i8L6vrtncp8ddU8iODTrnTbeZHJ8Mbg7NqkBUBSCEkyVIUMAfR1FeM/8Jx/wUL/AOjX/gz/AOH41b/5l6P%2BE4/4KF/9Gv8AwZ/8Pxq3/wAy9AHs1FeM/wDCcf8ABQv/AKNf%2BDP/AIfjVv8A5l6P%2BE4/4KF/9Gv/AAZ/8Pxq3/zL0AezUV846T%2B0d%2B3brHxn1/4HW/7KHwkXVPDvhfSNdvLl/jrqnkSQajc6lbwohHhjcXVtLnLAqAA8eCxLBeo/4Tj/AIKF/wDRr/wZ/wDD8at/8y9AHs1FeM/8Jx/wUL/6Nf8Agz/4fjVv/mXo/wCE4/4KF/8ARr/wZ/8AD8at/wDMvQB7NRXjP/Ccf8FC/wDo1/4M/wDh%2BNW/%2BZeuX8A/tHft2/ETxX438IaP%2Byh8JIbjwH4oi0LVZLn466oEnnk0rT9TDxbfDBJTydRhUlgp3o4xgBmAPo6ivGf%2BE4/4KF/9Gv8AwZ/8Pxq3/wAy9H/Ccf8ABQv/AKNf%2BDP/AIfjVv8A5l6APZq8Z/Zf/wCS3/tHf9lmsf8A1CvC9H/Ccf8ABQv/AKNf%2BDP/AIfjVv8A5l6t/srfDn40%2BD9Y%2BKHjv46aB4X0nVPH3xCi1yz0rwn4ludWt7W1i0HR9MVXuLiys2aRpNOlcqItoWRBuY5wAet0UUUAFFFFABRRRQAUUUUAFFFFABRRRQAUUUUAFFFFABRRRQAUUUUAFFFFABXyv%2B09%2B1p8XPhh8Y/FmteAfDvg%2BTwx8H/D/h%2B98anWtIuJtV1S31e/lS5gsLiO4jSy8i2s47jMkU4uZCkZEPl%2BafqivGfjP%2BxD8OPjd8Uj8TNc8c%2BKtLi1G10i18X%2BGtGurVNO8UwaXeyXtjFfLLbyTBY5ppc/Z5YDLHIYpjLGFQAHs1FFFABRRRQB8x%2BHP2lfiZD%2B3/4o%2BD/xG1jw94T8Nr4gtNE8GRaj8ItZS68YwDQINRxB4ja7XTmlju7nUALQQvJ5dpMAoLNIv05Xlfiz9lqDx/8AGTSPin49%2BN/jXV9K8Pa7HrWgeALg6ZFo1jqEdu8Ec4aGyS9l2eZJIqTXUkYkfds%2BRAvqlABRRRQB4v8A8FBfi78cP2fv2R/Gnx6%2BAV74Uj1jwToV3rl1B4w0W5vra7tLW2lme3RLa6tmSV2RFEhcqgLEo/Arz/x5%2B1p8XPBfx48W6n4U8O%2BEIvh54Q%2BMfhH4feMrObSLg63quq67BoqR6hDdpcLDHHB/bmkxmKS3leRIZ8Sx7UFew/tY/s42X7WnwI179n3Wvir4p8I6T4nspbHXL/wgunfa7mylieKa23X9pdRojq/LIiyAqNrrzni4P2AfB0/xFs/iL4q%2BOPj7XWOs6TrnibRtQl0qKx8T65piRpY6tex21hEy3EQgtMLbNBAxsbYvExjyQD3uiiigArxf9sn4u/HD4JWvgHxj8LL3wp/Y2ofEzw54e8X2PiDRbm5urm11XWbHTQbOWG6hS2kjW5lk3yJOpKIuzkmvaK8q/au/Zbf9qrw3oXhef4%2B%2BN/A1voXiSw11G8Fw6Oz3d7Y3kF5ZtKdS0%2B8G2K4t43CxhA3Kyb1O0AHnH7PP7SvxM1v9qrxb8Efihq/h7wnp0PinW7fwT4Sk%2BEWs6Zc69bQukpv7fWri7%2Bwag7GSaWWK2gL8l2K4Yn6cryXSf2UQ/wAZNF%2BMvxH/AGgPHfjWbwvd3l34T0LxCNJhsNHurm3ktZLiJbDT7aWV/s808K%2BfJKqLO%2B0AkEetUAFFFFAHh/7d3xc%2BPH7P3wa1f46/Cjxj4FsdP8LaLc3l7ovizwze39z4hvcotnplnJbXsH2ea4lIt0byrpmlniCwsflbz/4I/tffGfXPiX4K/tbwZ4S0j4aeN/if4o%2BG3hXw1p2lzR6vol/oEOrb557kXDW80EjeH9TRYY7eIxq1sfMkywHp/wC0r%2ByDB%2B0l488EfECb9oHx34QufAN3c3ui2PhiLRp7OS9lQRreTQanp14jzwx%2BYsMgCmMTykfM2RV8B/sNfD3wH8Zbf4uw/EXxdqUGna7qevaJ4Q1K5sv7J0rW9RjePUNUgSK1Sfz5xPdlleZ4Ua%2BuTHFH5nAB7XRRRQAV8v8A7XPx4/aX%2BC3xE0/wppUPgDxro/jmHWrbRfhzF4PvpNYS1tNDuruS/uJxevFdWwuore2khFrED9vhQTGRkST6grw6b9ia4j/aP8V/tNaJ%2B1X8S9O1fxbpsOnXOlwweH57TT7OGBo4baza50mW5t4lld7rYs2153LuHB20AM/YQ/aD8b/Hv4e3l18V/H2jX3i7ThZtr/huy%2BF2r%2BEbzQHntllEFzZavdT3Dgtv8u4ASORUO0NtJr3SvN/gd%2Bzdp3wZ8T%2BJPiHrHxS8U%2BOPFXiuKxt9Y8T%2BLmsFuXtLMTfZbVItPtbW2jija5uXG2EMzXEhZmyMekUAFFFFAHxz/wAFBP24/ip%2Bxh45/tPXNF0Dxj4RfRtR1u38Ky/DnU7KW3TTdGvtSST/AISKa6fTJ7v7Xpo2WKwJdCOZZQNsLSN69%2BzR8Xfjnq3xU8b/ALPX7R1z4U1DxP4R0nQ9aj1rwVpFzYWNzY6oLyNIjBc3Ny6yxXGnXal/NxIhibZGSVFb46/sJeCP2nNaurX4/wDxb8a%2BKPBdzJcSL8MryTTYdFikmsZrJm329lHfSAR3EzBJbp0Dvu2/IgXp/wBnz9mbSPgHea94iu/ih4s8ceI/Ehs49W8VeNbize%2BltrSIxWtqPsdtbwrFEHlYYj3s88ruzs5NAHpVFFFABXxH%2B1P%2B2V%2B1n8G/jV4g%2BFHg7w34c8a6nYaLca74YCfA/wAQRyaKBqOmWqGFvtzjxNILHVLjzv7L8p4WhKyiMTCOvtyvD9e/Yt1PxL49PxO1r9rn4oza3p8F5F4NvCmgAeFVupoZJ/skY0nZOzRwLb7r1bpliZwpV3ZyAdV%2Byx8WH%2BMnwjg8WXvxM0bxVfw6jdWWqX2jeDL7w6La4ilZWtZtN1C4nurOeMYV45nD5%2BbaoYCvRq4b4B/AXw98APDOp6NpXinW/EGo6/r1xrfiTxJ4jmga91W/mCI08ot4oYExHFDEqQxRxqkSAKMEnuaACiiigAooooAKKKKACiiigCj4o8Q2HhLw1qPivVQ5tdMsZru5ES5by40LtgdzhTXzn%2BxN%2B0n8a/H/AIp0fwZ8bPD3gyzHjr4W2XxG8Mw%2BDNKuLQaZHeXBN3p92ZriUXc0b3Ns/wBsQQCdpZiYI9oL/S13aWt/ay2N7bpNDNG0c0UqhldSMFSDwQRxivIf2Zv2K/AX7MGqvq%2BgfEHxb4lltvDFj4Z8OjxZe2sw0DQrN5Ht9NtTb28JaNTJ80s5muJBHF5kz%2BWuAD2KiiigArhf2oPHnxF%2BFn7NHxE%2BJ3wf8KLr3i3w54F1fVPC2htYzXQ1HUbezlltrYwwMsswklRE8uNg7bsKQSDXdVneLdEv/EvhjUPD%2Bl%2BK9R0K5vbSSG31rSFga6sXZSBNELiKWIup5AkjdMj5lYZBAPLv2Kfi1P8AFD4Z31lq3xC8P6zqfh3VV0680zRPhhqfg59DQW0EkVncaVqlzPcwuEcSK7eWjxSxbEwN7%2BxV558B/wBnbSfgdeeJfEdz8RPEnjHxJ4v1GG88ReKfFb2Yu7ow26W8EQjsba2tooo40AVY4UyWdmLMzMfQ6ACiiigD5c/ao/ax%2BKH7OHxe8cWXxK0bwl4i%2BF9h%2Bzv4v8e22hW%2BiXCaq7aINLWe2uLmS5e3minW%2BnAQWyFQiZd8sK7f9mf4v/HzVPi54y/Z1/aWfwleeKPDHhjw94lj1XwVpNzY2Ullqz6lbrbGG5ublzLDcaRdgyiQLIjxN5cZ3LUHxj/YV8O/HT46t8ZfHnx28cy6bN4K1PwjffD2GDRf7Eu9G1Jbb7faSF9Na9Ina0gdnF0HUoQjIjMh6T9nf9l3Q/2fb7WvEc/xQ8W%2BN/EOv2thZX/ifxtc2kl6bCxSRbOzH2S2t4/KiM9w4JQyO9zK7u7NmgD0%2BiiigAr5E%2BNf7S/7W3gzXf2gPAlv4V8GeLL3wF4f8KeJPhtY6T8P9Tv51j1HVdShCXlrFePLqM8C6bHOpthbkuSFX5VavruvC5f2KPEMXx08bfH/AEL9tD4raVq3jfSLHTLmxsrPww1ppttZXFzPZpbCXRXk/dG8ulBmeUus5EnmFUKgHV/sqfFub4y/CkeJtR%2BJ2jeKdRtdVubHVrrR/BF/4bNncRN81rPpmo3E91aTopXckzBiGVtqqwr0muE%2BAfwD0D4A6FrNjp/i3XPEeq%2BJvEEuueJ/E3iSW3a91W/khhg82QW0MMEYWC3t4VSKKNFSFAFzknu6ACiiigD42/aW/a7/AGlv2ePjNB8NtZT4Z%2BNb7W4IJvCMOneFr20l8F3mpeIdM8PaRNqcr30wuop21ecFols5HFjdLGGXzDF7j%2Byr8X/iR8Rh4/8Ah98Yjok/ir4aePG8NazqvhrTprOw1PzNL07Vre4ht5p55LfNrqlujxtNLiSOTDEEY4W2/wCCavhJrr4hv4h/aX%2BJ2s2/xJ1465rFvqR0LzLPUoriGfT7m2uotLS6U2D29uLSN5pIolhQMj859Y%2BAfwF0P4B%2BHtW02y8X654k1bxFr02teJ/FHiV7Y3%2Br30kcUPnTC1gggXZBBbwIkUUaLHBGoXgkgHdUUUUAMuftP2aT7Hs87YfK83O3djjOOcZr4g%2BK37XP7afw0%2BImufDa3tvAfjPXvDF74at9W8deCPgrr%2BrR%2BHLfVmvHvbCXSrPUp7u5mjhsrG6JinT93dQtLAgMTSfb13DJcWstvDdSQPJGyrPEFLxkjAZdwK5HUZBHqDXz38GP2AvEHwE%2BG1x8NPh3%2B3V8Yoo7rVn1ObWbyy8Jz6hLdyvLJczzTPoR%2B0yTvLukknEj5jTYUAwQD1n4CfEOy%2BK3wd8P/EKw%2BIGjeKk1PTxI%2Bv8Ah/SZrC0u5ASshS1nmmltirqyNDJI7xsrKx3KQOvrkvgX8F/CX7Pvwv074U%2BCrm/uLKwluria%2B1W5E11fXd1cy3V1dTOFUNLNcTzSvtVV3SHaqrhR1tABVHxPD4kufDeoW/g3U7Gy1eSylXS7zU7B7q2guChEcksMcsTTRq2CyLJGWAIDqTuF6s3xjoN/4o8LX/h3S/FupaDc3lq8UGtaOIDdWLkcTRC4iliLqeQJI3Q4%2BZWGRQB8PfDf9uz9rX4wfFPW/gl8LNN%2BHyeM9NtddvpPGfiv4Xa1oa6ppmkWuiypYy6JeXyahp8r3fiHYk08zx%2BVDJcJC6zoD9jfAL4tab8fPgT4K%2BOujabLZ2fjXwlpuvWlnM%2B54Iry1juFjYgDJUSAE%2BorxbV/%2BCZHgfWtcvviLd/tKfFNPiBqyXlrrXxJtr3SIdWv9Mura1tptMKJpos4bYpZWjDyLaKVZIFlWUOWY/Qfgvwf4a%2BHng7SfAHgzSYtP0fQ9Mg0/SbCHOy2toY1jijXPOFRVUfSgDTooooA5f406j440b4W61rfw58Q2Ol6tYWZuob7UPB974gRI4yHlA06xngubyRoldUihkDl2XCufkb4t%2BEv/BRH4/eJPGmh6n43uPCPgTwZqU86%2BIPHF58DPEU1trF/Dr91pCJcyrfRp4ZnktbS1/cao0ksDyrG%2BdgSvtv4meDNd8e%2BEpvDnhv4pa/4NvJJY3i1/wAMxWL3cG1gSqrf21zAwYAqQ8TcE4wcEeK3X/BObwpqHg%2B4%2BG2rftIfE278Ma5qE1/480Ca40cReMLue8a6uJr6VdNFxF5pZYWjs5bWIQxJGqKN24A%2BiaKKKACiiigAooooAKKKKACiiigAooooAKKKKACiiigAooooAKKKKACiiigAooooAKKKKACiiigAooooAKKKKACiiigAooooAKKKKACiiigAooooAKKKKACiiigAooooAKKKKACiiigAooooAKKKKACiiigAooooAKKKKACiiigAooooAKKKKACiiigAooooAKKKKACiiigAooooAKKKKACiiigAooooAKKKKACiiigAooooAKKKKACiiigAooooAKKKKACiiigAooooAKKKKACiiigAooooAKKKKACiiigAooooAKKKKACiiigAooooAKKKKAP/2Q%3D%3D\">"
            ]
          },
          "metadata": {
            "tags": []
          }
        }
      ]
    },
    {
      "cell_type": "markdown",
      "metadata": {
        "id": "L4rQiACHyoSe",
        "colab_type": "text"
      },
      "source": [
        "# Submit a linear model"
      ]
    },
    {
      "cell_type": "code",
      "metadata": {
        "id": "ETAPnI_SyoSf",
        "colab_type": "code",
        "colab": {}
      },
      "source": [
        "## GRADED PART, DO NOT CHANGE!\n",
        "# Testing shapes \n",
        "grader.set_answer(\"9XaAS\", grading_utils.get_tensors_shapes_string([W, b, input_X, input_y, logits, probas, classes]))\n",
        "# Validation loss\n",
        "grader.set_answer(\"vmogZ\", s.run(loss, {input_X: X_val_flat, input_y: y_val_oh}))\n",
        "# Validation accuracy\n",
        "grader.set_answer(\"RMv95\", accuracy_score(y_val, s.run(classes, {input_X: X_val_flat})))"
      ],
      "execution_count": 0,
      "outputs": []
    },
    {
      "cell_type": "code",
      "metadata": {
        "id": "O0lVjTuOyoSh",
        "colab_type": "code",
        "outputId": "fae8c329-56b6-4cb3-fc32-c6741fae963c",
        "colab": {
          "base_uri": "https://localhost:8080/",
          "height": 34
        }
      },
      "source": [
        "# you can make submission with answers so far to check yourself at this stage\n",
        "grader.submit(COURSERA_EMAIL, COURSERA_TOKEN)"
      ],
      "execution_count": 0,
      "outputs": [
        {
          "output_type": "stream",
          "text": [
            "You used an invalid email or your token may have expired. Please make sure you have entered all fields correctly. Try generating a new token if the issue still persists.\n"
          ],
          "name": "stdout"
        }
      ]
    },
    {
      "cell_type": "markdown",
      "metadata": {
        "id": "OOKhWw0AyoSk",
        "colab_type": "text"
      },
      "source": [
        "# MLP with hidden layers"
      ]
    },
    {
      "cell_type": "markdown",
      "metadata": {
        "id": "tRe1ElAFyoSk",
        "colab_type": "text"
      },
      "source": [
        "Previously we've coded a dense layer with matrix multiplication by hand. \n",
        "But this is not convenient, you have to create a lot of variables and your code becomes a mess. \n",
        "In TensorFlow there's an easier way to make a dense layer:\n",
        "```python\n",
        "hidden1 = tf.layers.dense(inputs, 256, activation=tf.nn.sigmoid)\n",
        "```\n",
        "\n",
        "That will create all the necessary variables automatically.\n",
        "Here you can also choose an activation function (remember that we need it for a hidden layer!).\n",
        "\n",
        "Now define the MLP with 2 hidden layers and restart training with the cell above.\n",
        "\n",
        "You're aiming for ~0.97 validation accuracy here."
      ]
    },
    {
      "cell_type": "code",
      "metadata": {
        "id": "0FcqXMDtyoSl",
        "colab_type": "code",
        "colab": {}
      },
      "source": [
        "# write the code here to get a new `step` operation and then run the cell with training loop above.\n",
        "# name your variables in the same way (e.g. logits, probas, classes, etc) for safety.\n",
        "hidden1 = tf.layers.dense(input_X, 256, activation=tf.nn.sigmoid)\n",
        "hidden2 = tf.layers.dense(input_X, 256, activation=tf.nn.sigmoid)\n",
        "probas = tf.layers.dense(hidden2, 10, activation=tf.nn.softmax)\n",
        "\n",
        "classes = tf.argmax(probas, axis=1) ### apply tf.argmax to find a class index with highest probability\n",
        "\n",
        "# Loss should be a scalar number: average loss over all the objects with tf.reduce_mean().\n",
        "# Use tf.nn.softmax_cross_entropy_with_logits on top of one-hot encoded input_y and logits.\n",
        "# It is identical to calculating cross-entropy on top of probas, but is more numerically friendly (read the docs).\n",
        "loss = tf.reduce_mean(tf.nn.softmax_cross_entropy_with_logits(labels=input_y, logits=probas)) ### cross-entropy loss\n",
        "\n",
        "# Use a default tf.train.AdamOptimizer to get an SGD step\n",
        "step = tf.train.AdamOptimizer().minimize(loss) ### optimizer step that minimizes the loss"
      ],
      "execution_count": 0,
      "outputs": []
    },
    {
      "cell_type": "markdown",
      "metadata": {
        "id": "m3Z7jiHvyoSo",
        "colab_type": "text"
      },
      "source": [
        "# Submit the MLP with 2 hidden layers\n",
        "Run these cells after training the MLP with 2 hidden layers"
      ]
    },
    {
      "cell_type": "code",
      "metadata": {
        "id": "k3gArASIyoSp",
        "colab_type": "code",
        "colab": {}
      },
      "source": [
        "## GRADED PART, DO NOT CHANGE!\n",
        "# Validation loss for MLP\n",
        "grader.set_answer(\"i8bgs\", s.run(loss, {input_X: X_val_flat, input_y: y_val_oh}))\n",
        "# Validation accuracy for MLP\n",
        "grader.set_answer(\"rE763\", accuracy_score(y_val, s.run(classes, {input_X: X_val_flat})))"
      ],
      "execution_count": 0,
      "outputs": []
    },
    {
      "cell_type": "code",
      "metadata": {
        "id": "QAKmRZ1OyoSr",
        "colab_type": "code",
        "outputId": "976f4b18-abd3-4f43-eb7b-0a82ba2b541f",
        "colab": {
          "base_uri": "https://localhost:8080/",
          "height": 34
        }
      },
      "source": [
        "# you can make submission with answers so far to check yourself at this stage\n",
        "grader.submit(COURSERA_EMAIL, COURSERA_TOKEN)"
      ],
      "execution_count": 0,
      "outputs": [
        {
          "output_type": "stream",
          "text": [
            "Submitted to Coursera platform. See results on assignment page!\n"
          ],
          "name": "stdout"
        }
      ]
    },
    {
      "cell_type": "code",
      "metadata": {
        "id": "mQW8tbbTyoSx",
        "colab_type": "code",
        "colab": {}
      },
      "source": [
        ""
      ],
      "execution_count": 0,
      "outputs": []
    }
  ]
}