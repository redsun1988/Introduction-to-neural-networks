{
  "nbformat": 4,
  "nbformat_minor": 0,
  "metadata": {
    "colab": {
      "name": "week2_intro_to_tensorflow.ipynb",
      "version": "0.3.2",
      "provenance": [],
      "collapsed_sections": [],
      "include_colab_link": true
    },
    "language_info": {
      "codemirror_mode": {
        "name": "ipython",
        "version": 3
      },
      "file_extension": ".py",
      "mimetype": "text/x-python",
      "name": "python",
      "nbconvert_exporter": "python",
      "pygments_lexer": "ipython3",
      "version": "3.6.5"
    },
    "kernelspec": {
      "name": "python3",
      "display_name": "Python 3"
    },
    "accelerator": "GPU"
  },
  "cells": [
    {
      "cell_type": "markdown",
      "metadata": {
        "id": "view-in-github",
        "colab_type": "text"
      },
      "source": [
        "<a href=\"https://colab.research.google.com/github/redsun1988/Introduction-to-neural-networks/blob/master/week2_intro_to_tensorflow.ipynb\" target=\"_parent\"><img src=\"https://colab.research.google.com/assets/colab-badge.svg\" alt=\"Open In Colab\"/></a>"
      ]
    },
    {
      "cell_type": "markdown",
      "metadata": {
        "id": "J3-KEhR3XUt_",
        "colab_type": "text"
      },
      "source": [
        "# Intro to TensorFlow\n",
        "\n",
        "This notebook covers the basics of TF and shows you an animation with gradient descent trajectory.\n",
        "<img src=\"https://github.com/hse-aml/intro-to-dl/blob/master/week2/v2/images/gradient_descent.png?raw=1\" style=\"width:50%\">"
      ]
    },
    {
      "cell_type": "markdown",
      "metadata": {
        "id": "-muLvsi3XUuC",
        "colab_type": "text"
      },
      "source": [
        "# TensorBoard"
      ]
    },
    {
      "cell_type": "markdown",
      "metadata": {
        "id": "o3oohHFAXUuD",
        "colab_type": "text"
      },
      "source": [
        "**Plase note that if you are running on the Coursera platform, you won't be able to access the tensorboard instance due to the network setup there.**\n",
        "\n",
        "Run `tensorboard --logdir=./tensorboard_logs --port=7007` in bash.\n",
        "\n",
        "If you run the notebook locally, you should be able to access TensorBoard on http://127.0.0.1:7007/"
      ]
    },
    {
      "cell_type": "code",
      "metadata": {
        "id": "a-G7q8dsc72d",
        "colab_type": "code",
        "outputId": "2c885aa8-5b3c-4225-fa1e-77aeadc02224",
        "colab": {
          "base_uri": "https://localhost:8080/",
          "height": 302
        }
      },
      "source": [
        "! shred -u setup_google_colab.py\n",
        "! wget https://raw.githubusercontent.com/hse-aml/intro-to-dl/master/setup_google_colab.py -O setup_google_colab.py\n",
        "import setup_google_colab\n",
        "# please, uncomment the week you're working on\n",
        "setup_google_colab.setup_week2()"
      ],
      "execution_count": 0,
      "outputs": [
        {
          "output_type": "stream",
          "text": [
            "--2019-06-30 17:36:02--  https://raw.githubusercontent.com/hse-aml/intro-to-dl/master/setup_google_colab.py\n",
            "Resolving raw.githubusercontent.com (raw.githubusercontent.com)... 151.101.0.133, 151.101.64.133, 151.101.128.133, ...\n",
            "Connecting to raw.githubusercontent.com (raw.githubusercontent.com)|151.101.0.133|:443... connected.\n",
            "HTTP request sent, awaiting response... 200 OK\n",
            "Length: 3792 (3.7K) [text/plain]\n",
            "Saving to: ‘setup_google_colab.py’\n",
            "\n",
            "\rsetup_google_colab.   0%[                    ]       0  --.-KB/s               \rsetup_google_colab. 100%[===================>]   3.70K  --.-KB/s    in 0s      \n",
            "\n",
            "2019-06-30 17:36:02 (84.9 MB/s) - ‘setup_google_colab.py’ saved [3792/3792]\n",
            "\n",
            "**************************************************\n",
            "inception_v3_weights_tf_dim_ordering_tf_kernels_notop.h5\n",
            "**************************************************\n",
            "cifar-10-batches-py.tar.gz\n",
            "**************************************************\n",
            "mnist.npz\n"
          ],
          "name": "stdout"
        }
      ]
    },
    {
      "cell_type": "code",
      "metadata": {
        "id": "sMSgqEcOXUuE",
        "colab_type": "code",
        "outputId": "137316ef-0588-44d9-d049-de9c1cc9e4b3",
        "colab": {
          "base_uri": "https://localhost:8080/",
          "height": 255
        }
      },
      "source": [
        "import tensorflow as tf\n",
        "import sys\n",
        "sys.path.append(\"../..\")\n",
        "from keras_utils import reset_tf_session\n",
        "s = reset_tf_session()\n",
        "print(\"We're using TF\", tf.__version__)"
      ],
      "execution_count": 0,
      "outputs": [
        {
          "output_type": "stream",
          "text": [
            "Using TensorFlow backend.\n",
            "WARNING: Logging before flag parsing goes to stderr.\n",
            "W0630 17:34:48.962008 139931180545920 deprecation_wrapper.py:119] From /content/keras_utils.py:68: The name tf.get_default_session is deprecated. Please use tf.compat.v1.get_default_session instead.\n",
            "\n",
            "W0630 17:34:48.963370 139931180545920 deprecation_wrapper.py:119] From /usr/local/lib/python3.6/dist-packages/keras/backend/tensorflow_backend.py:79: The name tf.reset_default_graph is deprecated. Please use tf.compat.v1.reset_default_graph instead.\n",
            "\n",
            "W0630 17:34:48.967164 139931180545920 deprecation_wrapper.py:119] From /usr/local/lib/python3.6/dist-packages/keras/backend/tensorflow_backend.py:82: The name tf.placeholder is deprecated. Please use tf.compat.v1.placeholder instead.\n",
            "\n",
            "W0630 17:34:48.971536 139931180545920 deprecation_wrapper.py:119] From /usr/local/lib/python3.6/dist-packages/keras/backend/tensorflow_backend.py:84: The name tf.get_default_graph is deprecated. Please use tf.compat.v1.get_default_graph instead.\n",
            "\n",
            "W0630 17:34:48.974266 139931180545920 deprecation_wrapper.py:119] From /content/keras_utils.py:75: The name tf.ConfigProto is deprecated. Please use tf.compat.v1.ConfigProto instead.\n",
            "\n"
          ],
          "name": "stderr"
        },
        {
          "output_type": "stream",
          "text": [
            "We're using TF 1.14.0\n"
          ],
          "name": "stdout"
        }
      ]
    },
    {
      "cell_type": "markdown",
      "metadata": {
        "id": "DV0mPLA6XUuI",
        "colab_type": "text"
      },
      "source": [
        "# Warming up\n",
        "For starters, let's implement a python function that computes the sum of squares of numbers from 0 to N-1."
      ]
    },
    {
      "cell_type": "code",
      "metadata": {
        "id": "Y2GKzixaXUuJ",
        "colab_type": "code",
        "colab": {}
      },
      "source": [
        "import numpy as np\n",
        "\n",
        "def sum_python(N):\n",
        "    return np.sum(np.arange(N)**2)"
      ],
      "execution_count": 0,
      "outputs": []
    },
    {
      "cell_type": "code",
      "metadata": {
        "id": "PYA2__prXUuM",
        "colab_type": "code",
        "outputId": "4ceb8d58-9416-46c6-eeff-904b890b1e1c",
        "colab": {
          "base_uri": "https://localhost:8080/",
          "height": 67
        }
      },
      "source": [
        "%%time\n",
        "sum_python(10**5)"
      ],
      "execution_count": 0,
      "outputs": [
        {
          "output_type": "stream",
          "text": [
            "CPU times: user 1.08 ms, sys: 58 µs, total: 1.13 ms\n",
            "Wall time: 930 µs\n"
          ],
          "name": "stdout"
        },
        {
          "output_type": "execute_result",
          "data": {
            "text/plain": [
              "333328333350000"
            ]
          },
          "metadata": {
            "tags": []
          },
          "execution_count": 6
        }
      ]
    },
    {
      "cell_type": "markdown",
      "metadata": {
        "id": "ZJk14XLoXUuO",
        "colab_type": "text"
      },
      "source": [
        "# Tensoflow teaser\n",
        "\n",
        "Doing the very same thing"
      ]
    },
    {
      "cell_type": "code",
      "metadata": {
        "id": "urOw8qp1XUuP",
        "colab_type": "code",
        "colab": {}
      },
      "source": [
        "# An integer parameter\n",
        "N = tf.placeholder('int64', name=\"input_to_your_function\")\n",
        "\n",
        "# A recipe on how to produce the same result\n",
        "result = tf.reduce_sum(tf.range(N)**2)"
      ],
      "execution_count": 0,
      "outputs": []
    },
    {
      "cell_type": "code",
      "metadata": {
        "id": "MoQdXV1eXUuS",
        "colab_type": "code",
        "outputId": "3ed2fa84-b783-4bd2-88fc-05d63923e56e",
        "colab": {
          "base_uri": "https://localhost:8080/",
          "height": 34
        }
      },
      "source": [
        "# just a graph definition\n",
        "result"
      ],
      "execution_count": 0,
      "outputs": [
        {
          "output_type": "execute_result",
          "data": {
            "text/plain": [
              "<tf.Tensor 'Sum:0' shape=() dtype=int64>"
            ]
          },
          "metadata": {
            "tags": []
          },
          "execution_count": 8
        }
      ]
    },
    {
      "cell_type": "code",
      "metadata": {
        "id": "NgA181bzXUuU",
        "colab_type": "code",
        "outputId": "667dc68f-0e91-410c-ab80-2947c634977e",
        "colab": {
          "base_uri": "https://localhost:8080/",
          "height": 67
        }
      },
      "source": [
        "%%time\n",
        "# actually executing\n",
        "result.eval({N: 10**5})"
      ],
      "execution_count": 0,
      "outputs": [
        {
          "output_type": "stream",
          "text": [
            "CPU times: user 365 ms, sys: 272 ms, total: 637 ms\n",
            "Wall time: 643 ms\n"
          ],
          "name": "stdout"
        },
        {
          "output_type": "execute_result",
          "data": {
            "text/plain": [
              "333328333350000"
            ]
          },
          "metadata": {
            "tags": []
          },
          "execution_count": 9
        }
      ]
    },
    {
      "cell_type": "code",
      "metadata": {
        "id": "MwmDYxm0XUuX",
        "colab_type": "code",
        "colab": {}
      },
      "source": [
        "# logger for tensorboard\n",
        "writer = tf.summary.FileWriter(\"tensorboard_logs\", graph=s.graph)"
      ],
      "execution_count": 0,
      "outputs": []
    },
    {
      "cell_type": "markdown",
      "metadata": {
        "id": "a38UakkKXUua",
        "colab_type": "text"
      },
      "source": [
        "# How does it work?\n",
        "1. Define placeholders where you'll send inputs\n",
        "2. Make a symbolic graph: a recipe for mathematical transformation of those placeholders\n",
        "3. Compute outputs of your graph with particular values for each placeholder\n",
        "  * `output.eval({placeholder: value})`\n",
        "  * `s.run(output, {placeholder: value})`\n",
        "\n",
        "So far there are two main entities: \"placeholder\" and \"transformation\" (operation output)\n",
        "* Both can be numbers, vectors, matrices, tensors, etc.\n",
        "* Both can be int32/64, floats, booleans (uint8) of various size.\n",
        "\n",
        "* You can define new transformations as an arbitrary operation on placeholders and other transformations\n",
        " * `tf.reduce_sum(tf.arange(N)**2)` are 3 sequential transformations of placeholder `N`\n",
        " * There's a tensorflow symbolic version for every numpy function\n",
        "   * `a+b, a/b, a**b, ...` behave just like in numpy\n",
        "   * `np.mean` -> `tf.reduce_mean`\n",
        "   * `np.arange` -> `tf.range`\n",
        "   * `np.cumsum` -> `tf.cumsum`\n",
        "   * If you can't find the operation you need, see the [docs](https://www.tensorflow.org/versions/r1.3/api_docs/python).\n",
        "   \n",
        "`tf.contrib` has many high-level features, may be worth a look."
      ]
    },
    {
      "cell_type": "code",
      "metadata": {
        "id": "Uk9xDy1rXUub",
        "colab_type": "code",
        "colab": {}
      },
      "source": [
        "with tf.name_scope(\"Placeholders_examples\"):\n",
        "    # Default placeholder that can be arbitrary float32\n",
        "    # scalar, vertor, matrix, etc.\n",
        "    arbitrary_input = tf.placeholder('float32')\n",
        "\n",
        "    # Input vector of arbitrary length\n",
        "    input_vector = tf.placeholder('float32', shape=(None,))\n",
        "\n",
        "    # Input vector that _must_ have 10 elements and integer type\n",
        "    fixed_vector = tf.placeholder('int32', shape=(10,))\n",
        "\n",
        "    # Matrix of arbitrary n_rows and 15 columns\n",
        "    # (e.g. a minibatch of your data table)\n",
        "    input_matrix = tf.placeholder('float32', shape=(None, 15))\n",
        "    \n",
        "    # You can generally use None whenever you don't need a specific shape\n",
        "    input1 = tf.placeholder('float64', shape=(None, 100, None))\n",
        "    input2 = tf.placeholder('int32', shape=(None, None, 3, 224, 224))\n",
        "\n",
        "    # elementwise multiplication\n",
        "    double_the_vector = input_vector*2\n",
        "\n",
        "    # elementwise cosine\n",
        "    elementwise_cosine = tf.cos(input_vector)\n",
        "\n",
        "    # difference between squared vector and vector itself plus one\n",
        "    vector_squares = input_vector**2 - input_vector + 1"
      ],
      "execution_count": 0,
      "outputs": []
    },
    {
      "cell_type": "code",
      "metadata": {
        "id": "e25dBgwjXUuf",
        "colab_type": "code",
        "colab": {}
      },
      "source": [
        "my_vector =  tf.placeholder('float32', shape=(None,), name=\"VECTOR_1\")\n",
        "my_vector2 = tf.placeholder('float32', shape=(None,))\n",
        "my_transformation = my_vector * my_vector2 / (tf.sin(my_vector) + 1)"
      ],
      "execution_count": 0,
      "outputs": []
    },
    {
      "cell_type": "code",
      "metadata": {
        "id": "C7roA0hXXUuj",
        "colab_type": "code",
        "outputId": "6d5155b5-6d2b-424b-ecca-d03928952026",
        "colab": {
          "base_uri": "https://localhost:8080/",
          "height": 34
        }
      },
      "source": [
        "print(my_transformation)"
      ],
      "execution_count": 0,
      "outputs": [
        {
          "output_type": "stream",
          "text": [
            "Tensor(\"truediv:0\", shape=(?,), dtype=float32)\n"
          ],
          "name": "stdout"
        }
      ]
    },
    {
      "cell_type": "code",
      "metadata": {
        "id": "E1WcJZJ2XUum",
        "colab_type": "code",
        "outputId": "6716f183-8e0d-4848-b361-a55c3712b7f8",
        "colab": {
          "base_uri": "https://localhost:8080/",
          "height": 67
        }
      },
      "source": [
        "dummy = np.arange(5).astype('float32')\n",
        "print(dummy)\n",
        "my_transformation.eval({my_vector: dummy, my_vector2: dummy[::-1]})"
      ],
      "execution_count": 0,
      "outputs": [
        {
          "output_type": "stream",
          "text": [
            "[0. 1. 2. 3. 4.]\n"
          ],
          "name": "stdout"
        },
        {
          "output_type": "execute_result",
          "data": {
            "text/plain": [
              "array([0.       , 1.6291324, 2.0950115, 2.6289961, 0.       ],\n",
              "      dtype=float32)"
            ]
          },
          "metadata": {
            "tags": []
          },
          "execution_count": 14
        }
      ]
    },
    {
      "cell_type": "code",
      "metadata": {
        "id": "qXAEN27CXUup",
        "colab_type": "code",
        "colab": {}
      },
      "source": [
        "writer.add_graph(my_transformation.graph)\n",
        "writer.flush()"
      ],
      "execution_count": 0,
      "outputs": []
    },
    {
      "cell_type": "markdown",
      "metadata": {
        "id": "lNx1cG_FXUus",
        "colab_type": "text"
      },
      "source": [
        "TensorBoard allows writing scalars, images, audio, histogram. You can read more on tensorboard usage [here](https://www.tensorflow.org/get_started/graph_viz)."
      ]
    },
    {
      "cell_type": "markdown",
      "metadata": {
        "id": "_ZRTQn_7XUut",
        "colab_type": "text"
      },
      "source": [
        "# Summary\n",
        "* Tensorflow is based on computation graphs\n",
        "* A graph consists of placeholders and transformations"
      ]
    },
    {
      "cell_type": "markdown",
      "metadata": {
        "id": "70EKNpHaXUuu",
        "colab_type": "text"
      },
      "source": [
        "# Loss function: Mean Squared Error\n",
        "\n",
        "Loss function must be a part of the graph as well, so that we can do backpropagation."
      ]
    },
    {
      "cell_type": "code",
      "metadata": {
        "id": "PRF9daW9XUuv",
        "colab_type": "code",
        "colab": {}
      },
      "source": [
        "with tf.name_scope(\"MSE\"):\n",
        "    y_true = tf.placeholder(\"float32\", shape=(None,), name=\"y_true\")\n",
        "    y_predicted = tf.placeholder(\"float32\", shape=(None,), name=\"y_predicted\")\n",
        "    # Implement MSE(y_true, y_predicted), use tf.reduce_mean(...)\n",
        "    mse = tf.reduce_mean((y_true - y_predicted) ** 2) \n",
        "\n",
        "def compute_mse(vector1, vector2):\n",
        "    return mse.eval({y_true: vector1, y_predicted: vector2})"
      ],
      "execution_count": 0,
      "outputs": []
    },
    {
      "cell_type": "code",
      "metadata": {
        "id": "07NKWMFOXUuz",
        "colab_type": "code",
        "colab": {}
      },
      "source": [
        "writer.add_graph(mse.graph)\n",
        "writer.flush()"
      ],
      "execution_count": 0,
      "outputs": []
    },
    {
      "cell_type": "code",
      "metadata": {
        "id": "XSR3wXt0XUu3",
        "colab_type": "code",
        "colab": {}
      },
      "source": [
        "# Rigorous local testing of MSE implementation\n",
        "import sklearn.metrics\n",
        "for n in [1, 5, 10, 10**3]:\n",
        "    elems = [np.arange(n), np.arange(n, 0, -1), np.zeros(n),\n",
        "             np.ones(n), np.random.random(n), np.random.randint(100, size=n)]\n",
        "    for el in elems:\n",
        "        for el_2 in elems:\n",
        "            true_mse = np.array(sklearn.metrics.mean_squared_error(el, el_2))\n",
        "            my_mse = compute_mse(el, el_2)\n",
        "            if not np.allclose(true_mse, my_mse):\n",
        "                print('mse(%s,%s)' % (el, el_2))\n",
        "                print(\"should be: %f, but your function returned %f\" % (true_mse, my_mse))\n",
        "                raise ValueError('Wrong result')"
      ],
      "execution_count": 0,
      "outputs": []
    },
    {
      "cell_type": "markdown",
      "metadata": {
        "id": "tOQsrsvsXUu6",
        "colab_type": "text"
      },
      "source": [
        "# Variables\n",
        "\n",
        "Placeholder and transformation values are not stored in the graph once the execution is finished. This isn't too comfortable if you want your model to have parameters (e.g. network weights) that are always present, but can change their value over time.\n",
        "\n",
        "Tensorflow solves this with `tf.Variable` objects.\n",
        "* You can assign variable a value at any time in your graph\n",
        "* Unlike placeholders, there's no need to explicitly pass values to variables when `s.run(...)`-ing\n",
        "* You can use variables the same way you use transformations \n",
        " "
      ]
    },
    {
      "cell_type": "code",
      "metadata": {
        "id": "ZPcQM3KHXUu7",
        "colab_type": "code",
        "colab": {}
      },
      "source": [
        "# Creating a shared variable\n",
        "shared_vector_1 = tf.Variable(initial_value=np.ones(5),\n",
        "                              name=\"example_variable\")"
      ],
      "execution_count": 0,
      "outputs": []
    },
    {
      "cell_type": "code",
      "metadata": {
        "id": "sBXv8W4KXUu-",
        "colab_type": "code",
        "outputId": "b9b3df26-11f8-410e-83f8-0d7b4e44e026",
        "colab": {
          "base_uri": "https://localhost:8080/",
          "height": 34
        }
      },
      "source": [
        "# Initialize variable(s) with initial values\n",
        "s.run(tf.global_variables_initializer())\n",
        "\n",
        "# Evaluating the shared variable\n",
        "print(\"Initial value\", s.run(shared_vector_1))"
      ],
      "execution_count": 0,
      "outputs": [
        {
          "output_type": "stream",
          "text": [
            "Initial value [1. 1. 1. 1. 1.]\n"
          ],
          "name": "stdout"
        }
      ]
    },
    {
      "cell_type": "code",
      "metadata": {
        "id": "DZgqXNn3XUvD",
        "colab_type": "code",
        "outputId": "670ebffe-beae-48a1-cb3a-36bab7f02801",
        "colab": {
          "base_uri": "https://localhost:8080/",
          "height": 34
        }
      },
      "source": [
        "# Setting a new value\n",
        "s.run(shared_vector_1.assign(np.arange(5)))\n",
        "\n",
        "# Getting that new value\n",
        "print(\"New value\", s.run(shared_vector_1))"
      ],
      "execution_count": 0,
      "outputs": [
        {
          "output_type": "stream",
          "text": [
            "New value [0. 1. 2. 3. 4.]\n"
          ],
          "name": "stdout"
        }
      ]
    },
    {
      "cell_type": "markdown",
      "metadata": {
        "id": "yJMZXo-OXUvI",
        "colab_type": "text"
      },
      "source": [
        "# tf.gradients - why graphs matter\n",
        "* Tensorflow can compute derivatives and gradients automatically using the computation graph\n",
        "* True to its name it can manage matrix derivatives\n",
        "* Gradients are computed as a product of elementary derivatives via the chain rule:\n",
        "\n",
        "$$ {\\partial f(g(x)) \\over \\partial x} = {\\partial f(g(x)) \\over \\partial g(x)}\\cdot {\\partial g(x) \\over \\partial x} $$\n",
        "\n",
        "It can get you the derivative of any graph as long as it knows how to differentiate elementary operations"
      ]
    },
    {
      "cell_type": "code",
      "metadata": {
        "id": "kops_6QnXUvK",
        "colab_type": "code",
        "outputId": "714ef7f1-922e-4ce9-e7f8-b0c1c194867f",
        "colab": {
          "base_uri": "https://localhost:8080/",
          "height": 87
        }
      },
      "source": [
        "my_scalar = tf.placeholder('float32')\n",
        "\n",
        "scalar_squared = my_scalar**2\n",
        "\n",
        "# A derivative of scalar_squared by my_scalar\n",
        "derivative = tf.gradients(scalar_squared, [my_scalar, ])"
      ],
      "execution_count": 0,
      "outputs": [
        {
          "output_type": "stream",
          "text": [
            "W0630 18:41:25.639353 139931180545920 deprecation.py:323] From /usr/local/lib/python3.6/dist-packages/tensorflow/python/ops/math_grad.py:1205: add_dispatch_support.<locals>.wrapper (from tensorflow.python.ops.array_ops) is deprecated and will be removed in a future version.\n",
            "Instructions for updating:\n",
            "Use tf.where in 2.0, which has the same broadcast rule as np.where\n"
          ],
          "name": "stderr"
        }
      ]
    },
    {
      "cell_type": "code",
      "metadata": {
        "id": "Ee933iMTXUvN",
        "colab_type": "code",
        "outputId": "66748de0-b15b-4516-935c-fb8b16e74d38",
        "colab": {
          "base_uri": "https://localhost:8080/",
          "height": 34
        }
      },
      "source": [
        "derivative"
      ],
      "execution_count": 0,
      "outputs": [
        {
          "output_type": "execute_result",
          "data": {
            "text/plain": [
              "[<tf.Tensor 'gradients/pow_1_grad/Reshape:0' shape=<unknown> dtype=float32>]"
            ]
          },
          "metadata": {
            "tags": []
          },
          "execution_count": 32
        }
      ]
    },
    {
      "cell_type": "code",
      "metadata": {
        "id": "54MdkLi1XUvQ",
        "colab_type": "code",
        "outputId": "ddf6b3d6-1416-4ba0-b699-80c110356be9",
        "colab": {
          "base_uri": "https://localhost:8080/",
          "height": 269
        }
      },
      "source": [
        "import matplotlib.pyplot as plt\n",
        "%matplotlib inline\n",
        "\n",
        "x = np.linspace(-3, 3)\n",
        "x_squared, x_squared_der = s.run([scalar_squared, derivative[0]],\n",
        "                                 {my_scalar:x})\n",
        "\n",
        "plt.plot(x, x_squared,label=\"$x^2$\")\n",
        "plt.plot(x, x_squared_der, label=r\"$\\frac{dx^2}{dx}$\")\n",
        "plt.legend();"
      ],
      "execution_count": 0,
      "outputs": [
        {
          "output_type": "display_data",
          "data": {
            "image/png": "[encoded data removed]",
            "text/plain": [
              "<Figure size 432x288 with 1 Axes>"
            ]
          },
          "metadata": {
            "tags": []
          }
        }
      ]
    },
    {
      "cell_type": "markdown",
      "metadata": {
        "id": "YRJH_i7nXUvS",
        "colab_type": "text"
      },
      "source": [
        "# Why that rocks"
      ]
    },
    {
      "cell_type": "code",
      "metadata": {
        "id": "JRYJCu5KXUvT",
        "colab_type": "code",
        "colab": {}
      },
      "source": [
        "my_vector = tf.placeholder('float32', [None])\n",
        "# Compute the gradient of the next weird function over my_scalar and my_vector\n",
        "# Warning! Trying to understand the meaning of that function may result in permanent brain damage\n",
        "weird_psychotic_function = tf.reduce_mean(\n",
        "    (my_vector+my_scalar)**(1+tf.nn.moments(my_vector,[0])[1]) + \n",
        "    1./ tf.atan(my_scalar))/(my_scalar**2 + 1) + 0.01*tf.sin(\n",
        "    2*my_scalar**1.5)*(tf.reduce_sum(my_vector)* my_scalar**2\n",
        "                      )*tf.exp((my_scalar-4)**2)/(\n",
        "    1+tf.exp((my_scalar-4)**2))*(1.-(tf.exp(-(my_scalar-4)**2)\n",
        "                                    )/(1+tf.exp(-(my_scalar-4)**2)))**2\n",
        "\n",
        "der_by_scalar = tf.gradients(weird_psychotic_function, my_scalar)\n",
        "der_by_vector = tf.gradients(weird_psychotic_function, my_vector)"
      ],
      "execution_count": 0,
      "outputs": []
    },
    {
      "cell_type": "code",
      "metadata": {
        "id": "Jg89aSAAXUvW",
        "colab_type": "code",
        "outputId": "5f3ea1ce-6246-4e5c-e5b1-18f28eeae9c9",
        "colab": {
          "base_uri": "https://localhost:8080/",
          "height": 269
        }
      },
      "source": [
        "# Plotting the derivative\n",
        "scalar_space = np.linspace(1, 7, 100)\n",
        "\n",
        "y = [s.run(weird_psychotic_function, {my_scalar:x, my_vector:[1, 2, 3]})\n",
        "     for x in scalar_space]\n",
        "\n",
        "plt.plot(scalar_space, y, label='function')\n",
        "\n",
        "y_der_by_scalar = [s.run(der_by_scalar,\n",
        "                         {my_scalar:x, my_vector:[1, 2, 3]})\n",
        "                   for x in scalar_space]\n",
        "\n",
        "plt.plot(scalar_space, y_der_by_scalar, label='derivative')\n",
        "plt.grid()\n",
        "plt.legend();"
      ],
      "execution_count": 0,
      "outputs": [
        {
          "output_type": "display_data",
          "data": {
            "image/png": "[encoded data removed]",
            "text/plain": [
              "<Figure size 432x288 with 1 Axes>"
            ]
          },
          "metadata": {
            "tags": []
          }
        }
      ]
    },
    {
      "cell_type": "markdown",
      "metadata": {
        "id": "8GRLTKTAXUvY",
        "colab_type": "text"
      },
      "source": [
        "# Almost done - optimizers\n",
        "\n",
        "While you can perform gradient descent by hand with automatic gradients from above, tensorflow also has some optimization methods implemented for you. Recall momentum & rmsprop?"
      ]
    },
    {
      "cell_type": "code",
      "metadata": {
        "id": "96eKanpEXUvZ",
        "colab_type": "code",
        "colab": {}
      },
      "source": [
        "y_guess = tf.Variable(np.zeros(2, dtype='float32'))\n",
        "y_true = tf.range(1, 3, dtype='float32')\n",
        "\n",
        "loss = tf.reduce_mean((y_guess - y_true + 0.5*tf.random_normal([2]))**2) \n",
        "\n",
        "step = tf.train.MomentumOptimizer(0.03, 0.5).minimize(loss, var_list=y_guess)"
      ],
      "execution_count": 0,
      "outputs": []
    },
    {
      "cell_type": "markdown",
      "metadata": {
        "id": "Qj7CJJxgXUvc",
        "colab_type": "text"
      },
      "source": [
        "Let's draw a trajectory of a gradient descent in 2D"
      ]
    },
    {
      "cell_type": "code",
      "metadata": {
        "id": "rUUlA0gjXUvd",
        "colab_type": "code",
        "outputId": "a486307d-3265-4700-8541-f11b920a6808",
        "colab": {
          "base_uri": "https://localhost:8080/",
          "height": 269
        }
      },
      "source": [
        "from matplotlib import animation, rc\n",
        "import matplotlib_utils\n",
        "from IPython.display import HTML, display_html\n",
        "\n",
        "# nice figure settings\n",
        "fig, ax = plt.subplots()\n",
        "y_true_value = s.run(y_true)\n",
        "level_x = np.arange(0, 2, 0.02)\n",
        "level_y = np.arange(0, 3, 0.02)\n",
        "X, Y = np.meshgrid(level_x, level_y)\n",
        "Z = (X - y_true_value[0])**2 + (Y - y_true_value[1])**2\n",
        "ax.set_xlim(-0.02, 2)\n",
        "ax.set_ylim(-0.02, 3)\n",
        "s.run(tf.global_variables_initializer())\n",
        "ax.scatter(*s.run(y_true), c='red')\n",
        "contour = ax.contour(X, Y, Z, 10)\n",
        "ax.clabel(contour, inline=1, fontsize=10)\n",
        "line, = ax.plot([], [], lw=2)\n",
        "\n",
        "# start animation with empty trajectory\n",
        "def init():\n",
        "    line.set_data([], [])\n",
        "    return (line,)\n",
        "\n",
        "trajectory = [s.run(y_guess)]\n",
        "\n",
        "# one animation step (make one GD step)\n",
        "def animate(i):\n",
        "    s.run(step)\n",
        "    trajectory.append(s.run(y_guess))\n",
        "    line.set_data(*zip(*trajectory))\n",
        "    return (line,)\n",
        "\n",
        "anim = animation.FuncAnimation(fig, animate, init_func=init,\n",
        "                               frames=100, interval=20, blit=True)"
      ],
      "execution_count": 0,
      "outputs": [
        {
          "output_type": "display_data",
          "data": {
            "image/png": "[encoded data removed]",
            "text/plain": [
              "<Figure size 432x288 with 1 Axes>"
            ]
          },
          "metadata": {
            "tags": []
          }
        }
      ]
    },
    {
      "cell_type": "code",
      "metadata": {
        "id": "MocPFgdIXUvj",
        "colab_type": "code",
        "outputId": "7e35dce9-7142-4acb-9cfa-3a4009618f48",
        "colab": {
          "base_uri": "https://localhost:8080/",
          "height": 309
        }
      },
      "source": [
        "try:\n",
        "    display_html(HTML(anim.to_html5_video()))\n",
        "except (RuntimeError, KeyError):\n",
        "    # In case the build-in renderers are unaviable, fall back to\n",
        "    # a custom one, that doesn't require external libraries\n",
        "    anim.save(None, writer=matplotlib_utils.SimpleMovieWriter(0.001))"
      ],
      "execution_count": 0,
      "outputs": [
        {
          "output_type": "display_data",
          "data": {
            "text/html": [
              "<video width=\"432\" height=\"288\" controls autoplay loop>\n",
              "  <source type=\"video/mp4\" src=\"data:video/mp4;base64,AAAAHGZ0eXBNNFYgAAACAGlzb21pc28yYXZjMQAAAAhmcmVlAABM8W1kYXQAAAKuBgX//6rcRem9\n",
              "5tlIt5Ys2CDZI+7veDI2NCAtIGNvcmUgMTUyIHIyODU0IGU5YTU5MDMgLSBILjI2NC9NUEVHLTQg\n",
              "QVZDIGNvZGVjIC0gQ29weWxlZnQgMjAwMy0yMDE3IC0gaHR0cDovL3d3dy52aWRlb2xhbi5vcmcv\n",
              "eDI2NC5odG1sIC0gb3B0aW9uczogY2FiYWM9MSByZWY9MyBkZWJsb2NrPTE6MDowIGFuYWx5c2U9\n",
              "MHgzOjB4MTEzIG1lPWhleCBzdWJtZT03IHBzeT0xIHBzeV9yZD0xLjAwOjAuMDAgbWl4ZWRfcmVm\n",
              "PTEgbWVfcmFuZ2U9MTYgY2hyb21hX21lPTEgdHJlbGxpcz0xIDh4OGRjdD0xIGNxbT0wIGRlYWR6\n",
              "b25lPTIxLDExIGZhc3RfcHNraXA9MSBjaHJvbWFfcXBfb2Zmc2V0PS0yIHRocmVhZHM9MyBsb29r\n",
              "YWhlYWRfdGhyZWFkcz0xIHNsaWNlZF90aHJlYWRzPTAgbnI9MCBkZWNpbWF0ZT0xIGludGVybGFj\n",
              "ZWQ9MCBibHVyYXlfY29tcGF0PTAgY29uc3RyYWluZWRfaW50cmE9MCBiZnJhbWVzPTMgYl9weXJh\n",
              "bWlkPTIgYl9hZGFwdD0xIGJfYmlhcz0wIGRpcmVjdD0xIHdlaWdodGI9MSBvcGVuX2dvcD0wIHdl\n",
              "aWdodHA9MiBrZXlpbnQ9MjUwIGtleWludF9taW49MjUgc2NlbmVjdXQ9NDAgaW50cmFfcmVmcmVz\n",
              "aD0wIHJjX2xvb2thaGVhZD00MCByYz1jcmYgbWJ0cmVlPTEgY3JmPTIzLjAgcWNvbXA9MC42MCBx\n",
              "cG1pbj0wIHFwbWF4PTY5IHFwc3RlcD00IGlwX3JhdGlvPTEuNDAgYXE9MToxLjAwAIAAADJeZYiE\n",
              "AC///vau/MsrRwuVLh1Ze7NR8uhJcv2IMH1oAAADAADVayF8oYJVUBjg5Cl8UC950wnQObmxLpMS\n",
              "eTd2N1o7ZvU7nZLqidQWs9IRqH4qZFuUNOvgrgAArGB7WlESNB735J/CfrjEy3i5zjzWx5r7oD4b\n",
              "7vRGf5YZpSE2SfCltWRnqtLPBS3FxRjhpp/BEdar5txSfEu67R/ppgZwAi2i8ff512MwmU2ndVwZ\n",
              "0/IypwbXeLiexIGKwjGLSLtuFQ6Y/OKysfXRdbpNhUrKtfRj7PsZ4sEuP5y4zl61S+z6VZzYCdA7\n",
              "422O/g7ogLDysqUE24GpHGaJCX2wbS68ujTHQP6XxiSrNlnDwZHgbp5EeVkCuMJlhlbRejAAAW5E\n",
              "i95ObYO5PsuB/yXJXIr296w2R4KtEWts2QxCeaTyILNtSj0FAa6n+Sm+7xuX2JriZx97d2rE/cAU\n",
              "Qsh/+Ymis26EZW9S/cjgVqTEtyVS3CIlK2Ezdp99jK7/nX0GHUivuh8QdJ4bhVPEmo5B7TQYe9Nv\n",
              "n+ebyMRkTx7hvj05vOEfMTes/dwPLUI91WSm8NQ11fuo1LrBS7pJhE73vxY1JjcZWnegaFLpPjAo\n",
              "+BqceCYe5S3Av97ANnEBmzojm/SDmWarQluOhREg6XGZMu4a7snjhzyH4/KonlxVMyXTB8Ya3dGT\n",
              "vrxM2T8GRxsFP+Ki2XIeafZhzaICPKgU1x2LYZqQc9bRDlrWDpuTNmcCbrO7DXBPWt4+vc4y9j4O\n",
              "nmehjy3+29CwtFTKfeNDtJqpsgh9q2E1nXMB/b67agis4/9zgOkKQTrSKTL/ETxrRLU+M6bDF5Hw\n",
              "Mkk0WQCW3/aB4rOdB/mjy0qnw4YqFkBjk8S3abocW1VP5xCX6kQu/S+pHlRN6K+k0MK67uDbQpak\n",
              "Tg3oFCVnZYtI4fIdaw6N4CrUmzN3+T+U2DAvRHNB/dqFoMjErvCTrUOM5i6sgMFnPlzXuzglEx3r\n",
              "tNS/ihpBKoZOTd1ViyEWuvp6CRVIYeDAf+u+GRvSyJD0uB2YFMYXUoJNAnwTcmSYyZTb5a4nxvDl\n",
              "TOC8jlarLZ59F/D69SA66HYNiutMC2dploDTw52cruOXTwGu6T12mOk1kVNnQZriDnZ5c7I+N9HQ\n",
              "a5ZPa57KaQLMuwNl5cmGiFp4HWwZktokWS6ak4lEXjSXXAiOxi7qBV49WigxIGR33VW8wRNdN3Dv\n",
              "xgLQBmCInEdpSYWVa/7NpJBBH7cIb8ttDQIp2sXitLdMBUvDn63XlKb2/rqFXm4DJl2Woi2N3Ol0\n",
              "XloGi675i1F6emt9/LLYQhVVKflHygiF0G+O9AVc2N/8DsTZJwFSpbyMG/Tst2fF3Nvy0sScZcTV\n",
              "4KwHspWfq9YHyH4DdFDKVMWM1BaNsqek0yKv6K+jX0LsoL5Vr8KjZJ+RihiRjHS1R2byBoCqoi0P\n",
              "rEI0pWor53obQeyY52ReSt/DWLCDSWlOgDG1tlMEleKmjysrE3aS59PR9hA8bdC7kPhnQ2tV0gSL\n",
              "26GNMIDjsMBRW/3SowhuZbrNmTlxmBYV3hCRfvFysfKbzpg5k1qs459I2wsyLeKD4f8dcrcvCUg7\n",
              "oa5G0vn+lToJZzDw2LcJk1HdFaIWUgC+woiUDqCzpfSNceg028zPwTXzCmJDKwJOvcBGFhwXmp4z\n",
              "wi9Vr56d6r3XzmGGMexwaChFdcX3+RnqS6Fw1gLH+WHqMHBf88Ng0IQKG0O7KY1SfRF+RNUMAqRU\n",
              "kBDnE+T7CsIWk+iAI54usYhOf3ZzwGkFSFlrZlHY9TRsZ15m0U1+pVprAMA4MsGtUeFB07K6uyAV\n",
              "hk2T8AkUAGDGt4sbuxuZG7PcrbYaj8llFH8rxyn95ylTaRabhsAziWWC7fnI6NQXfyLMhYWCHoVI\n",
              "r/iEsCfCLQj0d8obYU/KyGIJsSVNrRLeMmc00DlWyv/ZHiAjr7+xLTQlAoP7yT5iaVIfVSZ9+b+Z\n",
              "WeCsaCl25Ys9K99tuM5jvlafGWZkFq1spKlVeojxVAAMpL8DFV2WUfJVGDMyE1ct046A1kPeiiRG\n",
              "MndQwdVptxma2zKIvc2BRolDDSa8/LEF/DjiwriNa9wikvvaZARq+hDDcPuIcAKXtTPQq2ohiVuw\n",
              "uarMf2mA9MkFrneFjnQM/0s+uU5jgquFlKj9kUf//Lh34l2T6bAG0DTd5uCP6eT02CYSX3QIXsLL\n",
              "vy+OY3KnRyizGufKPRrjje2TuAigKjeqH7cYeCWz1iPtwQykwnhsY3/FF/HX986703GJVFl1p/be\n",
              "f1tDkb3B0ULSUcf1tgTlTn8Myoh4A1wgOqpDaNHzXmTBg9pH/cMjBYQQuTtpURQKVbwIHZWR0Uyy\n",
              "u1MxcZgaHnIFqJXEdLsje/wFD8aC1GUFwM6/CSYeMQWp3u2I+3S4yNoI3fHZfah0u4c1vvNbiEcK\n",
              "Nz6vsG6t0IfQVVeKqAoiOUqHAsu3ZOaFvOwn5EIaLhRH1bjVxyA4jOYhY8mJ6SrGdsncxO1mEKJp\n",
              "VZpQgC5hyDeyoH+/ZrHoyH01UpsZxzfvl2U6PuiBIVCWlKAUfiiMyg9tS1LiqfTp3pNXVZkOglxU\n",
              "AVXLxhAvM7ve5ct6bpU3I6pDH2Liipvmm6CmJ3v7FLEMFSAH/fleCoqOjQA3ybCj248xQb5sNOJN\n",
              "DBHEnP5YJ4jTDtzYbvfyC24/Wz9K1LK057yAuT51mRhoEj3ok2srA2J0BF5mI/th3bLiMXqrnoFv\n",
              "F7Jbp85SUJzo/otG3/hBE2m5kolxd9TFo2JMmdD15GataI/wfXGq2K2K1KbW8DrtvpHzbROuO3e3\n",
              "AQB0lsTn1SgiUtDwLeQEhMGpdUuL6vUzrtIR/MfSIDUT444AOMTmTBjCApv5r3nbK+LIB53KuKMh\n",
              "E4P1gWIqhgveyuzjO5LMBk124zNjbyfuFpbvJkP5N0RiqBr+L+fr2qzU35QRvVND8DrK1gqls4Q0\n",
              "q4dbNY0Tr7219x0kShy+1x091tFmqEtxT5hAvLfmxbXE/XnVzdSgCgvaAJ+1mAWA0FCAq5GobAr0\n",
              "N+TPlx9cYh2BDinM3jlCtpKPgK2CC8NvRXjG+kQKLslf3wmNPLMgmX0pKqEAwj4TnrNZeaQwItkC\n",
              "GMRcLyhDXKlFJ+5NkMfnhv1xR888TU36NlRBZiRS5fVt+ECMzqb/qhATDHMTLPYZD37bRJyRVR1q\n",
              "B7yIuFp7L7cZIHwy8537GsmiyiEFVe9Oq0XlJsdCLfMKR3dCkUZbvaWNeVFG4KL0SSa+LclD1tcg\n",
              "c0Xu89/prve6hu54fkOX1h4qYmlwzbDbXdiTdUmQkwS3w2CPRd7EUL7vOufafBaORx4Aec/B4cH0\n",
              "lbtgc8L3GyoPK7UZXLMD9b2XALIDvq1LhTqkC6ohjqsYhspIkkmO250o/5m0vaLETfSle7pzIxBj\n",
              "nrkuH0hNrni9s093qkhN0l/3/HDjsTLC77bQeisJKBywBMy5YBhoIMGYyjOzCZMyRWdZHlMTBWKM\n",
              "+JQlXemyMQMXvjvaelulNnV3SX9VfRC47Kh5v9ODGZf1ZOXpODmjPGmolHS7mED5TACZ6vGex71K\n",
              "8++6rlWmPYFs/Bwcbmi8DukqdEEgVScQYLOPNxCeGG0++cHzUVK6IEwMfYti4YwZWNUWlyMzSCJD\n",
              "EgfSESp7CggmWqefyps6Xqhim8ym0VRT2UySQM306LsyM07IC1hjfiX9LUJFgmyeisKYdBenJbMR\n",
              "2VIJAYgmEo6rKL/sGSDZ2ataZAAhLeep6V/TKCVH5rIxzY7k7Vd33VG5oV7XSWbS2tcgnB1APyNd\n",
              "RbM1ofcrW0kFbw4A8vJ5WcCd8hp+esUDnDA/VntRBv4ibKWp3LmJhI967fO1HhIgqD2PkVoYiW30\n",
              "BVkY3DLHQe77Xexw3BXacrByzpDr3Boq6MXfbmdf6tTteDhLiBOZKaHkGBHC6GdpLC1tXP/+F7bp\n",
              "vZZIhLaDWG0QUOAsNB0uTWxf2S2VexdiQd5mw9s9iPmmjaGtHRbM4eAbXkSw+SVDscSSDS16GdSZ\n",
              "Yf7DTDhJ+DrfD1ad6ncHnrRTm3XjHXEgrGvYDeovml3qNFPoqWZN/dDGzjHQ+FsLTR/5J9grPjIl\n",
              "0LSA00cRVSjvmby+5cMEDBHZfWLX1Lav+jlgSMJkNqa9M0rxUnwpYGXwIqWkfwqK2Cvu3oH4Y0VW\n",
              "7FmGO6/ui/+1AyRnoSz/aZQ/vGo1AiKTbKTObiQuDkuEhqO/a2y6ZPzndAtpP4In//9JZM1FKY8N\n",
              "vrPYoIURvgGFKo0GN237DJq0gz1qrsZJSu0d3xAm5tibVYBhmSIv3TFu7BEyJN7QRxzKJhkDNZdN\n",
              "KC6ajWybJLHgkhV2EQkct7uxl2pDieqwVD4dA86iUsJp/8xzdfe00sXJo3WVMgNuAW9lshhBUd5i\n",
              "8BEVkR615Vy2shSx6Y8vlrbkgftpB6C3+NzJmlADASCtXVBWPaii/0E0D+jewYZRd4ZpGE1JhyPS\n",
              "7mSpZnhMJpMyLie9F02IpegPgVkywrF5mukkczLcZl/axkF0A7Usg10M2HrRwl85fQFOyTT2GlOU\n",
              "vAqWZ2iQvDZnQMnFUcC4GGqKW2KQFb/CDjTfJBZXIh0mncwrAI6EPiG9JasKKo+b9nZKDDqCq/oZ\n",
              "XlxJJeMjwtoCbJFTkN39glqxkDsAtGl9Rp8UDH/VGy9L2IPbk0WheUmHMzGbthJwFrV6OS9VcUWm\n",
              "O970oaNwvII/k/haGMl6AsbC9NxIRjACZLEGXCyWd0+lJdpN40L//7NgI8lJluwu4ljiSF4nfrLX\n",
              "XKFgVBiqaOdz05xuLnh8KsKWwL05F/2L6ezSDl8OuOfeZbArvbSmWhHV3CQcEZAiR54SWF5oAi7M\n",
              "6w/l0rVoqaozoFU09gKzo+WF/qmdX5jFrDWidvDGSVnbU7NWrqnDp2Dqd+hpjgxMzoUs1YGnfgEc\n",
              "341kEE414+nBqvlrB6S3bbMHPILZ2xzfLIzeQIDF7KRYmubqg/mldnFQAAmLp90/wQ7f9hAYDY3M\n",
              "uN+LE2CC9TtzIROLhdait/UjCn/j3iNAq6r2/codeurG4LMkmedDZvZcBFh9u0+dm+Lp/tGD5tkm\n",
              "2t6rUK52HlXI+kxRGHzKBofmODElegBNGFKTlLHMTJNvOHl1kGg3PAjE5mQno95cxSHsFOP9TWdn\n",
              "HccG0Yy+11mFK9U6NtYdcRoj1cRk35VYeNQWQ2WfYyQ5zAGI/tXWtnV80o9/NJ48yTzwaAaiEzZo\n",
              "7bgzgndaE3aTnL1P4C/jONSZsMVkiOjK3eigSHSQ6XGOInFAIiTuNTeFf50Z4wEfdzRfr2sPEKtg\n",
              "aR7xwRcqK1tKGoBL+1XzVfOYgGnonPJANI1Z9Ps/YwK6yZUOtm4EU+ViEHELGNJCCPMeNPVA2V3P\n",
              "8Zbj/r4Nevgnfqb6wB8eMH/g/ZrYfu6OS7H6VJLgl82CMUW0ExGUDsYb9JiT0joNRSUXYkeBUpHH\n",
              "OHQwg2wLrKxmzdnmc30IgrBsemqoyQwuNkbbFCC5GOYCd9xSVXD40n0DSLNz8LUb0Kt69aAmj8j5\n",
              "DQXRDGo2juQNIWan48mTIRG9uPDLszg9OFY5HMJnoVs0A3RDatixNFbLluI3bY3TB3wUQ2KD4Jae\n",
              "CEAir/edvBkcv7YpkCcj+GUygsG6+t2iDR6gtIXJQPSC73s4bCZQZHgLNIEj1EHRIaVEre3CUXFa\n",
              "VDJqKOd5tm8Qku1wZATs2zO5VB7NUq0ZhbXV6Bh2USG/swEm/KBYZEiXeJqKSBwU52Nx6lvVWHSq\n",
              "aeTkx8Njh1xQ+YZfAG8mdnrrihYLZO5A8WBnF1KTx3vvrJbqTH1J7DEqk2T9w2lDTqqWOb8m1lde\n",
              "rpbDdvcjIoKUIHXg0TXtaRka/Ug/pC4o1JhfHEpc8EvATl1nGSjupqLizO3hakNdWOgI8JUjuz22\n",
              "e6GYoyJZt8c3ABc0Xw+JHkx05zpOkNl8jDITEbLjJwAjkhbOhzzKoOc9di+EfoTyAd0RPWF0BEH3\n",
              "CPHNcgYhHHUWzgBSQXeOZxYtpO2G5WnvOsjzssTob1GJiUjNFyEVqG1BFyx8eAhl5QOtN1t63Osw\n",
              "PIebUo4F2V9AAriDriT3poRqwJDCXivsqvi2X2vcszrRrR9jUfOt3L9g+PLzi2ml8APLLyGoVcGb\n",
              "/Ans2Wh7W0EV4J3yNSjC5oDgXxDsPo7r3UUcRcxQVvrv+a5pKmi+mTpsk1/FoXV2em8X5sOTLoB5\n",
              "9U7yFevZ5uP/cY0sveRJU2HuehgPCYY4HyQc5suw0RNt4JbveSgH2FUCajuTZJx7I+Y1Jg7ylYNC\n",
              "L9nLPWZiOfiB5+y5HtPUY9E2eX7ZmaPrCMK5s5zpE+mpTmHaML1EE0F5BbtjWt5+reA+67NHen6D\n",
              "a6au/oaU+o/+cDD1HSr0kyH/LmlB0EqhjunMrJqWlX/O4tuKGN4mi+vaOrnfd05Jl/Vnny3GrXOZ\n",
              "jdkh+mVvDeBhqphsGov+Ww7bhWCtyueXSZDncn4EFEMXIDGVbss1YOyzAng5G85spAb2hK+Li3Ys\n",
              "xzEbFNzQ3AW/AOFEB8hcNt/wpDBkNoNQfbloyL2yWaRz3YABfyBrFzdJ+fCxaTToOzCpT4TlbqIX\n",
              "4mTPYihfGVa3o6mHyAjjfWsYIh+3j0V3tBl9Cnz+yNwe+DPLw/FaL+47VScgzyjBuzDTT8XpNo5u\n",
              "hvud5r2RJUBJaG5RZmUFlstVDAwQZNLiLOTUWj18GwDkKXfAMMO4ML4N7Pdr/BjJ6T8/xLEuw6mr\n",
              "RKyyP+CHNbUpYmZUm3Y4ivQKma6je1lNPvp/AUwS6NYXdKyqc1FD69MZe8WcLFeTbWvOW4sIPOFF\n",
              "o3oF9ez7calOQ07qHN7JkTCADEI6FQFzQnNdtzJz/dWbnbHNLMucfn9GcUWijsEW4lY/xFZKoBqU\n",
              "NlnRnPrxyht9QMc55Ns09D6krpweIEXX4BjDwDWWbb8B1LVLXuMTDNEoMyeEcBJzT9KR8zsT8z62\n",
              "XsDouToz4uK216y2B3tskvX2UaC2D+R15P4BNM+3Zrp4GtcIvj4Cirp1h21KwDhLtZ3ZJvnxT+8N\n",
              "BfqlUBdKR1jdQI9n2wPaScJgzlw2o4iEi3Mdmi2YbMFyHCr9r3c5uw018656IwQXSAG9OSzQcuxh\n",
              "69nVm7rgvg3AlS1l+6HL8EiWtkfNedmlH74F6/i8W2CeRM1BWVzU8AaTa7RFdPZX+SMFC9SZniw5\n",
              "98+ayP1PcmqXsbwwyHE7fSr+HXaORa8W+bR9iYTfx13lbr0ReJL6rzsGFsLWcS/sJrjMxjRHI17Y\n",
              "jrwndVkzu2V2DB60DOSTOM1wiayuWUSkdLlARrEyP+6OE2OSCUTzlJCScPuVZMN7C+zuOo3XWsHk\n",
              "ynq11aBMdRFz3OHgdW7qD0XXnL82Av5HGEh+p/VNNWHG3fGpHfEyvx1Qilk2UJE1d4Xp+NiVrkDI\n",
              "lkl++HiGOhqvHGrB0mqLYh55/C+GkgKSSnZ+gP2lE+C8wRc2a3dSxAFXHT9tOWqj/Dv6yK8zH2FW\n",
              "+6RhiXrsNjQXHN/UTOqZQL21s54Sgi7Clk6ilboRFMH1v26BtwmXulipmH/jyPKzIBUhX9+JM7Ae\n",
              "Sw8AQRUK/NLeWnmOaawwuARp0qC22EohPTGB6WF59AnE84Z5gXi23fP+z8+5RzmdgyfGrZfPhkwO\n",
              "XSj/el93nwJSfqj2tZPhn5DyFQzPXuhRDcVeXvhX4EUn5KsnIssgZej7hRX6HzrqxplKMXmuyCZE\n",
              "KX3XfxjG6qK5cY0Ut8V1R6UolfrCZ6xkAoq3MHegr647+y2vW4EMuOEH5hqJjji+/CihkVysWYYY\n",
              "3/rODgHMpq7J7rpcttcUkNvoAqbJZAGLe0+D24hGH2KbD0Qg/1pesIv7Nqac8keoJe7WY3bA3ZSO\n",
              "Urd0+TXUK+zGzBXo/ruCPHL7inZ4XTdZJZnhpT0+wYy3ftJcvQbJP5t0NIjnd833UFFsP7Djkkir\n",
              "kPSoF7YrhHE/EyEYhBat+ijZe3N5q2u3WvPWK1HkRp/YQR0mfu009RvrX8ubqv8mRhcrsw+kFYDV\n",
              "3qt/XnncXry/PLjYJ9fUO6FU/MGKnzDp9NwQ5jNHe4mDKPH4/JlBWJ9kxmRR2xuRbRBHTHp0Vopz\n",
              "XngIqa5YGMh69w2f5Z1jGQZid8sTjRh3kbLgjsVrUfXsAQL/pDUv/Dh4Fqq90MjlcuLQiEljqV5Y\n",
              "Je/HK7v6sBxS5fLAtwwFbX5kbZ1WcDsmYcwVG3at30qAbe5T3oP5YvI7ZguaKDZ5EA1/0BFfZgTC\n",
              "detdo1P4jEd/xdK2Cemin034QWO2E9Lbck+BPmTYDZ0QFRJJV65PV1gHRueajVbmvmgjieCYMgpV\n",
              "Zk/cTROJ8aEifWtn5HffCNW23M8eOFezHAM0pekj7AcAzyatYTkdstnY9voGoW15cQpsOTQdoOwU\n",
              "obY9loAWdPTN22jlIHSupcDHuSV3WMj2He1pXg9ySOfzxDrXLvZ8a66xaOZu207mpmRomAsbV/4B\n",
              "wBMmrpi0kGSuucd5x1Vz5qu8VbGjy5k2F6zvgsj6K5iVbuuqEMS91Q+daUyW0SCKHmlOQ/pZFDEC\n",
              "jyB5ev+k+dYa6CX8izdVSqaxpHZdC4/c3SbznFsdBaXtalA8rLW3LFEaon3/QP4MHqSYRwICHlz3\n",
              "ebVg0wJwWWwZG5PfrCvBP/W3W7n4s8VhXqZpcEiqVyph2vVIEPtU1R+NGZpDetckiH4H6BCFyCyB\n",
              "A48ZdgCebrdGcOLp7DqF2kc29o7EuAbYTkmcf3vuzl6c+GQzAgshPbs3VMXx+l+KBPMyXNwGtj9t\n",
              "0FffRc2m/1wfaylGh2MyhkXjCJ83ZO229gk+7FlW5LHXl0Ndp0LkuQ4dGzoE5xhVRE8fYB+VLCnX\n",
              "q0Koj+PFYEiR8L7nV8TrLVsFARnmRJ3B/pbnPI8mAO36VRJkvnC8ba1EDfu6eL3DaolGe0noz8XL\n",
              "PK1sM/c/TlBjmLZDJ0nvzJwhCLJ4QPR3KzZ4ga7lC+Ve/e75LF64DPSj36ezuz9F6y3W86jhca2w\n",
              "BUSjchmKPWsAoijmHki8ee9ScwW0+X/9jEISQdNy+AFjL9epg8qORQt7qEbbiLSANWTMS7Oex0bi\n",
              "Khv2Nb40St6Cdgjgbs/Qs1AtzPdDiDovBe8iUcv5iJgWy+yWoo2mY+q3xfD2wRRnC9Kb0aPllBaD\n",
              "DzQTAIk+G5zGwYC1A97Ka7zilorg0Q3xp00rkykSyDb0e3WHhliQ9MPU6OQOgoOv2U69LLSUtGDI\n",
              "CJWoyDqgzitMeivTWNP4vCu6rZ1CkEwh3SK8r+zyexE0YqQ30t2ghyva7ieck4KvyfdpX7yBBbYK\n",
              "dd9gLduXxeHxcP01wqks7EkK5MaWCiiDEgJvaltWtlay1BWNKkYE1kHdIscnGAty/F2WfK+dSTzx\n",
              "RVsx+blUgnomCZbK6+W+6fku1M6ZIHZ7elgQzkAfIixluKj/QZ53FI8QLSXDKTJ3HOTKgs8jWMGT\n",
              "J7L6FvacEWHNcjV5iDT7DzfUsizFLr9OP8aHXB+J3fV17eZOk2NDOTIn7Y0tscQS8DdsKKfObMkv\n",
              "50QQ7ep3UOYYKqHkoyW6bXjErqiXYxkG480fbBESEmBuICAe1PrHG0rGUmcIE3rFfVyF3w5PPqc7\n",
              "96ct6lvwp+BFPgMfotyweLvIxyEdIAvDNC3Pqnu4ghqb+aOBDxCQXOfxrRsWecdSxvqf3cyOHthr\n",
              "UL9OAbuq5Wo1tF763/VL2BDdMQzdkbisXPTO8SA3hyUEyfajhdLygR4GebPTqQvxY49JkDcM5Uf8\n",
              "Yc8pzsY5dX/43ajembX2D4LqCt6oAcug0kWOdm+/XlJhUKhiOfNlHQWiwjCzxR7sVvDzjRLW39aq\n",
              "OcA/9Nqx5vZbP5UfWF6MBUd0peQS3BN5lUKCzveb1QemeVynHaJZOH1hHtcS+3LdV63CCw4JB3pF\n",
              "dAJsAbjFyT5WBKZ2ZxKNN308j98mE0n7wU5Rk21FHtgOc93kLsjSRzzp5WcrNq+Cz8nQYM+ocguA\n",
              "HXk9iWi6Si+km+8XDsc708okgQcgan+dQASQo/TcyDnvm30WWsJfnE0v7epYwnF02y77UIsvS7Z9\n",
              "kWwMXz06CZGH/1QGHVVHbW3Q+Fz66OkrOXkcnt8BwwcC3DDIELKxOpRUKJap/dlQ1VhAhtiSWs+9\n",
              "bcq1F/87l8vyZoE0uMOQa9fRmsWm7rXj4ypJsqizI/gAHuGHpq76S2Q3UhA5W4kkyvKZV4YIhUCL\n",
              "rBrTrBGu4msjW+x/GYD4THVZQl0CLwE/nFnTnOjEGH8r2oExoTrcojiyMM2BS+lmmQTd42QoL/7p\n",
              "P52r5gGnQntU/c6pBclHp+n8FJchjiK5muytD7zxug2BIi3ed0KzzPtqc5t6hXnP2GBVg7rFAtQd\n",
              "3cvL7uhLleRuHW/lRJgqV4RKxvqa+AERFANP/bAvEjCyBqP0oBr+ecY/jBXwLaNxfv4Pm0hqBw4b\n",
              "JQgPTKc9W4qbvhozJIDT0YIwPJmGZVUYNIUnHVV+UaSmii5XeHRgYL+nqp3YB88xPi2NIhhc727V\n",
              "qxBKWUyDASyIDbZ7pw8b8Qzl19WIh/vIljRXz6P7BA4io/phUqloSF1yEKpPYF+mmWZfDFv89PLf\n",
              "vU8jf/BnJINeacWK5d8XmrSIXY6G36TwNyW/wonZcR3qqa+6YWk59gPEyMPwmVhArJgWqKUSZIEE\n",
              "grYr4f8yF13t4H9qlWCYNmlAiAIi6iyoEytTmDfmAY9TLcWrz1WwfhKSfRf6VaGSE+hfjKNMkRMf\n",
              "9WZUpX5mgSKrXNKdLB6j5XfgjplLvCBEGvoZ5o0PLiTjaSdROf94PUnur2/SbeOclWchrnY7mtCf\n",
              "g0fcrZ1sPlnaJs1JQtTw9GhQxkGGOMYPvtvjFPnqqGAwCJUWZijQH2awrRQnTwWZL5fGkCG3Grox\n",
              "U6113FhBsKugoDYWaie0N2Br/dPeKGM4YmbIe+jC+vPKbCOPCWuNnNkebxy3r+fqQ10GTgLB8ss2\n",
              "4dK46zsxieb77oU9F+WdPWVpHNtgWQRtn/7Jc4XDaXEzFDuIjvMGEGk2nR4jjRlIgqZ1b4e+2EQB\n",
              "b6V3g6naNEXVNIGvzwlfODhTak8zjn9Cd4h+8hj+JlWYuJcgR1n7MrGP4CEDWnuM5ZH0KmPF0rv+\n",
              "+GjhQ0BVgFzroORqiDqrEQI+ncMr0YzkeDF7JtEVeSqvUWHd2ga4JaF6dO/2/bboX7xyVKtYs5/q\n",
              "8WyfcpDaJd3SJ+1tPvZNj9YRXpqF/cL1+yEbSEU2zan8t3DFamK7SrvAJkDpITdVuoheGibiXuN7\n",
              "gXL4T/wmTGgztx4E1jxV2Znf8yIGoujrE4gxusogLjonSCZkY8KkD+xe/NHrbXm/3mawxtmgP4EV\n",
              "SeRA4tIROQlA6abd02uOHXAc9QTnK5/A2Bjq8R+ItnriGnxm3sYcakzH+b/fU3PVbRy3XnhIcGDy\n",
              "STO/UtioQY35Gvtn5bedBr/8aexwI/oSz+v/2f5KngnwePLZzvFccRgD2+JRk9M/NvNFjt+kcCPo\n",
              "49iDaeEqW3hF8wm1ClBV7DLNDcq088ndSR6Sqb3zmLl57eJ/sPDu85WSRiEPndImpDH0M7p8yUSx\n",
              "Fw+BxAOeBRUdTDqN+qel6Oglrh1RnK7fsaJ4cJjWD09KGwNk67yXyLzV9N/yLcFrpyQNf0RJyy7I\n",
              "PJXxyL/K9IL75Bk7mv2Oh06mfFq5Ob/q+FMa9ds2xJxXiDzeHoFrGJO3GUz1l6eHYGoqZdp/C6Pi\n",
              "NuTrEzCqF5jkddMmpOlulHJSi2Cc8H+R1ctYo/UkNNtwrwTW4p4o6u6XnqrV0jI67mk8+5fO9lBr\n",
              "zF9UyOtAUof/DtkDXHdlx4bL18o/kvCzxdqcrsQqxjLZINSj0s10fXGBoLVJ3sAnGN5jVWWOCkWJ\n",
              "CaEkTE54Uzx+NI/I1floaR8WWaVv5zliuZHjzXZ107Z9XCumR6xIV59SpJvk93u2aHNcYf/62dM/\n",
              "DYhXNRkGGeVoD8QGJBcq6Xa0Jh6JP+rpo2PPDxkrN22T3n85YmdwKmxUFRk9cfshRDYLonnMyGDJ\n",
              "S9A1eW/TyHV3Kdu0Cczv3hKF5tjpox2FQR1cZQRIK9UeCV6xC+fyOciN5OA5DsEKGk3yNOcBe73f\n",
              "qc5RrU42Iz6vUFLKA1TtQx7Akw+uJvERg8i41bx3ExahEqQ6/wP7KIIDkZcgqcnOgL9GSlwWtDqy\n",
              "8hUSongcA5A1PAa0roDq6LN4qgDp+GZwqvBolU4bfoLUsOBqHCyPGfJNv7CNZ5fXwTLhNAMPdaSJ\n",
              "Q8u7eeza2IzPJJ9UvxAMgUBjuEe6qC2FIEcYEzYYCtcm6v69CblO3m+e/6fzCPp6Mu3ay9sBdBP+\n",
              "Cu2x7C8UDBbFYsWMPjkbNwPeuozFiL4E8hr7w+o8qaY7SFH5DsNRdqo0ehT2GueBRqEGQQJRzhz+\n",
              "U0VNFM+VsAtB27hK8dQPKM1aN4/DTRjC5AADtbmuxE9rRWVkqatTYmLoFk8D2wMMVA/0os2UpsRx\n",
              "OF9g3zCbdf3f6fP5saMwOWBj8bnTqCCSUC6jQBQYfzgzFziptNXaTSTdR+xq/6gp36OisugjV7ql\n",
              "L9p8s2LExVZzJsFw0f26InTTq4Y1g2dYi9RXy/BwbUePmNl/7exWIOq+ALTVBvrATy1V77Bi+EQu\n",
              "Rbu14iBBtFGAqh+hTAtJv34pGmMbjMQGSIfVuba/2Njn5OdghG4v/V7KOFz1BU5xR2gKKmMahcDh\n",
              "/P6YnW2mgfxyXopQ2JcTM9VhnInJgWXfQOkjBhb2QbyNTX4G7CsogFA9ZfQOafy4Zflz2bc8RUZc\n",
              "CysFsQyI4j7tsb8oT+6HSp/ZHJsDRBvv+bVPsn5rKjKaFlwPyVgihn+GN9avLb4Z+sgyG2B1OkBG\n",
              "QD0/9kyxVycJO4BUdQljEQesfCwQFZEAsw4rIFhl9x18oKwGuytKhg1xc82qplJBDzoS3YZfCVwd\n",
              "0/W4gKANNALqax1lnYv8JUntlGa07Uws4fZtLyFYSltJ2y8tsvKytNYpmrXjlgvrQ1WMdVxiV0ul\n",
              "tBDyZm4yNvctUVZYHgiL7hcd90LbFZmqSOdP69jW7yUvpAMhdJxBkhACAQ3n8IYQFQUTneVuY5Kv\n",
              "RCQj7Lf+MsGHRTmSqaV4PS20VJuoOEGJ2V9U8kunYLv8XqCfhPxtUSghkngf8/ZF29ZT5Px4bo1T\n",
              "6z5W+/5B9T/XoUDh2I/RFn8vAxjNdh04ovqHS0NwffihpwAIsCqjlmibEvfu2KVeL04PHgmICtt7\n",
              "y/bTNuLqBWiowWoJb6WtcpQj73qO3GGy9Yd8XanBnt73aJz679lcMp8MLaX3LXZsy1tVU16GQocY\n",
              "uC7t2jh8IlA12wrQyzjdCdzmeo9+pkfrUa7Avh76e/K/hDq47eSRgS5ALiDHAsbULhm4LcjqrGBM\n",
              "t4lP9kvQfB4Lrmqejj29/UYhzc22vKcVncQVMD0UFA9gDZ8ZyC2OPKDAeEwc0F7gKjbp0lVA/hNd\n",
              "KIebr2S5q+kZRrrf8+I0oQZwsG22Ycvya8YbrocvtaFCzOJMtjybnXkOsH7TEYBACJOMKoVuZn6y\n",
              "g8NatE/GdCWY9Kz2Hq6YdbA6eHk0qxNmOVIdhLSBxyFF8PPuAkgTFVGb7CREnncjnSGB9KIbZIh/\n",
              "edAe/l8TmDv6JyjNhOI8czT4OJIbRArDDtLTpO4eOl+oJARubOuj814qZyYH6DH7jLOzvArisYH2\n",
              "MtyImQCh9/vxcXPJMeOpCST6+VfiyB3+blXxJpdHHT005w8rtGarM1q7JTAvscl21SONvawvu5tY\n",
              "9qZLuTib60r3rPwFR1x6xNz5hqrkxL+GAVHEjl1Ipn8rxerCaMJVWYTwceacfQ7kpU27cArb9Q4T\n",
              "yv+CSrnUJVoMxfb8HoWEQmKtQzsFKm/ch6tsKMuVAHBkWGXjCqLDtdWmVBL8tJxzI4Bf46Gk1K+0\n",
              "0bCqYi139mOMdR2oA5c3T5RDLBF21wXBMSRrmDLKp/2RrC+X6IsULtTkf4YaRSedHm5UIvSuujb+\n",
              "OJqW6FvVA24Y3b7DI5rQ2Pqo3q88bCW3U83xSTw28L9EzYj9AJxLTWkTyFk/TGjGGMZyVPxSnbvH\n",
              "ZG10c9JLh3R14Q8hVuvplrAsquDppCKBRGnsFvuUv8+cMP22OW6gXrZU3fAb3LjangnihIOGQ//s\n",
              "WQS3K0B7ZOSGtD/l9xWWzM3wqp09GveXaDllMW2dI+n8VoQtat1XaBVYev39UJdYDhnqZBYHJa3i\n",
              "ozGqhtuEcNFNkz7aUMTKF+fqyU2JUF241lHuoD8wV5QMb65V8L7oDMEAhqh3cM/lkeQbX3YGHi8F\n",
              "yCMdBQ7ybEEhAZ1JTBtaw++erE8TDX7mbFYen3+HTIIqrp31uhfIpdn1/xOF0O0q7agxwYLp19U/\n",
              "naszda+aUgtBkLtRgxhY1bszPSkdlWpdy+bfWgJp/N1RfZDO+xSS3/453BPrB6sbbuDdUdiBLRkc\n",
              "6IX8WrFenQvfeGWc8u6WoyXtYYVltjpXRgsp+7v7MJAtpKHvT16y2GAXfLj9+ylgyF7ifSb6Qf7Q\n",
              "WK0l5XOniwY2wBl+rCiBJqHqgUX6J3BPhXAArpwC05uBmTaW0AXZ1iAIoNDd1jomZcpdL/8p+Ztz\n",
              "avv98pV97T/EUXGc0v7XYNkCcVXpzw6+IxTh5e21UaraFgsBXRe+VDrnzgAMt4OAPANZGdB/E4U/\n",
              "9oRd9egAEIdlxcyMUmgAmuOFXLpPvoiw8H6g7/VjqRW/qeE8TkzJBSxRE/w5MPa1HQ2HQJ5ZMuD5\n",
              "ZE6T6BN2brXxniKAc//+RI0Ma2pkeVWSZ7DCUnBCppuSgm5ACQJQ6zXTfIyx79RLuHP7lgtbrfvE\n",
              "Rln5/zVcM96kCuFwqi0WTZUzT2QcplMm7kEsBiZWTAwqbFvUCJ5go8aTPaNxIvLDLCvbPJ5UKU5b\n",
              "PaFznhQehyxAbfkfhFw32Gon3lYDdZvYkBmFjU38CYuy784jy30O/kqAx6iNiX+FFGOGQYFgGV+T\n",
              "QfJbV7HRWTwe8DeR8yma1CMLft4QpcoBy9QGN3KqefqjA5IQ/G45rfoI3vk/+4P+JAGfeVtUixJk\n",
              "fMbnjHOr0j01UMiV/S2KCzuaoDXC8KmRK/RehCmg/DCySd9SySXzhYRjL8I3L0+Bt5qL65CcmzsW\n",
              "75nQFHCkvheRPVVTHwHE49iar6hq3GH1xpiSLpwfXR8wXnFi+axDV4K8qTLvaGHVAYA77YigEMOz\n",
              "yY7rjR7hfdyee4a9ON1/u63PfJuMxeHOUsukI0psHuoIoGcqkj2vOhEetTybmF7/cOztckSi1sab\n",
              "ayaqk8gKlpFYkx6oZsCJzkSE9u0G6azODgIuu1WbU86OiOLhGK2WjhlmHqjBUifqS9WtdPFdTsha\n",
              "2t33188NbZat/oJUtavMgVlxo31260zGPpEfTx36XZO04EV+/dQqFqEBovSWNQf6WolBgxqNtiEK\n",
              "2zBiLeMJSIbg8EzwaslhWJ284AysYSVz/0rO5haNpCJHEzFNlIMYWori6otYXDJp45IYcVEqb5T3\n",
              "95O9did5ypqJT1DcbgbO6k/VJEmHbWhhnUcdmIeYsp5eG2mOWN9zNcWWrocotSqvVwNs5Ooh61jy\n",
              "Gh++5EGSK2slX50hLTt0P+uj2L4n4KJ1J/nkvyfKCmgbWRiWO6ru9d91aCU8kpqsfOrC1PSLnUwu\n",
              "RxpLLpU0VrDi9UMSTDm5QGZJyRQcI9QYhK6iRcYR+F8lJVCbBoXgZob+nRBXuYUOBTvfWRR9S/lW\n",
              "s2mTLf+vKyGtmWgChcigg7OwWeIlJUGAvHEBekJCQh+PHIy/QqHHPatbnHtYr8orGieDVNNo0oEM\n",
              "YtaF8qyO+uVaN2Oi+aHtYjnbSePjVh+wHqDfj7El/JVaYh3e5tR9Z1KilaRHS/8Cna5Hdvg1iPVt\n",
              "J3c+5bQIv+cWVMRFahgthhwk8FJajHxATQ1/wSr4rsIt5HwccTEy1Gt1PZF64QLBrrpIpAI4xe3g\n",
              "oa90yvbQSBWtM4b0rozuCz5DhyK5CtQeC2Yg6VnmeJAbwontyEFl3TaAMb4YUH2ldsATN6I9LDQ8\n",
              "KcpiioluHH+AbiGE/9uKBIw5k0Z1LuvRhcOrNzMwzNxsbAIf3QUTo2T5VkyPtfn7Wgr9hdwsprWB\n",
              "geWjobaBmwG1vr7yt2QlIcKVPInZqES3GXmWxW9EF6sp4vgQevtsFmcwVdadDzJfm2xt4CaaO96+\n",
              "aaURcNvfgdLBrQPtACZC4gsRkcu2uCgFOl3Y98Wwbq+qfhjM6LPLqh2t9XOctJzQQYFv+2bfhIfR\n",
              "XSETIC+dDjsqltrQiXjGmy4uXeNBbPOyr6cTd9pHfYB44oZmNHIaUKrol2Q5yl/JhWvQbPu4HJ+r\n",
              "8kI/szSxW3OWYNUBW1tqROf2Y+lAPcNapQS+hJ74WhoVmMupuUbfXB/rhaBxdOQAytfs37TDYceE\n",
              "8EgLKD7yc7x3ksKNoo12TYqSglMfhHPkzVWk9nfTklLz3Ku5iBKg2rLtCx6SM8uKrNrSJqo+jnq+\n",
              "hHXA0ES2iN7/bJPDBd4UKNT5i2kCJrNWT7Ignzmr+U7MM4/IziWmjvdbwVbLmx1OaGT64HCYJAdL\n",
              "uTbonZ+Hbrl7h/I65IG1IWQAVmwDGuaD+L+Q1X6TgLjN7k+mM0ftTLVl/PoI8D0F3ZDNubmNAlH5\n",
              "P7SttUsLifXK18N6L7J2MgKoHgh/CvbecDrrba/Fu4h53FXhOHIpSgDJco2qGsJDf/9vTH1Oqn9r\n",
              "Ju6lRTV/h0FMdwqlhxnWISte1IvlX6xdp8lu3Bord7iNQBh2O20FyYS5QRjgC55LUzXzfMWF2cfh\n",
              "+T/OnTXuArKsNJIoFk1frAHEgGj/k72LgpcQu0RNFcN/57vsmND6xEkvt4hAKV8Gn3TNnjklKLcL\n",
              "D9Exk9JSN2KBOSTSsSIUu06pYSD3JDf5MdxQvGvrJ6+suX8AztFiNrdnLF6f/Zg7ZW9oo81IlpCu\n",
              "a6LnXOmZzxs/19/JBnLmbmFBMEl6Fdb9VPILfwnompnOGqxD3rN+MsD9S/iW0jt4fNqn72MJQ8i+\n",
              "9fEqUoQDBEGBcsx7HH2UaW6r8wR5fVLTH0rnA8epbGwEj5o7Hf9GFF0svnrLY7/CcDACWEyfHF7J\n",
              "uiZmI/JwFauBAAADa0GaImxC//6MsBzcTk5z4AeykO/0G2QDWqi/hcjUMSVj+XIXovUOPaWGhX9+\n",
              "Y8rwZgYATyTQKKoNFutJot9TK54Yxq05MzCIdokG+VIr6LShG9H7LAy/2Xnc61kmzCsue4xry3AL\n",
              "fbGYH4P6f4jo+YsyCaPKoQdo8lfiMp9uzyvlUKo611wjzqNMRS6zGDb5PyDqKhp+SeLxh+OolEqE\n",
              "DOizkK+92lv3eLfXUb5VAPRvGl03Z7TP2hR41bz6ufPnUXz/Ecs7h80jJrgr+IjTGC6aJVKkepnW\n",
              "x+DoY0FsSubS7Yw4Of1mzRCVxYCjj+YbBTqOaK70WFEL3AHRvl9/u/d5bBlhAAU9ZkAfLPQ7Radn\n",
              "QQVZGy2jj0CnLrErjrSMPNz93anBk9YwZ3HTCumtSkyH/81fYqOc8p6g6VuAWrc0kcOSoCn8wtpP\n",
              "rBOygf5PO8AppecCaYnWSOLnRyRP0IxwCu5BVOEtgTE70XTyv7N0IMq5tZpytH5yEtBeH2lkLde/\n",
              "XtkT9PXW28OsBxc437eHKu8/a3M24jdFGyaL8Ffp2HYl+E244nY5SvHNf/sBJ0wfm6ImAzz11gKB\n",
              "93wT8qJQIjkRqlxk/dUo0TFq1xnzFCk3BwoFE/pw2WfoOlUN7a1fq2eCetl/jaweasO9/9yY/+7Q\n",
              "kdNR9Pl/dkutjzA8RWX+D45vzc+eh09V25D5vNuBL7pVaL6k4rPQjVmYKSVt4FuBAdZT7sWTtbq5\n",
              "tqTwSwQVPds6tj9v7socfeMkghjyMN3yq4KU9yPS4LFyjFXu12pAqoRzVa04tXcNR6mX8vJ4yW+4\n",
              "2/SITRDH24Sf7hPeMtNtJlxmheis2Uoy5Zk3hfpka0Rcm8hnxzAtb6zAYP4Zkuzdlxc5zUeLb/t5\n",
              "MAHcY5JUqiQQ95O1GCqyn2COvn0OslLzOkrRU3bBO1x2hxeIvJrCfhag1ImaccRzklsH4qtwVfDr\n",
              "rW939H2BPZyNkvDZtl2UGE154YIPq/oh5OoQRpdZ/IYuOxYaLGXwRBEEIPhhrlsuGBf9WzsrHJc6\n",
              "nJFNcCjQrt7hrgOWNin0wVMFrzK5JIQQLvN9iksKFep1/T/Zpx/eNEQFXO/wjLalDuNrpM9hvtmA\n",
              "y3NVh8swGvKr49+Gn77ek3zhCvnqNVv3Br+rvh0nq0bEAAAAWwGeQXkf/wfrvFIPqfZbvoRH2psS\n",
              "MrLT7xqbfYnp4mtnk8f5JKZ2A9Z8XYNrWZmSF2prWmBMHadH3FLRcWwGfZ9kxABa5kSZO3NUPkrp\n",
              "ZJtEhoBDXYXXUjSeKCEAAAD1QZpEPCGTKYQv//6MsITicnOfAD2SYdrKsJ7LgKN3YpqLubQIAWq9\n",
              "gthxr+X7ofH2D7gfJp8UgSfwgELRRtP+oXcsAfLMZ7qClbwhGiIR78Eaj8C7Y8rzThMV5w1yGMNV\n",
              "JSw3TPQWOcvCXakGmOurK/phMToY6e7KNJP8zP7q8+25XPXCXPVdsxqMdJMJfqXc/P7ktDFO0d8Q\n",
              "1eIH4fHNv3BTCaDAlUHw9vL9MJLS9WaWN5ZLyT+cT1BYbKXUH+uo1nbImLJEWZ0FB3+gcD1C4RQp\n",
              "0X4n1WfcuAbSDA+d3wXZyWyonnH0imtVFA32DRMg+Rzo3+EAAAA7AZ5jakf/B+SKMopKpN8Vgc5C\n",
              "md27dCFi44hnmSirCoJiRnJuCrq33Ev3Ny4DKCNHl9dXCNfVMAyYHkEAAACzQZpmSeEPJlMFPC//\n",
              "/oywFR3NBrU5XMLNjqX0trLEe2sY01VgZQgHH45ht96PTt2JA6nnmI3LBlN4vRoFYuQNLjAoPNBx\n",
              "Uo/Jpi//l73C0T05vRFi/NlJ3cu6QVTtpZ20STXMe8/pDV74LW9/3jbPPCF+eOhcS3JZnf/dd1Kp\n",
              "lqH4p8QVCGAznJxppfueS15D8xgIhcQ1iQTCOajGidhzmdj5AkqF2sCYD1wP2dwi8SZv3S0AAAAr\n",
              "AZ6Fakf/BPJIiOrrzdKashA/XeRogdcMO0AN08hj97meSd0yTyiv+eiYEwAAAPVBmopJ4Q8mUwIV\n",
              "//44QAAMPugGgIEwHV7we7gbIcIy/YyvC6wCq3QTOzrcvlPxxeyhB0MwfqW/d4hr+8Div4A4SKSs\n",
              "0lHfU3rNPEdrqbZ5OOuY0Kv3iDfElORu/WEgYzV0aZC8/3iD7s8fpdR1LRWy1KxVrsR17HxiX+M4\n",
              "yXggmdxRzkDjiFYe8hlGnu1FWECRAdrxC7Smm2rCHe4CVFBf/56nh3uSiHW0tSCrqTNUvU/tzIPq\n",
              "ESDgVpUfDjt8MhKL97Oq3vzv+pKkTWOJMnG9tTHyc6xeWShDk0N/I748/goP3BJkNy6ScCowmRQP\n",
              "17cz4R4quQAAADBBnqhFETwj/wDc3Hmuqo5r20x1S5ZAdZrEQqBHUAB+JHyMn5Md5BR1BDbrF9u6\n",
              "aR0AAAAgAZ7HdEf/ALWKTbhWmaMv7gAtwRg/MXgtyxDRiFPFi8wAAAAfAZ7Jakf/ALXmEwgum+YO\n",
              "kpcQALqJWZnKsKWzhv+QXwAAAG9BmstJqEFomUwIX//+jLAABgHp0AE7pRhCUqHfONp0RJvggtzA\n",
              "xC0lt4f7XDrGyb1+ot5327mF41KGz7aJai/GVu3FyEZy92Z8OAH6w6Fnb3SBuonUpV1RyzFrbQns\n",
              "493zQMJwhRTXIzdnCsEsNcAAAABiQZrtSeEKUmUwURLC//6MsAAGAd22ASa4kLLqht2N2me8rHRl\n",
              "A69QMbmCZdoJVAqJ8aro3afmpOs5TkoqRd5id4gxbJh+mifkIpZjrRZLQiy16MhUeJ4Z9KBQFGNB\n",
              "n5yZrUgAAAAZAZ8Makf/AHFCeI+xYt59cL4QfOJd0Nk5VQAAAJFBmxFJ4Q6JlMCF//6MsAALtoQO\n",
              "ATShW9PiSFNAO0CGDhiY5p/+UVnbEOUnVmSvvOB3s26U6TwbTD38/rFixN5pzZFc2Bty/+A92f7b\n",
              "cp/mA0MknQv4+ulBTINats+cvCNbCvsYjFh0h4sosgGIa+IaHoqm3lAr+bJ2kNBuOnUs/rdUy5p1\n",
              "PPuqw05GwOdbM+vhAAAALkGfL0UVPCP/ANzcea6phaI4uYjPmiMigSYAcWD+0zL0O0dDR6ClA5CU\n",
              "jAUj2+sAAAAhAZ9OdEf/ACOsQuvk27SABMepsUCPsIDa2dKOmIz049tKAAAAIAGfUGpH/wAjvx+3\n",
              "950gAtaw96nJN8xGwPZIeJ/PuivUAAAAXUGbVEmoQWiZTAhf//6MsAALtnm8AJ3Sdw8FhElR1/ST\n",
              "EnJB0ZDP/VK/t/D12KqK3dzMKNEi2pb8fBi50uBQ6VA7Vm8QOmhgGHDFp4OyD8sxMtYvIXLs5JEN\n",
              "I0qDgQAAABxBn3JFESwj/wCTFQgZlTfWd2ytNhHdSGdV2w/wAAAAGgGfk2pH/wAjvx+8xowaACZZ\n",
              "/tGwc9Iw4uwCAAAAWkGbmEmoQWyZTAhX//44QABY92+rodFfAFtdHaUa2ocOO26LsdDbED72Rgas\n",
              "E7OAW+Aw5bSperjJPrejp9aS097tMLbI3Cf+Loxd119X4ZIZZC+kbgM7v0rxgQAAAC5Bn7ZFFSwj\n",
              "/wDc3HuawuR7zCd86tmi7udAC1lGwZt3CwNG42tw1Lb3YNyzMT5gAAAAHwGf1XRH/wAjrEWB52TT\n",
              "KQAreE4/599h9BpD85fQ+GEAAAAfAZ/Xakf/ACO/IT8sawAcbtP9Ru16keDAvY94v+DLgQAAAE5B\n",
              "m9lJqEFsmUwIV//+OEAAWHF5tALWdyVpt9fMHMR/UXc1UWTOPGP38lyVPSvOsBmWvbQ/FeEj87wl\n",
              "XP8i9N0+UnS8DbMNn7pj4y6mlYAAAAApQZv6SeEKUmUwIX/+jLAAFtciq3XUkQA50RwBQOkzA9RD\n",
              "NBqY5fnyJuEAAACCQZocSeEOiZTBTRML//6MsAAtv6Fa36lCZbExXC8JgbwOO9JBvz0Ikcq7PU39\n",
              "z+2IF1x10xEdVHt5GToJp7q7TYIF4+yJ2oxdGc9Gy/oPsY0HltNpahoC5vfTyuqmB+PbIgg73ytV\n",
              "N+TnbI99enasJaVarhxwCWn8rU7V06ZJeOWupwAAACIBnjtqR/8AcUJ4j7Fi3pOWgrTKUgAXFX8H\n",
              "vTssFo5Ut4elAAAAVkGaP0nhDyZTAhf//oywAC286WsIl1KEtH97y9nfwgD3VwQHSsgLU/AIIQW5\n",
              "IhsWpNyZ8iau6duAiwKdAa6HkDZLAWTyAlnAczhJUhBBGWIo5TjL53LPAAAAKEGeXUURPCP/AJEo\n",
              "qWQ1DFsr5rnEndAfDrbABF+rMUMejS2447OvbzwAAAAeAZ5+akf/ACO/J8FLdRkgA3DNKl3FugX1\n",
              "Q/Jsv5CsAAAAV0GaYkmoQWiZTAhn//6eEABYcq1wEKt2rNAWDdO6Be6VhnTaEctGR1MUZtby3kyB\n",
              "OqTl2x/t8hBqaINr6leVFH729E9crkHWMnCShUyIzEzatLH0TonYgQAAAClBnoBFESwj/wCTFQgZ\n",
              "lTfXutOte+RAygAlR8bDGRine99Mnw54/rZdoAAAAB4BnqFqR/8ALYQa8TAdpAAtrlRbesXS3l/b\n",
              "MUuQhEUAAAA4QZqmSahBbJlMCGf//p4QAFhs00ShwBHvXYSOScSW6DEY42dEp1scXX62L9GnQnKN\n",
              "OPKwbOQMGUMAAAApQZ7ERRUsI/8A3Nx7msLke8wo3VajGwBEuRb5/nHA5I/Ysi2dbb7QpIEAAAAY\n",
              "AZ7jdEf/AC6eMY6DAzReeM6gA6uOr4aXAAAAIAGe5WpH/wAuiFQHbLACMINZ6oFh22wvYBLlcacx\n",
              "rxRtAAAAZkGa6kmoQWyZTAhn//6eEACKpA4mY+kAVqlwqTjhqPo+D1NUtYRda08r0cWPH0dzRaBC\n",
              "AiK2Dn6QM9QPHY/fwXJ1dM5Xi8pEZWCRqH2mYwYexIpmpyLARyHoXyE6KPU44Z+/9nwrYQAAACRB\n",
              "nwhFFSwj/wDc3HuawuR7zCjYiq18f2W2VWyIUHnFgn7Mp8cAAAAcAZ8ndEf/AC1kEmAFvFzJKVmr\n",
              "1PIoCfV9pYsO4AAAABQBnylqR/8ALEpHJP+RipsW8wqbgQAAAEJBmy5JqEFsmUwIZ//+nhAAWHHa\n",
              "UAOL9K5IvqT2HFEWGr0vIzje2L5y3/sAb4JVN5yrZF/2PLrxdzp6IHdb1Cg0K2AAAAAfQZ9MRRUs\n",
              "I/8A3Nx7msLke8wonWYAezWSHD8NkysSfAAAABIBn2t0R/8ALF628MBPL0zXRvkAAAAQAZ9takf/\n",
              "ACxKRyTZy6YNLQAAAD5Bm3JJqEFsmUwIZ//+nhAAWJhEzgCIWkM6uoDVB4r374FjyiadWnWnGi7D\n",
              "x/l1YM3PfZWufC+oHrmBodiE4QAAABxBn5BFFSwj/wDc3HuawuR7zCimZriz8lYfSuCQAAAADAGf\n",
              "r3RH/wAADI4WhQAAABcBn7FqR/8ALWmYUUkAK0Ji+13UOUuouQAAAF1Bm7ZJqEFsmUwIZ//+nhAA\n",
              "WHG44Aba1WkDbNQsVdeXCOgc3vm7OyaM2Z6uSkYjZI8v+jbDIeOiamX2ARCMSIjzPksubRaIMYtL\n",
              "tJSc5byNRIr+WneAYaNntqEcH+AAAAAeQZ/URRUsI/8A3Nx7msLke8wo2JkK5eOxW7y9x80QAAAA\n",
              "FgGf83RH/wAtZBJgBbbR2XbatIyM3QMAAAAOAZ/1akf/ABa1AClH3kEAAABNQZv6SahBbJlMCGf/\n",
              "/p4QAFjCBezFgBYLNL0WS36x1XFrRs3a1HUobaC1/mH8xO9mCMwZqindJwkiQbr2wHTipiFfjKo3\n",
              "BF8MrK2uhL0AAAAnQZ4YRRUsI/8A3Nx7msLke8woyeEusACVHyGoEEgdxXmvJiJWuU1hAAAAHAGe\n",
              "N3RH/wAunmKXQAJ2l/rPnWiJHED/ZWn4duAAAAAaAZ45akf/AC6J1qSACZQhQnSt9q+4niC3Bp0A\n",
              "AABBQZo+SahBbJlMCGf//p4QAFh1fzgCt6MJMc6+VOFnDZU2FHDv56ilXf8O971B5X2yJVV2gHsg\n",
              "oI/HFTLeGglgW0AAAAAqQZ5cRRUsI/8A3Nx7msLke8wot+6pmNgBs3gH5QHP05WUuLT9ze5nvzZN\n",
              "AAAAFAGee3RH/wAtUOO8rzDN8FwUD5GRAAAAEwGefWpH/wAteaxz1NthrzhuFOAAAAA6QZpiSahB\n",
              "bJlMCF///oywAFlsGDYAA2/yBcepmUc7kC1CO7Pqg/fYyvPz0taqBallcVlULghqVwwYEAAAACVB\n",
              "noBFFSwj/wDc3HuawuR7zCje/+ABJDLorvQv9OVjgYKLfXARAAAAEwGev3RH/wAtYuSvNYthxJFY\n",
              "RmAAAAAbAZ6hakf/AC16eiACZnuodCWFg2hw409fZ3mdAAAAY0GapkmoQWyZTAhf//6MsABZMdtg\n",
              "DiioyuQz7QWZ5UjGlxgTtnVhNego/nMW7Zulcqc00djjzVLNl8Kh4CpMgbzJSFwHIj0qIyztpjTW\n",
              "nH2LmBMcy5I5Ej/renI+iq7vRowpoAAAACxBnsRFFSwj/wDc3HuawuR7zCjYxJcAA1W3T0lk9jdI\n",
              "xWmHPiRu6JKJGodb3QAAACABnuN0R/8ALXGbjA7SQAaCkVHSxisF2AThfeNgBV7qyQAAABEBnuVq\n",
              "R/8AAN/7nkwpt4BaQQAAADtBmupJqEFsmUwIX//+jLAAVyvOpDgAsOrgZnLTp8+HwWH5WQ9/D+JC\n",
              "QGSbUG8i3q73HUz+IiuwKVmEHQAAACZBnwhFFSwj/wDc3HuawuR7zCiY8TjgBIeiapOwFmecS3U6\n",
              "XvN0wAAAAB8Bnyd0R/8ALC4s7M2TACw4S95QrKKGXroHEa6HY7cEAAAAEQGfKWpH/wAA3/ueTCm3\n",
              "gFpBAAAAJEGbK0moQWyZTAhf//6MsABW8ZkAFtoAhd6ZoHQDGSy/WzMIOAAAAFBBm09J4QpSZTAh\n",
              "f/6MsABW9P+AEamkZsn1w84zNu6q5zS/k3oiUlz6S2vevdTFI3V2W3P/GqMZp5LhhSILzFZIXd34\n",
              "Ug4heUDkkuq1KIYMWAAAAC9Bn21FNEwj/wDc3HuHveyGwp3EvHI4JKrAnJIAbrvN1SnCAmLj1dqk\n",
              "l7F9YIvdmwAAABcBn4x0R/8AK7VCCXgImLLhLfBdTZpGYQAAABYBn45qR/8AK7VIqKpozse1wGpf\n",
              "3QKdAAAAaEGbkUmoQWiZTBTwz/6eEACsY3HBX+uIDtCi8mdiCJWgCWMEv6xG7k8NXtAAx2T6IJky\n",
              "O2LXMbtm5RYjb7KAwEnn1/gGZuMplx8AObh5Pj0y/Mm0NcnVsCYsdtX43f6vUJfVhPhcYIeAAAAA\n",
              "IgGfsGpH/wDod8hUcCny9U0PSQAJxevFVXGDYOY44kM+uKgAAAAsQZu1SeEKUmUwIX/+jLAAqVQZ\n",
              "3cgBXsw40595ilVObx3Xd6j2ZA3xmz+hgjcAAAAmQZ/TRTRMI/8A3Nx7h73siBFk3h91vh9wABIa\n",
              "JTQH51HONQ4zzfMAAAAUAZ/ydEf/AFYcYNiAmLO2HFyuwKcAAAARAZ/0akf/AADf+55MKbeAWkEA\n",
              "AAA5QZv5SahBaJlMCF///oywAKk0Q65pS0YARgYA1kye3YqnyIannebg6YUAVxYT2V1GSVFsSYZM\n",
              "0DugAAAALEGeF0URLCP/ANzce5rC5H2uloAFrfk9adVtizc9dGlKN+WgU6FjcBGF/NnxAAAAFwGe\n",
              "NnRH/wBV7iM/Sj+QjZSTgwXaZArBAAAAFAGeOGpH/wBWUwGIRuTadOg5KyliAAAANkGaPUmoQWyZ\n",
              "TAhf//6MsACpsXXuAAHFoAsZj+zWkrh7aXXrruM7gprpg3I44O5Oo9aPJmgd0QAAACdBnltFFSwj\n",
              "/wDc3HuawuR9pHQAA49iDYBCDAuVrguIkZWTv9l50EAAAAARAZ56dEf/AADf+55MSwHIXxEAAAAV\n",
              "AZ58akf/AFZzHyR6qRKcFILB2K2RAAAAK0GaYUmoQWyZTAhP//3xAAZFSnwA3WTG9RjzYgtI9Qq7\n",
              "nX5Dtirg0LHIVUAAAAAeQZ6fRRUsI/8A3Nx7msLkfaO1eL/8oZw9AoKLgnGkAAAADAGevnRH/wAA\n",
              "DI4WhQAAAAwBnqBqR/8AAAyUoEsAAAATQZqjSahBbJlMFEx//IQAAAMBswAAABUBnsJqR/8A6HfI\n",
              "VGryLE3CudnhIuAAAAe+bW9vdgAAAGxtdmhkAAAAAAAAAAAAAAAAAAAD6AAAB9AAAQAAAQAAAAAA\n",
              "AAAAAAAAAAEAAAAAAAAAAAAAAAAAAAABAAAAAAAAAAAAAAAAAABAAAAAAAAAAAAAAAAAAAAAAAAA\n",
              "AAAAAAAAAAAAAAAAAgAABuh0cmFrAAAAXHRraGQAAAADAAAAAAAAAAAAAAABAAAAAAAAB9AAAAAA\n",
              "AAAAAAAAAAAAAAAAAAEAAAAAAAAAAAAAAAAAAAABAAAAAAAAAAAAAAAAAABAAAAAAbAAAAEgAAAA\n",
              "AAAkZWR0cwAAABxlbHN0AAAAAAAAAAEAAAfQAAACAAABAAAAAAZgbWRpYQAAACBtZGhkAAAAAAAA\n",
              "AAAAAAAAAAAyAAAAZABVxAAAAAAALWhkbHIAAAAAAAAAAHZpZGUAAAAAAAAAAAAAAABWaWRlb0hh\n",
              "bmRsZXIAAAAGC21pbmYAAAAUdm1oZAAAAAEAAAAAAAAAAAAAACRkaW5mAAAAHGRyZWYAAAAAAAAA\n",
              "AQAAAAx1cmwgAAAAAQAABctzdGJsAAAAs3N0c2QAAAAAAAAAAQAAAKNhdmMxAAAAAAAAAAEAAAAA\n",
              "AAAAAAAAAAAAAAAAAbABIABIAAAASAAAAAAAAAABAAAAAAAAAAAAAAAAAAAAAAAAAAAAAAAAAAAA\n",
              "AAAAAAAAGP//AAAAMWF2Y0MBZAAe/+EAGGdkAB6s2UGwloQAAAMABAAAAwGQPFi2WAEABmjr48si\n",
              "wAAAABx1dWlka2hA8l8kT8W6OaUbzwMj8wAAAAAAAAAYc3R0cwAAAAAAAAABAAAAZAAAAQAAAAAU\n",
              "c3RzcwAAAAAAAAABAAAAAQAAAxBjdHRzAAAAAAAAAGAAAAABAAACAAAAAAEAAAMAAAAAAQAAAQAA\n",
              "AAABAAADAAAAAAEAAAEAAAAAAQAAAwAAAAABAAABAAAAAAEAAAUAAAAAAQAAAgAAAAABAAAAAAAA\n",
              "AAEAAAEAAAAAAQAAAgAAAAABAAADAAAAAAEAAAEAAAAAAQAABQAAAAABAAACAAAAAAEAAAAAAAAA\n",
              "AQAAAQAAAAABAAAEAAAAAAIAAAEAAAAAAQAABQAAAAABAAACAAAAAAEAAAAAAAAAAQAAAQAAAAAC\n",
              "AAACAAAAAAEAAAMAAAAAAQAAAQAAAAABAAAEAAAAAAIAAAEAAAAAAQAABAAAAAACAAABAAAAAAEA\n",
              "AAUAAAAAAQAAAgAAAAABAAAAAAAAAAEAAAEAAAAAAQAABQAAAAABAAACAAAAAAEAAAAAAAAAAQAA\n",
              "AQAAAAABAAAFAAAAAAEAAAIAAAAAAQAAAAAAAAABAAABAAAAAAEAAAUAAAAAAQAAAgAAAAABAAAA\n",
              "AAAAAAEAAAEAAAAAAQAABQAAAAABAAACAAAAAAEAAAAAAAAAAQAAAQAAAAABAAAFAAAAAAEAAAIA\n",
              "AAAAAQAAAAAAAAABAAABAAAAAAEAAAUAAAAAAQAAAgAAAAABAAAAAAAAAAEAAAEAAAAAAQAABQAA\n",
              "AAABAAACAAAAAAEAAAAAAAAAAQAAAQAAAAABAAAFAAAAAAEAAAIAAAAAAQAAAAAAAAABAAABAAAA\n",
              "AAEAAAUAAAAAAQAAAgAAAAABAAAAAAAAAAEAAAEAAAAAAQAAAgAAAAABAAAFAAAAAAEAAAIAAAAA\n",
              "AQAAAAAAAAABAAABAAAAAAEAAAMAAAAAAQAAAQAAAAABAAAFAAAAAAEAAAIAAAAAAQAAAAAAAAAB\n",
              "AAABAAAAAAEAAAUAAAAAAQAAAgAAAAABAAAAAAAAAAEAAAEAAAAAAQAABQAAAAABAAACAAAAAAEA\n",
              "AAAAAAAAAQAAAQAAAAABAAAFAAAAAAEAAAIAAAAAAQAAAAAAAAABAAABAAAAAAEAAAMAAAAAAQAA\n",
              "AQAAAAAcc3RzYwAAAAAAAAABAAAAAQAAAGQAAAABAAABpHN0c3oAAAAAAAAAAAAAAGQAADUUAAAD\n",
              "bwAAAF8AAAD5AAAAPwAAALcAAAAvAAAA+QAAADQAAAAkAAAAIwAAAHMAAABmAAAAHQAAAJUAAAAy\n",
              "AAAAJQAAACQAAABhAAAAIAAAAB4AAABeAAAAMgAAACMAAAAjAAAAUgAAAC0AAACGAAAAJgAAAFoA\n",
              "AAAsAAAAIgAAAFsAAAAtAAAAIgAAADwAAAAtAAAAHAAAACQAAABqAAAAKAAAACAAAAAYAAAARgAA\n",
              "ACMAAAAWAAAAFAAAAEIAAAAgAAAAEAAAABsAAABhAAAAIgAAABoAAAASAAAAUQAAACsAAAAgAAAA\n",
              "HgAAAEUAAAAuAAAAGAAAABcAAAA+AAAAKQAAABcAAAAfAAAAZwAAADAAAAAkAAAAFQAAAD8AAAAq\n",
              "AAAAIwAAABUAAAAoAAAAVAAAADMAAAAbAAAAGgAAAGwAAAAmAAAAMAAAACoAAAAYAAAAFQAAAD0A\n",
              "AAAwAAAAGwAAABgAAAA6AAAAKwAAABUAAAAZAAAALwAAACIAAAAQAAAAEAAAABcAAAAZAAAAFHN0\n",
              "Y28AAAAAAAAAAQAAACwAAABidWR0YQAAAFptZXRhAAAAAAAAACFoZGxyAAAAAAAAAABtZGlyYXBw\n",
              "bAAAAAAAAAAAAAAAAC1pbHN0AAAAJal0b28AAAAdZGF0YQAAAAEAAAAATGF2ZjU3LjgzLjEwMA==\n",
              "\">\n",
              "  Your browser does not support the video tag.\n",
              "</video>"
            ]
          },
          "metadata": {
            "tags": []
          }
        }
      ]
    },
    {
      "cell_type": "code",
      "metadata": {
        "id": "j_zfFTxFvx3c",
        "colab_type": "code",
        "colab": {}
      },
      "source": [
        ""
      ],
      "execution_count": 0,
      "outputs": []
    }
  ]
}